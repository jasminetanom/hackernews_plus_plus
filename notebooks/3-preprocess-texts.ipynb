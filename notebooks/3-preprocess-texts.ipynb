{
 "cells": [
  {
   "cell_type": "code",
   "execution_count": 93,
   "metadata": {},
   "outputs": [],
   "source": [
    "from joblib import Parallel, delayed, cpu_count\n",
    "\n",
    "import psycopg2\n",
    "\n",
    "import pandas as pd\n",
    "import pandas.io.sql as sqlio\n",
    "\n",
    "import funcy as fp\n",
    "\n",
    "import re\n",
    "\n",
    "from bs4 import BeautifulSoup\n",
    "\n",
    "from textacy.preprocess import preprocess_text, replace_numbers, replace_phone_numbers, replace_urls\n",
    "\n",
    "import nltk\n",
    "from nltk.stem import WordNetLemmatizer \n",
    "\n",
    "import spacy\n",
    "from spacy.lang.en.stop_words import STOP_WORDS\n",
    "\n",
    "from multiprocessing import Pool\n",
    "import numpy as np\n",
    "\n",
    "import pattern3\n",
    "\n",
    "import gensim\n",
    "from gensim.corpora import Dictionary\n",
    "from gensim.models import CoherenceModel, LdaModel, LsiModel, HdpModel, LdaMulticore, TfidfModel\n",
    "from gensim.models.wrappers import LdaMallet\n",
    "from gensim.similarities import Similarity, MatrixSimilarity, SparseMatrixSimilarity\n",
    "\n",
    "# import pyLDAvis.gensim\n",
    "import matplotlib.pyplot as plt\n",
    "\n",
    "from gensim.test.utils import get_tmpfile\n",
    "from gensim.matutils import hellinger\n",
    "from gensim.utils import to_utf8, tokenize\n",
    "from gensim.models.phrases import Phrases, Phraser\n",
    "from gensim.parsing.preprocessing import strip_tags, preprocess_string, remove_stopwords, strip_punctuation, strip_multiple_whitespaces, remove_stopwords, strip_numeric, strip_non_alphanum\n",
    "\n",
    "import pickle"
   ]
  },
  {
   "cell_type": "code",
   "execution_count": 2,
   "metadata": {},
   "outputs": [
    {
     "name": "stdout",
     "output_type": "stream",
     "text": [
      "CPU times: user 660 ms, sys: 1.04 s, total: 1.7 s\n",
      "Wall time: 10 s\n"
     ]
    }
   ],
   "source": [
    "%%time\n",
    "\n",
    "conn = psycopg2.connect(\"host=localhost dbname=postgres user=postgres\")\n",
    "\n",
    "contents_df = sqlio.read_sql_query(\"SELECT id, all_text, article_content FROM bq_all LIMIT 20000\", conn, index_col='id')"
   ]
  },
  {
   "cell_type": "code",
   "execution_count": 4,
   "metadata": {},
   "outputs": [
    {
     "name": "stdout",
     "output_type": "stream",
     "text": [
      "CPU times: user 211 ms, sys: 156 ms, total: 366 ms\n",
      "Wall time: 372 ms\n"
     ]
    }
   ],
   "source": [
    "%%time\n",
    "\n",
    "contents_df[\"all_text\"] += contents_df[\"article_content\"]"
   ]
  },
  {
   "cell_type": "code",
   "execution_count": 12,
   "metadata": {},
   "outputs": [],
   "source": [
    "test_series = contents_df[\"all_text\"].head(10000)"
   ]
  },
  {
   "cell_type": "code",
   "execution_count": 13,
   "metadata": {},
   "outputs": [],
   "source": [
    "def iter_series(series):\n",
    "    extracted = 0\n",
    "    for doc in series:\n",
    "        yield doc\n",
    "        extracted += 1\n",
    "        \n",
    "def pool_iter_series(series):\n",
    "    pool = Pool()\n",
    "\n",
    "    series = iter_series(series)\n",
    "\n",
    "    pool.close()\n",
    "    pool.join()\n",
    "    \n",
    "    return series"
   ]
  },
  {
   "cell_type": "code",
   "execution_count": 14,
   "metadata": {},
   "outputs": [],
   "source": [
    "# Define function to escape HTML characters, if any:\n",
    "def strip_html(text):\n",
    "    soup = BeautifulSoup(text, \"html.parser\")\n",
    "    return soup.get_text()\n",
    "\n",
    "# Define function to replace contractions in string of text, if any:\n",
    "def clean_text(text):\n",
    "    text = strip_html(text)\n",
    "    return replace_numbers(replace_urls(preprocess_text(text, fix_unicode=True, no_accents=True, no_contractions=True, lowercase=True, no_punct=True, no_currency_symbols=True), replace_with=' '), replace_with='')\n",
    "\n",
    "def tokenize_text(text):\n",
    "    return list(tokenize(clean_text(text.replace('/n', ' ')).replace('.com', ' ').replace('.org', ' ').replace('.net', ' ')))"
   ]
  },
  {
   "cell_type": "code",
   "execution_count": 15,
   "metadata": {},
   "outputs": [],
   "source": [
    "STOP_WORDS = list(STOP_WORDS)\n",
    "STOP_WORDS.append('http')\n",
    "STOP_WORDS.append('www')\n",
    "\n",
    "def lemmatize_words(words_list):\n",
    "    wnl = WordNetLemmatizer()\n",
    "    return [wnl.lemmatize(wnl.lemmatize(wnl.lemmatize(word, 'a'), 'v'), 'n') for word in words_list if len(word) >= 3]"
   ]
  },
  {
   "cell_type": "code",
   "execution_count": 16,
   "metadata": {},
   "outputs": [],
   "source": [
    "def pool_imap(function, generator):\n",
    "    pool = Pool()\n",
    "\n",
    "    result_generator = pool.imap(function, generator)\n",
    "\n",
    "    pool.close()\n",
    "    pool.join()\n",
    "    \n",
    "    return result_generator"
   ]
  },
  {
   "cell_type": "code",
   "execution_count": 17,
   "metadata": {},
   "outputs": [],
   "source": [
    "def get_phrases(doc_stream):\n",
    "    return [word for word in trigram[bigram[doc_stream]] if len(word) >= 3]"
   ]
  },
  {
   "cell_type": "code",
   "execution_count": 18,
   "metadata": {},
   "outputs": [],
   "source": [
    "def save_pickle(file_name, object_to_pickle):\n",
    "    with open(file_name, 'wb') as f:\n",
    "        pickle.dump(object_to_pickle, f)\n",
    "        \n",
    "def load_pickle(file_name):\n",
    "    with open(file_name, 'rb') as f:\n",
    "        unpickled_object = pickle.load(f)\n",
    "    return unpickled_object"
   ]
  },
  {
   "cell_type": "code",
   "execution_count": 19,
   "metadata": {},
   "outputs": [],
   "source": [
    "def do_preprocess_step(iterable_input, function, file_name):\n",
    "    docs = pool_iter_series(iterable_input)\n",
    "    processed_docs = pool_imap(function, docs)\n",
    "    docs_list = list(processed_docs)\n",
    "    save_pickle(file_name, docs_list)\n",
    "    docs_list = load_pickle(file_name)\n",
    "    return docs_list"
   ]
  },
  {
   "cell_type": "code",
   "execution_count": 20,
   "metadata": {},
   "outputs": [],
   "source": [
    "def get_bow(tokens):\n",
    "    return dct.doc2bow(tokens)"
   ]
  },
  {
   "cell_type": "code",
   "execution_count": 28,
   "metadata": {},
   "outputs": [],
   "source": [
    "def train_and_save_gensim_model(model_type_str, corpus, file_name='model_300.model', num_topics=None):\n",
    "    if model_type_str == \"tfidf\":\n",
    "        model = TfidfModel(corpus=corpus, id2word=dct)\n",
    "    elif model_type_str == \"lsi\":\n",
    "        model = LsiModel(corpus=corpus, num_topics=num_topics, id2word=dct)\n",
    "    elif model_type_str == \"lda\":\n",
    "        model = LdaModel(corpus=corpus, alpha='auto', num_topics=num_topics, id2word=dct)\n",
    "    elif model_type_str == \"hdp\":\n",
    "        model = HdpModel(corpus=corpus, id2word=dct)\n",
    "    model.save(file_name)\n",
    "    return model"
   ]
  },
  {
   "cell_type": "code",
   "execution_count": 29,
   "metadata": {},
   "outputs": [],
   "source": [
    "def transform_tfidf(bow):\n",
    "    return tfidf_model[bow]"
   ]
  },
  {
   "cell_type": "code",
   "execution_count": 284,
   "metadata": {},
   "outputs": [],
   "source": [
    "def train_and_save_indexer(corpus, file_name='model_100_indexer.model'):\n",
    "    index_temp = get_tmpfile(\"index\")\n",
    "    indexer = Similarity(output_prefix=index_temp, corpus=corpus, num_features=len(dct), num_best=6)\n",
    "    indexer.save(file_name)\n",
    "    return indexer"
   ]
  },
  {
   "cell_type": "markdown",
   "metadata": {},
   "source": [
    "## CLEAN AND TOKENIZE TEXTS"
   ]
  },
  {
   "cell_type": "code",
   "execution_count": 30,
   "metadata": {},
   "outputs": [
    {
     "name": "stdout",
     "output_type": "stream",
     "text": [
      "CPU times: user 21.6 s, sys: 8.36 s, total: 29.9 s\n",
      "Wall time: 6min 37s\n"
     ]
    }
   ],
   "source": [
    "%%time\n",
    "tokens_list = do_preprocess_step(test_series, tokenize_text, 'tokens_list.pkl')"
   ]
  },
  {
   "cell_type": "code",
   "execution_count": 31,
   "metadata": {},
   "outputs": [],
   "source": [
    "# %%time\n",
    "# contents = pool_iter_series(contents_df[\"all_text\"])"
   ]
  },
  {
   "cell_type": "code",
   "execution_count": 32,
   "metadata": {},
   "outputs": [],
   "source": [
    "# %%time\n",
    "# tokens = pool_imap(tokenize_text, contents)"
   ]
  },
  {
   "cell_type": "code",
   "execution_count": 33,
   "metadata": {},
   "outputs": [],
   "source": [
    "# %%time\n",
    "# tokens_list = list(tokens)"
   ]
  },
  {
   "cell_type": "code",
   "execution_count": 34,
   "metadata": {},
   "outputs": [],
   "source": [
    "# %%time\n",
    "# save_pickle('tokens_list.pkl', tokens_list)"
   ]
  },
  {
   "cell_type": "code",
   "execution_count": 35,
   "metadata": {},
   "outputs": [],
   "source": [
    "# %%time\n",
    "# tokens_list = load_pickle('tokens_list.pkl')"
   ]
  },
  {
   "cell_type": "markdown",
   "metadata": {},
   "source": [
    "## LEMMATIZE TEXTS"
   ]
  },
  {
   "cell_type": "code",
   "execution_count": 36,
   "metadata": {},
   "outputs": [
    {
     "name": "stdout",
     "output_type": "stream",
     "text": [
      "CPU times: user 19.1 s, sys: 7.75 s, total: 26.9 s\n",
      "Wall time: 2min 48s\n"
     ]
    }
   ],
   "source": [
    "%%time\n",
    "lemmatized_list = do_preprocess_step(tokens_list, lemmatize_words, 'lemmatized_list.pkl')"
   ]
  },
  {
   "cell_type": "code",
   "execution_count": 37,
   "metadata": {},
   "outputs": [],
   "source": [
    "# %%time\n",
    "# tokens = pool_iter_series(tokens_list)"
   ]
  },
  {
   "cell_type": "code",
   "execution_count": 38,
   "metadata": {},
   "outputs": [],
   "source": [
    "# %%time\n",
    "# lemmatized = pool_imap(lemmatize_words, tokens)"
   ]
  },
  {
   "cell_type": "code",
   "execution_count": 39,
   "metadata": {},
   "outputs": [],
   "source": [
    "# %%time\n",
    "# lemmatized_list = list(lemmatized)"
   ]
  },
  {
   "cell_type": "markdown",
   "metadata": {},
   "source": [
    "## DETECT PHRASES"
   ]
  },
  {
   "cell_type": "code",
   "execution_count": 42,
   "metadata": {},
   "outputs": [
    {
     "name": "stdout",
     "output_type": "stream",
     "text": [
      "CPU times: user 3min 12s, sys: 845 ms, total: 3min 13s\n",
      "Wall time: 3min 17s\n"
     ]
    }
   ],
   "source": [
    "%%time\n",
    "\n",
    "phrases = Phrases(lemmatized_list)\n",
    "bigram = Phraser(phrases)\n",
    "trigram = Phrases(bigram[lemmatized_list])"
   ]
  },
  {
   "cell_type": "code",
   "execution_count": 43,
   "metadata": {},
   "outputs": [
    {
     "name": "stderr",
     "output_type": "stream",
     "text": [
      "/Users/jasminetan/anaconda2/envs/py36/lib/python3.6/site-packages/gensim/models/phrases.py:494: UserWarning: For a faster implementation, use the gensim.models.phrases.Phraser class\n",
      "  warnings.warn(\"For a faster implementation, use the gensim.models.phrases.Phraser class\")\n",
      "/Users/jasminetan/anaconda2/envs/py36/lib/python3.6/site-packages/gensim/models/phrases.py:494: UserWarning: For a faster implementation, use the gensim.models.phrases.Phraser class\n",
      "  warnings.warn(\"For a faster implementation, use the gensim.models.phrases.Phraser class\")\n",
      "/Users/jasminetan/anaconda2/envs/py36/lib/python3.6/site-packages/gensim/models/phrases.py:494: UserWarning: For a faster implementation, use the gensim.models.phrases.Phraser class\n",
      "  warnings.warn(\"For a faster implementation, use the gensim.models.phrases.Phraser class\")\n",
      "/Users/jasminetan/anaconda2/envs/py36/lib/python3.6/site-packages/gensim/models/phrases.py:494: UserWarning: For a faster implementation, use the gensim.models.phrases.Phraser class\n",
      "  warnings.warn(\"For a faster implementation, use the gensim.models.phrases.Phraser class\")\n"
     ]
    },
    {
     "name": "stdout",
     "output_type": "stream",
     "text": [
      "CPU times: user 21.5 s, sys: 12.4 s, total: 33.9 s\n",
      "Wall time: 2min 22s\n"
     ]
    }
   ],
   "source": [
    "%%time\n",
    "\n",
    "final_tokens_list = do_preprocess_step(lemmatized_list, get_phrases, 'final_tokens_list.pkl')"
   ]
  },
  {
   "cell_type": "markdown",
   "metadata": {},
   "source": [
    "## CREATE DICTIONARY (ID2WORD)"
   ]
  },
  {
   "cell_type": "code",
   "execution_count": 44,
   "metadata": {},
   "outputs": [],
   "source": [
    "final_tokens = pool_iter_series(final_tokens_list)"
   ]
  },
  {
   "cell_type": "code",
   "execution_count": 45,
   "metadata": {},
   "outputs": [],
   "source": [
    "# Train dictionary:\n",
    "\n",
    "dct = Dictionary(final_tokens)"
   ]
  },
  {
   "cell_type": "code",
   "execution_count": 46,
   "metadata": {},
   "outputs": [],
   "source": [
    "# Filter dictionary (valid terms in bag of words/corpus):\n",
    "\n",
    "dct.filter_extremes(no_below=10, no_above=0.3, keep_n=None)"
   ]
  },
  {
   "cell_type": "code",
   "execution_count": 47,
   "metadata": {},
   "outputs": [],
   "source": [
    "dct.save('dct.dict')"
   ]
  },
  {
   "cell_type": "code",
   "execution_count": 48,
   "metadata": {},
   "outputs": [],
   "source": [
    "dct = dct.load('dct.dict')"
   ]
  },
  {
   "cell_type": "markdown",
   "metadata": {},
   "source": [
    "## CONVERT TEXT TO BAG-OF-WORDS (TOKENS TO ID)"
   ]
  },
  {
   "cell_type": "code",
   "execution_count": 50,
   "metadata": {},
   "outputs": [
    {
     "name": "stdout",
     "output_type": "stream",
     "text": [
      "CPU times: user 10.8 ms, sys: 121 ms, total: 132 ms\n",
      "Wall time: 264 ms\n"
     ]
    }
   ],
   "source": [
    "%%time\n",
    "\n",
    "final_tokens = pool_iter_series(final_tokens_list)"
   ]
  },
  {
   "cell_type": "code",
   "execution_count": 52,
   "metadata": {},
   "outputs": [
    {
     "name": "stdout",
     "output_type": "stream",
     "text": [
      "CPU times: user 9.45 s, sys: 22.1 s, total: 31.6 s\n",
      "Wall time: 49.1 s\n"
     ]
    }
   ],
   "source": [
    "%%time\n",
    "\n",
    "token2id = pool_imap(get_bow, final_tokens)"
   ]
  },
  {
   "cell_type": "code",
   "execution_count": 53,
   "metadata": {},
   "outputs": [
    {
     "name": "stdout",
     "output_type": "stream",
     "text": [
      "CPU times: user 8.19 s, sys: 450 ms, total: 8.64 s\n",
      "Wall time: 9.01 s\n"
     ]
    }
   ],
   "source": [
    "%%time\n",
    "\n",
    "gensim.corpora.MmCorpus.serialize('corpus_bow.mm', token2id)"
   ]
  },
  {
   "cell_type": "code",
   "execution_count": 54,
   "metadata": {},
   "outputs": [
    {
     "name": "stdout",
     "output_type": "stream",
     "text": [
      "MmCorpus(10000 documents, 34192 features, 3803772 non-zero entries)\n",
      "CPU times: user 3.45 ms, sys: 7.22 ms, total: 10.7 ms\n",
      "Wall time: 14.4 ms\n"
     ]
    }
   ],
   "source": [
    "%%time\n",
    "\n",
    "mm_corpus = gensim.corpora.MmCorpus('corpus_bow.mm')\n",
    "print(mm_corpus)"
   ]
  },
  {
   "cell_type": "markdown",
   "metadata": {},
   "source": [
    "## PERFORM TFIDF TRANSFORMATION"
   ]
  },
  {
   "cell_type": "code",
   "execution_count": 55,
   "metadata": {},
   "outputs": [
    {
     "name": "stdout",
     "output_type": "stream",
     "text": [
      "CPU times: user 4.4 s, sys: 73.6 ms, total: 4.47 s\n",
      "Wall time: 4.7 s\n"
     ]
    }
   ],
   "source": [
    "%%time\n",
    "tfidf_model = train_and_save_gensim_model(\"tfidf\", mm_corpus, \"tfidf.model\")"
   ]
  },
  {
   "cell_type": "code",
   "execution_count": 56,
   "metadata": {
    "collapsed": true,
    "jupyter": {
     "outputs_hidden": true
    }
   },
   "outputs": [
    {
     "name": "stdout",
     "output_type": "stream",
     "text": [
      "CPU times: user 8.06 s, sys: 1.5 s, total: 9.56 s\n",
      "Wall time: 18.4 s\n"
     ]
    }
   ],
   "source": [
    "%%time\n",
    "\n",
    "tfidf_corpus = pool_imap(transform_tfidf, mm_corpus)"
   ]
  },
  {
   "cell_type": "code",
   "execution_count": 57,
   "metadata": {},
   "outputs": [
    {
     "name": "stdout",
     "output_type": "stream",
     "text": [
      "CPU times: user 16 s, sys: 206 ms, total: 16.2 s\n",
      "Wall time: 19.6 s\n"
     ]
    }
   ],
   "source": [
    "%%time\n",
    "\n",
    "gensim.corpora.MmCorpus.serialize('corpus_tfidf.mm', tfidf_corpus)"
   ]
  },
  {
   "cell_type": "code",
   "execution_count": 58,
   "metadata": {},
   "outputs": [
    {
     "name": "stdout",
     "output_type": "stream",
     "text": [
      "MmCorpus(10000 documents, 34192 features, 3803772 non-zero entries)\n",
      "CPU times: user 3.22 ms, sys: 8.78 ms, total: 12 ms\n",
      "Wall time: 15.2 ms\n"
     ]
    }
   ],
   "source": [
    "%%time\n",
    "\n",
    "print(tfidf_corpus)"
   ]
  },
  {
   "cell_type": "markdown",
   "metadata": {},
   "source": [
    "## TRAIN TOPIC MODELS/DIMENSIONALITY REDUCERS"
   ]
  },
  {
   "cell_type": "code",
   "execution_count": 59,
   "metadata": {},
   "outputs": [
    {
     "name": "stdout",
     "output_type": "stream",
     "text": [
      "CPU times: user 45.8 s, sys: 2.39 s, total: 48.2 s\n",
      "Wall time: 49.2 s\n"
     ]
    }
   ],
   "source": [
    "%%time\n",
    "\n",
    "lsimodel_500 = train_and_save_gensim_model(\"lsi\", tfidf_corpus, 'lsimodel_500.model', num_topics=500)"
   ]
  },
  {
   "cell_type": "code",
   "execution_count": 60,
   "metadata": {},
   "outputs": [
    {
     "name": "stdout",
     "output_type": "stream",
     "text": [
      "CPU times: user 29.5 s, sys: 1.15 s, total: 30.7 s\n",
      "Wall time: 34.9 s\n"
     ]
    }
   ],
   "source": [
    "%%time\n",
    "\n",
    "lsimodel_300 = train_and_save_gensim_model(\"lsi\", tfidf_corpus, 'lsimodel_300.model', num_topics=300)"
   ]
  },
  {
   "cell_type": "code",
   "execution_count": 61,
   "metadata": {},
   "outputs": [
    {
     "name": "stdout",
     "output_type": "stream",
     "text": [
      "CPU times: user 17.7 s, sys: 738 ms, total: 18.4 s\n",
      "Wall time: 20.1 s\n"
     ]
    }
   ],
   "source": [
    "%%time\n",
    "\n",
    "ldamodel_100 = train_and_save_gensim_model(\"lsi\", tfidf_corpus, 'ldamodel_100.model', num_topics=100)"
   ]
  },
  {
   "cell_type": "code",
   "execution_count": 62,
   "metadata": {},
   "outputs": [
    {
     "name": "stdout",
     "output_type": "stream",
     "text": [
      "CPU times: user 18.8 s, sys: 14.1 s, total: 32.9 s\n",
      "Wall time: 41 s\n"
     ]
    }
   ],
   "source": [
    "%%time\n",
    "\n",
    "ldamodel_50 = train_and_save_gensim_model(\"lsi\", tfidf_corpus, 'ldamodel_50.model', num_topics=50)"
   ]
  },
  {
   "cell_type": "code",
   "execution_count": 64,
   "metadata": {},
   "outputs": [
    {
     "name": "stdout",
     "output_type": "stream",
     "text": [
      "CPU times: user 5min 40s, sys: 36.3 s, total: 6min 17s\n",
      "Wall time: 5min\n"
     ]
    }
   ],
   "source": [
    "%%time\n",
    "\n",
    "hdpmodel = train_and_save_gensim_model(\"hdp\", tfidf_corpus, 'hdpmodel.model')"
   ]
  },
  {
   "cell_type": "markdown",
   "metadata": {},
   "source": [
    "## CONVERT TOKENS TO TOPIC DISTRIBUTIONS"
   ]
  },
  {
   "cell_type": "code",
   "execution_count": 65,
   "metadata": {},
   "outputs": [
    {
     "name": "stdout",
     "output_type": "stream",
     "text": [
      "CPU times: user 33.4 s, sys: 793 ms, total: 34.2 s\n",
      "Wall time: 38.7 s\n"
     ]
    }
   ],
   "source": [
    "%%time\n",
    "\n",
    "lsi_500_corpus = lsimodel_500[tfidf_corpus]\n",
    "gensim.corpora.MmCorpus.serialize('lsi_500_corpus.mm', lsi_500_corpus)"
   ]
  },
  {
   "cell_type": "code",
   "execution_count": 66,
   "metadata": {},
   "outputs": [
    {
     "name": "stdout",
     "output_type": "stream",
     "text": [
      "CPU times: user 17.8 s, sys: 383 ms, total: 18.2 s\n",
      "Wall time: 18.7 s\n"
     ]
    }
   ],
   "source": [
    "%%time\n",
    "\n",
    "lsi_300_corpus = lsimodel_300[tfidf_corpus]\n",
    "gensim.corpora.MmCorpus.serialize('lsi_300_corpus.mm', lsi_300_corpus)"
   ]
  },
  {
   "cell_type": "code",
   "execution_count": 67,
   "metadata": {},
   "outputs": [
    {
     "name": "stdout",
     "output_type": "stream",
     "text": [
      "CPU times: user 10.3 s, sys: 318 ms, total: 10.6 s\n",
      "Wall time: 12.2 s\n"
     ]
    }
   ],
   "source": [
    "%%time\n",
    "\n",
    "lda_100_corpus = ldamodel_100[tfidf_corpus]\n",
    "gensim.corpora.MmCorpus.serialize('lda_100_corpus.mm', lda_100_corpus)"
   ]
  },
  {
   "cell_type": "code",
   "execution_count": 68,
   "metadata": {},
   "outputs": [
    {
     "name": "stdout",
     "output_type": "stream",
     "text": [
      "CPU times: user 8.43 s, sys: 243 ms, total: 8.67 s\n",
      "Wall time: 9.63 s\n"
     ]
    }
   ],
   "source": [
    "%%time\n",
    "\n",
    "lda_50_corpus = ldamodel_50[tfidf_corpus]\n",
    "gensim.corpora.MmCorpus.serialize('lda_50_corpus.mm', lda_50_corpus)"
   ]
  },
  {
   "cell_type": "code",
   "execution_count": 69,
   "metadata": {},
   "outputs": [
    {
     "name": "stdout",
     "output_type": "stream",
     "text": [
      "CPU times: user 49 s, sys: 14.3 s, total: 1min 3s\n",
      "Wall time: 47.7 s\n"
     ]
    }
   ],
   "source": [
    "%%time\n",
    "\n",
    "hdp_corpus = hdpmodel[tfidf_corpus]\n",
    "gensim.corpora.MmCorpus.serialize('hdp_corpus.mm', hdp_corpus)"
   ]
  },
  {
   "cell_type": "markdown",
   "metadata": {},
   "source": [
    "## BUILT SIMILARITY INDICES FOR THE VARIOUS MODELS"
   ]
  },
  {
   "cell_type": "code",
   "execution_count": 290,
   "metadata": {},
   "outputs": [
    {
     "name": "stdout",
     "output_type": "stream",
     "text": [
      "CPU times: user 24.6 s, sys: 4.25 s, total: 28.8 s\n",
      "Wall time: 30.1 s\n"
     ]
    }
   ],
   "source": [
    "%%time\n",
    "\n",
    "lsi_500_indexer = train_and_save_indexer(lsi_500_corpus, 'lsi_500_indexer.model')"
   ]
  },
  {
   "cell_type": "code",
   "execution_count": 291,
   "metadata": {},
   "outputs": [
    {
     "name": "stdout",
     "output_type": "stream",
     "text": [
      "CPU times: user 17.7 s, sys: 618 ms, total: 18.3 s\n",
      "Wall time: 18.8 s\n"
     ]
    }
   ],
   "source": [
    "%%time\n",
    "\n",
    "lsi_300_indexer = train_and_save_indexer(lsi_300_corpus, 'lsi_300_indexer.model')"
   ]
  },
  {
   "cell_type": "code",
   "execution_count": 292,
   "metadata": {},
   "outputs": [
    {
     "name": "stdout",
     "output_type": "stream",
     "text": [
      "CPU times: user 12.2 s, sys: 4.88 s, total: 17 s\n",
      "Wall time: 18.3 s\n"
     ]
    }
   ],
   "source": [
    "%%time\n",
    "\n",
    "lda_50_indexer = train_and_save_indexer(lda_50_corpus, 'lda_50_indexer.model')"
   ]
  },
  {
   "cell_type": "code",
   "execution_count": 293,
   "metadata": {},
   "outputs": [
    {
     "name": "stdout",
     "output_type": "stream",
     "text": [
      "CPU times: user 11.4 s, sys: 344 ms, total: 11.8 s\n",
      "Wall time: 12 s\n"
     ]
    }
   ],
   "source": [
    "%%time\n",
    "\n",
    "lda_100_indexer = train_and_save_indexer(lda_100_corpus, 'lda_100_indexer.model')"
   ]
  },
  {
   "cell_type": "code",
   "execution_count": 294,
   "metadata": {},
   "outputs": [
    {
     "name": "stdout",
     "output_type": "stream",
     "text": [
      "CPU times: user 52.4 s, sys: 3.52 s, total: 55.9 s\n",
      "Wall time: 32.3 s\n"
     ]
    }
   ],
   "source": [
    "%%time\n",
    "\n",
    "hdp_indexer = train_and_save_indexer(hdp_corpus)"
   ]
  },
  {
   "cell_type": "markdown",
   "metadata": {},
   "source": [
    "## RETRIEVE RECS FOR STORIES"
   ]
  },
  {
   "cell_type": "code",
   "execution_count": 305,
   "metadata": {},
   "outputs": [],
   "source": [
    "def get_series_index(story_id):\n",
    "    story_ids_map_dict = {story_id: series_index for series_index, story_id in enumerate(test_series.index)}\n",
    "    return story_ids_map_dict[story_id]\n",
    "\n",
    "def get_story_id(series_index):\n",
    "    return test_series.index[series_index]"
   ]
  },
  {
   "cell_type": "code",
   "execution_count": 306,
   "metadata": {},
   "outputs": [],
   "source": [
    "def get_sim_ids(story_id, corpus, indexer):\n",
    "    series_index = get_series_index(story_id)\n",
    "    vec = corpus[series_index]\n",
    "    sims = indexer[vec]\n",
    "    sim_indices = [sim_index for sim_index, sim_score in sims]\n",
    "    return sim_indices\n",
    "\n",
    "def fetch_story_titles_from_pgsql(story_id):\n",
    "    conn = psycopg2.connect(\"host=localhost dbname=postgres user=postgres\")\n",
    "    cur = conn.cursor()\n",
    "    cur.execute(\"SELECT title FROM bq_all WHERE id={};\".format(story_id))\n",
    "    title = cur.fetchone()[0]\n",
    "    conn.commit\n",
    "    return title"
   ]
  },
  {
   "cell_type": "code",
   "execution_count": 335,
   "metadata": {},
   "outputs": [
    {
     "name": "stdout",
     "output_type": "stream",
     "text": [
      "CPU times: user 877 ms, sys: 264 ms, total: 1.14 s\n",
      "Wall time: 3.47 s\n"
     ]
    }
   ],
   "source": [
    "%%time\n",
    "\n",
    "corpus_indexer_list= [\n",
    "    ('lsi_500', lsi_500_corpus, lsi_500_indexer),\n",
    "    ('lsi_300', lsi_500_corpus, lsi_500_indexer),\n",
    "    ('lda_100', lda_100_corpus, lda_100_indexer),\n",
    "    ('lda_50', lda_50_corpus, lda_50_indexer),\n",
    "    ('hdp', hdp_corpus, hdp_indexer)\n",
    "     ]\n",
    "\n",
    "random_story_ids = np.random.choice(story_ids_list, size=10, replace=False)\n",
    "\n",
    "given_stories = []\n",
    "model_recs_dicts = []\n",
    "\n",
    "for story_id in random_story_ids:\n",
    "    model_recs = {}\n",
    "    for model_name, corpus, indexer in corpus_indexer_list:\n",
    "        sim_indices = get_sim_ids(story_id, corpus, indexer)\n",
    "        rec_titles_list = [fetch_story_titles_from_pgsql(get_story_id(each_id)) for each_id in sim_indices]\n",
    "        given_story_str = rec_titles_list[0]\n",
    "        given_stories.append(given_story_str)\n",
    "        rec_stories_list = rec_titles_list[1:]\n",
    "        model_recs[model_name] = rec_stories_list\n",
    "    model_recs_dicts.append(model_recs)    "
   ]
  },
  {
   "cell_type": "code",
   "execution_count": 336,
   "metadata": {},
   "outputs": [
    {
     "name": "stdout",
     "output_type": "stream",
     "text": [
      "CPU times: user 12.8 ms, sys: 1.17 ms, total: 14 ms\n",
      "Wall time: 13.9 ms\n"
     ]
    }
   ],
   "source": [
    "%%time\n",
    "\n",
    "story_recs_dataframes = [pd.DataFrame(model_recs_dicts[index]) for index in range(10)]"
   ]
  },
  {
   "cell_type": "code",
   "execution_count": 339,
   "metadata": {},
   "outputs": [],
   "source": [
    "given_stories = given_stories[0::5]"
   ]
  },
  {
   "cell_type": "markdown",
   "metadata": {},
   "source": [
    "## EVALUATE RECOMMENDATIONS"
   ]
  },
  {
   "cell_type": "code",
   "execution_count": 329,
   "metadata": {},
   "outputs": [],
   "source": [
    "pd.set_option('max_colwidth', 200)"
   ]
  },
  {
   "cell_type": "code",
   "execution_count": 340,
   "metadata": {},
   "outputs": [
    {
     "name": "stdout",
     "output_type": "stream",
     "text": [
      "Given story: The Art of Code Review: A Dropbox Story\n"
     ]
    },
    {
     "data": {
      "text/html": [
       "<div>\n",
       "<style scoped>\n",
       "    .dataframe tbody tr th:only-of-type {\n",
       "        vertical-align: middle;\n",
       "    }\n",
       "\n",
       "    .dataframe tbody tr th {\n",
       "        vertical-align: top;\n",
       "    }\n",
       "\n",
       "    .dataframe thead th {\n",
       "        text-align: right;\n",
       "    }\n",
       "</style>\n",
       "<table border=\"1\" class=\"dataframe\">\n",
       "  <thead>\n",
       "    <tr style=\"text-align: right;\">\n",
       "      <th></th>\n",
       "      <th>hdp</th>\n",
       "      <th>lda_100</th>\n",
       "      <th>lda_50</th>\n",
       "      <th>lsi_300</th>\n",
       "      <th>lsi_500</th>\n",
       "    </tr>\n",
       "  </thead>\n",
       "  <tbody>\n",
       "    <tr>\n",
       "      <th>0</th>\n",
       "      <td>Read The Ultralight Startup by Jason Baptiste free for 24 hours</td>\n",
       "      <td>Show HN: Harp Platform now available to the public</td>\n",
       "      <td>Free Python ebook: Bayesian Methods for Hackers</td>\n",
       "      <td>Book Notes: Smart Choices – a Practical Guide to Making Better Life Decisions</td>\n",
       "      <td>Book Notes: Smart Choices – a Practical Guide to Making Better Life Decisions</td>\n",
       "    </tr>\n",
       "    <tr>\n",
       "      <th>1</th>\n",
       "      <td>Lizard Kids: A Long Trail of Fail</td>\n",
       "      <td>Dropbox blocks API access for Boxopus over piracy concerns</td>\n",
       "      <td>Python Machine Learning</td>\n",
       "      <td>Dropbox blocks API access for Boxopus over piracy concerns</td>\n",
       "      <td>Dropbox blocks API access for Boxopus over piracy concerns</td>\n",
       "    </tr>\n",
       "    <tr>\n",
       "      <th>2</th>\n",
       "      <td>Show HN: Wander – Travel by budget</td>\n",
       "      <td>Prototypes vs. MVPs</td>\n",
       "      <td>Show HN: Hello Python, my book about learning python, has just been released</td>\n",
       "      <td>The Coming Dropbox Apocalypse</td>\n",
       "      <td>The Coming Dropbox Apocalypse</td>\n",
       "    </tr>\n",
       "    <tr>\n",
       "      <th>3</th>\n",
       "      <td>Growl notifications for GitHub updates</td>\n",
       "      <td>My experience of runnning Google Ads for Dropbox referrals</td>\n",
       "      <td>Python data tools just keep getting better</td>\n",
       "      <td>Show HN: Harp Platform now available to the public</td>\n",
       "      <td>Show HN: Harp Platform now available to the public</td>\n",
       "    </tr>\n",
       "    <tr>\n",
       "      <th>4</th>\n",
       "      <td>Ask HN: Idea March</td>\n",
       "      <td>Dropbox' Public/ folders will be phased out soon</td>\n",
       "      <td>The Python Standard Library - Where Modules Go To Die</td>\n",
       "      <td>Dropbox' Public/ folders will be phased out soon</td>\n",
       "      <td>Dropbox' Public/ folders will be phased out soon</td>\n",
       "    </tr>\n",
       "  </tbody>\n",
       "</table>\n",
       "</div>"
      ],
      "text/plain": [
       "                                                               hdp  \\\n",
       "0  Read The Ultralight Startup by Jason Baptiste free for 24 hours   \n",
       "1                                Lizard Kids: A Long Trail of Fail   \n",
       "2                               Show HN: Wander – Travel by budget   \n",
       "3                           Growl notifications for GitHub updates   \n",
       "4                                               Ask HN: Idea March   \n",
       "\n",
       "                                                      lda_100  \\\n",
       "0          Show HN: Harp Platform now available to the public   \n",
       "1  Dropbox blocks API access for Boxopus over piracy concerns   \n",
       "2                                         Prototypes vs. MVPs   \n",
       "3  My experience of runnning Google Ads for Dropbox referrals   \n",
       "4            Dropbox' Public/ folders will be phased out soon   \n",
       "\n",
       "                                                                         lda_50  \\\n",
       "0                               Free Python ebook: Bayesian Methods for Hackers   \n",
       "1                                                       Python Machine Learning   \n",
       "2  Show HN: Hello Python, my book about learning python, has just been released   \n",
       "3                                    Python data tools just keep getting better   \n",
       "4                         The Python Standard Library - Where Modules Go To Die   \n",
       "\n",
       "                                                                         lsi_300  \\\n",
       "0  Book Notes: Smart Choices – a Practical Guide to Making Better Life Decisions   \n",
       "1                     Dropbox blocks API access for Boxopus over piracy concerns   \n",
       "2                                                  The Coming Dropbox Apocalypse   \n",
       "3                             Show HN: Harp Platform now available to the public   \n",
       "4                               Dropbox' Public/ folders will be phased out soon   \n",
       "\n",
       "                                                                         lsi_500  \n",
       "0  Book Notes: Smart Choices – a Practical Guide to Making Better Life Decisions  \n",
       "1                     Dropbox blocks API access for Boxopus over piracy concerns  \n",
       "2                                                  The Coming Dropbox Apocalypse  \n",
       "3                             Show HN: Harp Platform now available to the public  \n",
       "4                               Dropbox' Public/ folders will be phased out soon  "
      ]
     },
     "execution_count": 340,
     "metadata": {},
     "output_type": "execute_result"
    }
   ],
   "source": [
    "print(\"Given story: {}\".format(given_stories[0]))\n",
    "story_recs_dataframes[0]"
   ]
  },
  {
   "cell_type": "code",
   "execution_count": 341,
   "metadata": {},
   "outputs": [
    {
     "name": "stdout",
     "output_type": "stream",
     "text": [
      "Given story: Bitcoin's value is decentralization\n"
     ]
    },
    {
     "data": {
      "text/html": [
       "<div>\n",
       "<style scoped>\n",
       "    .dataframe tbody tr th:only-of-type {\n",
       "        vertical-align: middle;\n",
       "    }\n",
       "\n",
       "    .dataframe tbody tr th {\n",
       "        vertical-align: top;\n",
       "    }\n",
       "\n",
       "    .dataframe thead th {\n",
       "        text-align: right;\n",
       "    }\n",
       "</style>\n",
       "<table border=\"1\" class=\"dataframe\">\n",
       "  <thead>\n",
       "    <tr style=\"text-align: right;\">\n",
       "      <th></th>\n",
       "      <th>hdp</th>\n",
       "      <th>lda_100</th>\n",
       "      <th>lda_50</th>\n",
       "      <th>lsi_300</th>\n",
       "      <th>lsi_500</th>\n",
       "    </tr>\n",
       "  </thead>\n",
       "  <tbody>\n",
       "    <tr>\n",
       "      <th>0</th>\n",
       "      <td>Programming Language Analysis</td>\n",
       "      <td>Inside the Bitcoin economy</td>\n",
       "      <td>Bitcoin Miners Signal Revolt Amid Sluggish Blockchain</td>\n",
       "      <td>The Big Book of Bitcoin - An introduction</td>\n",
       "      <td>The Big Book of Bitcoin - An introduction</td>\n",
       "    </tr>\n",
       "    <tr>\n",
       "      <th>1</th>\n",
       "      <td>Shark Tank Statistics</td>\n",
       "      <td>China bans new Bitcoin deposits</td>\n",
       "      <td>China bans new Bitcoin deposits</td>\n",
       "      <td>Inside the Bitcoin economy</td>\n",
       "      <td>Inside the Bitcoin economy</td>\n",
       "    </tr>\n",
       "    <tr>\n",
       "      <th>2</th>\n",
       "      <td>Firestr: encrypted P2P chat and Lua application platform</td>\n",
       "      <td>Bitcoins Fail Currency Test in Scandinavia’s Richest Nation</td>\n",
       "      <td>Inside the Bitcoin economy</td>\n",
       "      <td>Bitcoins Fail Currency Test in Scandinavia’s Richest Nation</td>\n",
       "      <td>Bitcoins Fail Currency Test in Scandinavia’s Richest Nation</td>\n",
       "    </tr>\n",
       "    <tr>\n",
       "      <th>3</th>\n",
       "      <td>Ask HN: Google warned me that a state organized hacking group targeted me</td>\n",
       "      <td>The Target Value for Bitcoin is $100K to $1M</td>\n",
       "      <td>Bitcoins Fail Currency Test in Scandinavia’s Richest Nation</td>\n",
       "      <td>Petitioning SIX Interbank Clearing: Include a symbol for Bitcoin in ISO 4217</td>\n",
       "      <td>Petitioning SIX Interbank Clearing: Include a symbol for Bitcoin in ISO 4217</td>\n",
       "    </tr>\n",
       "    <tr>\n",
       "      <th>4</th>\n",
       "      <td>Ask HN: Please critique my personal digital security strategy</td>\n",
       "      <td>Winklevoss Twins Aim to Take Bitcoin Mainstream with a Regulated Exchange</td>\n",
       "      <td>Bitcoin drops 50% overnight as China’s Biggest BTC exchange stops Yuan deposits</td>\n",
       "      <td>Bitcoin Miners Signal Revolt Amid Sluggish Blockchain</td>\n",
       "      <td>Bitcoin Miners Signal Revolt Amid Sluggish Blockchain</td>\n",
       "    </tr>\n",
       "  </tbody>\n",
       "</table>\n",
       "</div>"
      ],
      "text/plain": [
       "                                                                         hdp  \\\n",
       "0                                              Programming Language Analysis   \n",
       "1                                                      Shark Tank Statistics   \n",
       "2                   Firestr: encrypted P2P chat and Lua application platform   \n",
       "3  Ask HN: Google warned me that a state organized hacking group targeted me   \n",
       "4              Ask HN: Please critique my personal digital security strategy   \n",
       "\n",
       "                                                                     lda_100  \\\n",
       "0                                                 Inside the Bitcoin economy   \n",
       "1                                            China bans new Bitcoin deposits   \n",
       "2                Bitcoins Fail Currency Test in Scandinavia’s Richest Nation   \n",
       "3                               The Target Value for Bitcoin is $100K to $1M   \n",
       "4  Winklevoss Twins Aim to Take Bitcoin Mainstream with a Regulated Exchange   \n",
       "\n",
       "                                                                            lda_50  \\\n",
       "0                            Bitcoin Miners Signal Revolt Amid Sluggish Blockchain   \n",
       "1                                                  China bans new Bitcoin deposits   \n",
       "2                                                       Inside the Bitcoin economy   \n",
       "3                      Bitcoins Fail Currency Test in Scandinavia’s Richest Nation   \n",
       "4  Bitcoin drops 50% overnight as China’s Biggest BTC exchange stops Yuan deposits   \n",
       "\n",
       "                                                                        lsi_300  \\\n",
       "0                                     The Big Book of Bitcoin - An introduction   \n",
       "1                                                    Inside the Bitcoin economy   \n",
       "2                   Bitcoins Fail Currency Test in Scandinavia’s Richest Nation   \n",
       "3  Petitioning SIX Interbank Clearing: Include a symbol for Bitcoin in ISO 4217   \n",
       "4                         Bitcoin Miners Signal Revolt Amid Sluggish Blockchain   \n",
       "\n",
       "                                                                        lsi_500  \n",
       "0                                     The Big Book of Bitcoin - An introduction  \n",
       "1                                                    Inside the Bitcoin economy  \n",
       "2                   Bitcoins Fail Currency Test in Scandinavia’s Richest Nation  \n",
       "3  Petitioning SIX Interbank Clearing: Include a symbol for Bitcoin in ISO 4217  \n",
       "4                         Bitcoin Miners Signal Revolt Amid Sluggish Blockchain  "
      ]
     },
     "execution_count": 341,
     "metadata": {},
     "output_type": "execute_result"
    }
   ],
   "source": [
    "print(\"Given story: {}\".format(given_stories[1]))\n",
    "story_recs_dataframes[1]"
   ]
  },
  {
   "cell_type": "code",
   "execution_count": 343,
   "metadata": {},
   "outputs": [
    {
     "name": "stdout",
     "output_type": "stream",
     "text": [
      "Given story: Bjarne Stroustrup Discusses C++\n"
     ]
    },
    {
     "data": {
      "text/html": [
       "<div>\n",
       "<style scoped>\n",
       "    .dataframe tbody tr th:only-of-type {\n",
       "        vertical-align: middle;\n",
       "    }\n",
       "\n",
       "    .dataframe tbody tr th {\n",
       "        vertical-align: top;\n",
       "    }\n",
       "\n",
       "    .dataframe thead th {\n",
       "        text-align: right;\n",
       "    }\n",
       "</style>\n",
       "<table border=\"1\" class=\"dataframe\">\n",
       "  <thead>\n",
       "    <tr style=\"text-align: right;\">\n",
       "      <th></th>\n",
       "      <th>hdp</th>\n",
       "      <th>lda_100</th>\n",
       "      <th>lda_50</th>\n",
       "      <th>lsi_300</th>\n",
       "      <th>lsi_500</th>\n",
       "    </tr>\n",
       "  </thead>\n",
       "  <tbody>\n",
       "    <tr>\n",
       "      <th>0</th>\n",
       "      <td>Programming Language Analysis</td>\n",
       "      <td>C++ is a hack</td>\n",
       "      <td>C++ is a hack</td>\n",
       "      <td>C++ Internals: STL Vector, Part I</td>\n",
       "      <td>C++ Internals: STL Vector, Part I</td>\n",
       "    </tr>\n",
       "    <tr>\n",
       "      <th>1</th>\n",
       "      <td>Shark Tank Statistics</td>\n",
       "      <td>Popular Myths about C++, Part 2</td>\n",
       "      <td>Why artificially limit your code to C?</td>\n",
       "      <td>Implementing a dynamically sized array in C</td>\n",
       "      <td>Implementing a dynamically sized array in C</td>\n",
       "    </tr>\n",
       "    <tr>\n",
       "      <th>2</th>\n",
       "      <td>Firestr: encrypted P2P chat and Lua application platform</td>\n",
       "      <td>Object-oriented techniques in C</td>\n",
       "      <td>Mu: making programs easier to understand in the large</td>\n",
       "      <td>Popular Myths about C++, Part 2</td>\n",
       "      <td>Popular Myths about C++, Part 2</td>\n",
       "    </tr>\n",
       "    <tr>\n",
       "      <th>3</th>\n",
       "      <td>Ask HN: Google warned me that a state organized hacking group targeted me</td>\n",
       "      <td>Mu: making programs easier to understand in the large</td>\n",
       "      <td>Loop Exits and Structured Programming: Reopening the Debate (1995) [pdf]</td>\n",
       "      <td>Covariance, Contravariance, and Super Type Constraints</td>\n",
       "      <td>Covariance, Contravariance, and Super Type Constraints</td>\n",
       "    </tr>\n",
       "    <tr>\n",
       "      <th>4</th>\n",
       "      <td>Ask HN: Please critique my personal digital security strategy</td>\n",
       "      <td>Go-internals: Chapter 2, “Interfaces” released</td>\n",
       "      <td>Popular Myths about C++, Part 2</td>\n",
       "      <td>Performance: SIMD, Vectorization and Performance Tuning [video]</td>\n",
       "      <td>Performance: SIMD, Vectorization and Performance Tuning [video]</td>\n",
       "    </tr>\n",
       "  </tbody>\n",
       "</table>\n",
       "</div>"
      ],
      "text/plain": [
       "                                                                         hdp  \\\n",
       "0                                              Programming Language Analysis   \n",
       "1                                                      Shark Tank Statistics   \n",
       "2                   Firestr: encrypted P2P chat and Lua application platform   \n",
       "3  Ask HN: Google warned me that a state organized hacking group targeted me   \n",
       "4              Ask HN: Please critique my personal digital security strategy   \n",
       "\n",
       "                                                 lda_100  \\\n",
       "0                                          C++ is a hack   \n",
       "1                        Popular Myths about C++, Part 2   \n",
       "2                        Object-oriented techniques in C   \n",
       "3  Mu: making programs easier to understand in the large   \n",
       "4         Go-internals: Chapter 2, “Interfaces” released   \n",
       "\n",
       "                                                                     lda_50  \\\n",
       "0                                                             C++ is a hack   \n",
       "1                                    Why artificially limit your code to C?   \n",
       "2                     Mu: making programs easier to understand in the large   \n",
       "3  Loop Exits and Structured Programming: Reopening the Debate (1995) [pdf]   \n",
       "4                                           Popular Myths about C++, Part 2   \n",
       "\n",
       "                                                           lsi_300  \\\n",
       "0                                C++ Internals: STL Vector, Part I   \n",
       "1                      Implementing a dynamically sized array in C   \n",
       "2                                  Popular Myths about C++, Part 2   \n",
       "3           Covariance, Contravariance, and Super Type Constraints   \n",
       "4  Performance: SIMD, Vectorization and Performance Tuning [video]   \n",
       "\n",
       "                                                           lsi_500  \n",
       "0                                C++ Internals: STL Vector, Part I  \n",
       "1                      Implementing a dynamically sized array in C  \n",
       "2                                  Popular Myths about C++, Part 2  \n",
       "3           Covariance, Contravariance, and Super Type Constraints  \n",
       "4  Performance: SIMD, Vectorization and Performance Tuning [video]  "
      ]
     },
     "execution_count": 343,
     "metadata": {},
     "output_type": "execute_result"
    }
   ],
   "source": [
    "print(\"Given story: {}\".format(given_stories[2]))\n",
    "story_recs_dataframes[2]"
   ]
  },
  {
   "cell_type": "code",
   "execution_count": 344,
   "metadata": {},
   "outputs": [
    {
     "name": "stdout",
     "output_type": "stream",
     "text": [
      "Given story: The Moderately Enthusiastic Programmer\n"
     ]
    },
    {
     "data": {
      "text/html": [
       "<div>\n",
       "<style scoped>\n",
       "    .dataframe tbody tr th:only-of-type {\n",
       "        vertical-align: middle;\n",
       "    }\n",
       "\n",
       "    .dataframe tbody tr th {\n",
       "        vertical-align: top;\n",
       "    }\n",
       "\n",
       "    .dataframe thead th {\n",
       "        text-align: right;\n",
       "    }\n",
       "</style>\n",
       "<table border=\"1\" class=\"dataframe\">\n",
       "  <thead>\n",
       "    <tr style=\"text-align: right;\">\n",
       "      <th></th>\n",
       "      <th>hdp</th>\n",
       "      <th>lda_100</th>\n",
       "      <th>lda_50</th>\n",
       "      <th>lsi_300</th>\n",
       "      <th>lsi_500</th>\n",
       "    </tr>\n",
       "  </thead>\n",
       "  <tbody>\n",
       "    <tr>\n",
       "      <th>0</th>\n",
       "      <td>Programming Language Analysis</td>\n",
       "      <td>Ask HN: What do you do when your entire being opposes the task at hand?</td>\n",
       "      <td>Ask HN: What do you do when your entire being opposes the task at hand?</td>\n",
       "      <td>I don’t want to be a software developer anymore</td>\n",
       "      <td>I don’t want to be a software developer anymore</td>\n",
       "    </tr>\n",
       "    <tr>\n",
       "      <th>1</th>\n",
       "      <td>Shark Tank Statistics</td>\n",
       "      <td>On Funemployment (and My Next Job)</td>\n",
       "      <td>Why your programmers just want to code</td>\n",
       "      <td>Why your programmers just want to code</td>\n",
       "      <td>Why your programmers just want to code</td>\n",
       "    </tr>\n",
       "    <tr>\n",
       "      <th>2</th>\n",
       "      <td>Firestr: encrypted P2P chat and Lua application platform</td>\n",
       "      <td>Practical tips for writing inclusive job ads (2016)</td>\n",
       "      <td>On Funemployment (and My Next Job)</td>\n",
       "      <td>Practical tips for writing inclusive job ads (2016)</td>\n",
       "      <td>Practical tips for writing inclusive job ads (2016)</td>\n",
       "    </tr>\n",
       "    <tr>\n",
       "      <th>3</th>\n",
       "      <td>Ask HN: Google warned me that a state organized hacking group targeted me</td>\n",
       "      <td>Old Geek</td>\n",
       "      <td>Only code at work? That doesn’t make you a worse programmer</td>\n",
       "      <td>I didn’t fall in love with coding</td>\n",
       "      <td>I didn’t fall in love with coding</td>\n",
       "    </tr>\n",
       "    <tr>\n",
       "      <th>4</th>\n",
       "      <td>Ask HN: Please critique my personal digital security strategy</td>\n",
       "      <td>About the Penny Arcade Job Posting</td>\n",
       "      <td>Ask HN: Started a new job and their existing code sucks. What to do?</td>\n",
       "      <td>The \"Spanish Theory\" of software project management</td>\n",
       "      <td>The \"Spanish Theory\" of software project management</td>\n",
       "    </tr>\n",
       "  </tbody>\n",
       "</table>\n",
       "</div>"
      ],
      "text/plain": [
       "                                                                         hdp  \\\n",
       "0                                              Programming Language Analysis   \n",
       "1                                                      Shark Tank Statistics   \n",
       "2                   Firestr: encrypted P2P chat and Lua application platform   \n",
       "3  Ask HN: Google warned me that a state organized hacking group targeted me   \n",
       "4              Ask HN: Please critique my personal digital security strategy   \n",
       "\n",
       "                                                                   lda_100  \\\n",
       "0  Ask HN: What do you do when your entire being opposes the task at hand?   \n",
       "1                                       On Funemployment (and My Next Job)   \n",
       "2                      Practical tips for writing inclusive job ads (2016)   \n",
       "3                                                                 Old Geek   \n",
       "4                                       About the Penny Arcade Job Posting   \n",
       "\n",
       "                                                                    lda_50  \\\n",
       "0  Ask HN: What do you do when your entire being opposes the task at hand?   \n",
       "1                                   Why your programmers just want to code   \n",
       "2                                       On Funemployment (and My Next Job)   \n",
       "3              Only code at work? That doesn’t make you a worse programmer   \n",
       "4     Ask HN: Started a new job and their existing code sucks. What to do?   \n",
       "\n",
       "                                               lsi_300  \\\n",
       "0      I don’t want to be a software developer anymore   \n",
       "1               Why your programmers just want to code   \n",
       "2  Practical tips for writing inclusive job ads (2016)   \n",
       "3                    I didn’t fall in love with coding   \n",
       "4  The \"Spanish Theory\" of software project management   \n",
       "\n",
       "                                               lsi_500  \n",
       "0      I don’t want to be a software developer anymore  \n",
       "1               Why your programmers just want to code  \n",
       "2  Practical tips for writing inclusive job ads (2016)  \n",
       "3                    I didn’t fall in love with coding  \n",
       "4  The \"Spanish Theory\" of software project management  "
      ]
     },
     "execution_count": 344,
     "metadata": {},
     "output_type": "execute_result"
    }
   ],
   "source": [
    "print(\"Given story: {}\".format(given_stories[3]))\n",
    "story_recs_dataframes[3]"
   ]
  },
  {
   "cell_type": "code",
   "execution_count": 345,
   "metadata": {},
   "outputs": [
    {
     "name": "stdout",
     "output_type": "stream",
     "text": [
      "Given story: Wget Arbitrary Commands Execution\n"
     ]
    },
    {
     "data": {
      "text/html": [
       "<div>\n",
       "<style scoped>\n",
       "    .dataframe tbody tr th:only-of-type {\n",
       "        vertical-align: middle;\n",
       "    }\n",
       "\n",
       "    .dataframe tbody tr th {\n",
       "        vertical-align: top;\n",
       "    }\n",
       "\n",
       "    .dataframe thead th {\n",
       "        text-align: right;\n",
       "    }\n",
       "</style>\n",
       "<table border=\"1\" class=\"dataframe\">\n",
       "  <thead>\n",
       "    <tr style=\"text-align: right;\">\n",
       "      <th></th>\n",
       "      <th>hdp</th>\n",
       "      <th>lda_100</th>\n",
       "      <th>lda_50</th>\n",
       "      <th>lsi_300</th>\n",
       "      <th>lsi_500</th>\n",
       "    </tr>\n",
       "  </thead>\n",
       "  <tbody>\n",
       "    <tr>\n",
       "      <th>0</th>\n",
       "      <td>Programming Language Analysis</td>\n",
       "      <td>RPGFS: Crossing an RPG with a Unix Filesystem</td>\n",
       "      <td>RPGFS: Crossing an RPG with a Unix Filesystem</td>\n",
       "      <td>cURL 7.50.2 released</td>\n",
       "      <td>cURL 7.50.2 released</td>\n",
       "    </tr>\n",
       "    <tr>\n",
       "      <th>1</th>\n",
       "      <td>Shark Tank Statistics</td>\n",
       "      <td>Interesting commands for the Linux shell</td>\n",
       "      <td>Show HN: View and diff files in ZFS snapshots</td>\n",
       "      <td>RPGFS: Crossing an RPG with a Unix Filesystem</td>\n",
       "      <td>RPGFS: Crossing an RPG with a Unix Filesystem</td>\n",
       "    </tr>\n",
       "    <tr>\n",
       "      <th>2</th>\n",
       "      <td>Firestr: encrypted P2P chat and Lua application platform</td>\n",
       "      <td>Javascript RAR reader</td>\n",
       "      <td>Zip Bomb</td>\n",
       "      <td>Show HN: immut.io – an immutable blob store</td>\n",
       "      <td>Show HN: immut.io – an immutable blob store</td>\n",
       "    </tr>\n",
       "    <tr>\n",
       "      <th>3</th>\n",
       "      <td>Ask HN: Google warned me that a state organized hacking group targeted me</td>\n",
       "      <td>Entr(1) – Run tests whenever files change</td>\n",
       "      <td>Entr(1) – Run tests whenever files change</td>\n",
       "      <td>A collection of Unix terminal/console/curses tools</td>\n",
       "      <td>A collection of Unix terminal/console/curses tools</td>\n",
       "    </tr>\n",
       "    <tr>\n",
       "      <th>4</th>\n",
       "      <td>Ask HN: Please critique my personal digital security strategy</td>\n",
       "      <td>Rob Pike: the origin of dotfiles</td>\n",
       "      <td>Show HN: YouTransfer – Self-hosted file sharing</td>\n",
       "      <td>HTTPie is a command line HTTP client, a user-friendly cURL replacement</td>\n",
       "      <td>HTTPie is a command line HTTP client, a user-friendly cURL replacement</td>\n",
       "    </tr>\n",
       "  </tbody>\n",
       "</table>\n",
       "</div>"
      ],
      "text/plain": [
       "                                                                         hdp  \\\n",
       "0                                              Programming Language Analysis   \n",
       "1                                                      Shark Tank Statistics   \n",
       "2                   Firestr: encrypted P2P chat and Lua application platform   \n",
       "3  Ask HN: Google warned me that a state organized hacking group targeted me   \n",
       "4              Ask HN: Please critique my personal digital security strategy   \n",
       "\n",
       "                                         lda_100  \\\n",
       "0  RPGFS: Crossing an RPG with a Unix Filesystem   \n",
       "1       Interesting commands for the Linux shell   \n",
       "2                          Javascript RAR reader   \n",
       "3      Entr(1) – Run tests whenever files change   \n",
       "4               Rob Pike: the origin of dotfiles   \n",
       "\n",
       "                                            lda_50  \\\n",
       "0    RPGFS: Crossing an RPG with a Unix Filesystem   \n",
       "1    Show HN: View and diff files in ZFS snapshots   \n",
       "2                                         Zip Bomb   \n",
       "3        Entr(1) – Run tests whenever files change   \n",
       "4  Show HN: YouTransfer – Self-hosted file sharing   \n",
       "\n",
       "                                                                  lsi_300  \\\n",
       "0                                                    cURL 7.50.2 released   \n",
       "1                           RPGFS: Crossing an RPG with a Unix Filesystem   \n",
       "2                             Show HN: immut.io – an immutable blob store   \n",
       "3                      A collection of Unix terminal/console/curses tools   \n",
       "4  HTTPie is a command line HTTP client, a user-friendly cURL replacement   \n",
       "\n",
       "                                                                  lsi_500  \n",
       "0                                                    cURL 7.50.2 released  \n",
       "1                           RPGFS: Crossing an RPG with a Unix Filesystem  \n",
       "2                             Show HN: immut.io – an immutable blob store  \n",
       "3                      A collection of Unix terminal/console/curses tools  \n",
       "4  HTTPie is a command line HTTP client, a user-friendly cURL replacement  "
      ]
     },
     "execution_count": 345,
     "metadata": {},
     "output_type": "execute_result"
    }
   ],
   "source": [
    "print(\"Given story: {}\".format(given_stories[4]))\n",
    "story_recs_dataframes[4]"
   ]
  },
  {
   "cell_type": "code",
   "execution_count": 346,
   "metadata": {},
   "outputs": [
    {
     "name": "stdout",
     "output_type": "stream",
     "text": [
      "Given story: Google DeepMind AI destroys human expert in lip reading competition\n"
     ]
    },
    {
     "data": {
      "text/html": [
       "<div>\n",
       "<style scoped>\n",
       "    .dataframe tbody tr th:only-of-type {\n",
       "        vertical-align: middle;\n",
       "    }\n",
       "\n",
       "    .dataframe tbody tr th {\n",
       "        vertical-align: top;\n",
       "    }\n",
       "\n",
       "    .dataframe thead th {\n",
       "        text-align: right;\n",
       "    }\n",
       "</style>\n",
       "<table border=\"1\" class=\"dataframe\">\n",
       "  <thead>\n",
       "    <tr style=\"text-align: right;\">\n",
       "      <th></th>\n",
       "      <th>hdp</th>\n",
       "      <th>lda_100</th>\n",
       "      <th>lda_50</th>\n",
       "      <th>lsi_300</th>\n",
       "      <th>lsi_500</th>\n",
       "    </tr>\n",
       "  </thead>\n",
       "  <tbody>\n",
       "    <tr>\n",
       "      <th>0</th>\n",
       "      <td>Programming Language Analysis</td>\n",
       "      <td>Google’s DeepMind Achieves Speech-Generation Breakthrough</td>\n",
       "      <td>Yale researchers reconstruct facial images locked in a viewer’s mind</td>\n",
       "      <td>Google’s DeepMind Achieves Speech-Generation Breakthrough</td>\n",
       "      <td>Google’s DeepMind Achieves Speech-Generation Breakthrough</td>\n",
       "    </tr>\n",
       "    <tr>\n",
       "      <th>1</th>\n",
       "      <td>Shark Tank Statistics</td>\n",
       "      <td>Yale researchers reconstruct facial images locked in a viewer’s mind</td>\n",
       "      <td>Google &amp; Stanford create a digital brain that learns to identify a human face</td>\n",
       "      <td>Generating Factoid Questions with RNNs: The 30M Factoid Question-Answer Corpus</td>\n",
       "      <td>Generating Factoid Questions with RNNs: The 30M Factoid Question-Answer Corpus</td>\n",
       "    </tr>\n",
       "    <tr>\n",
       "      <th>2</th>\n",
       "      <td>Firestr: encrypted P2P chat and Lua application platform</td>\n",
       "      <td>Deep Voice: Real-Time Neural Text-To-Speech</td>\n",
       "      <td>Deep Voice: Real-Time Neural Text-To-Speech</td>\n",
       "      <td>Making a Video Course – Behind the Scenes</td>\n",
       "      <td>Making a Video Course – Behind the Scenes</td>\n",
       "    </tr>\n",
       "    <tr>\n",
       "      <th>3</th>\n",
       "      <td>Ask HN: Google warned me that a state organized hacking group targeted me</td>\n",
       "      <td>Generating Factoid Questions with RNNs: The 30M Factoid Question-Answer Corpus</td>\n",
       "      <td>Google’s DeepMind Achieves Speech-Generation Breakthrough</td>\n",
       "      <td>Neural nets more accurate than humans at detecting sexual orientation in images</td>\n",
       "      <td>Neural nets more accurate than humans at detecting sexual orientation in images</td>\n",
       "    </tr>\n",
       "    <tr>\n",
       "      <th>4</th>\n",
       "      <td>Ask HN: Please critique my personal digital security strategy</td>\n",
       "      <td>Amazon Transcribe - Automatic speech recognition</td>\n",
       "      <td>Explainable Artificial Intelligence (XAI) Darpa Funding</td>\n",
       "      <td>Amazon Transcribe - Automatic speech recognition</td>\n",
       "      <td>Amazon Transcribe - Automatic speech recognition</td>\n",
       "    </tr>\n",
       "  </tbody>\n",
       "</table>\n",
       "</div>"
      ],
      "text/plain": [
       "                                                                         hdp  \\\n",
       "0                                              Programming Language Analysis   \n",
       "1                                                      Shark Tank Statistics   \n",
       "2                   Firestr: encrypted P2P chat and Lua application platform   \n",
       "3  Ask HN: Google warned me that a state organized hacking group targeted me   \n",
       "4              Ask HN: Please critique my personal digital security strategy   \n",
       "\n",
       "                                                                          lda_100  \\\n",
       "0                       Google’s DeepMind Achieves Speech-Generation Breakthrough   \n",
       "1            Yale researchers reconstruct facial images locked in a viewer’s mind   \n",
       "2                                     Deep Voice: Real-Time Neural Text-To-Speech   \n",
       "3  Generating Factoid Questions with RNNs: The 30M Factoid Question-Answer Corpus   \n",
       "4                                Amazon Transcribe - Automatic speech recognition   \n",
       "\n",
       "                                                                          lda_50  \\\n",
       "0           Yale researchers reconstruct facial images locked in a viewer’s mind   \n",
       "1  Google & Stanford create a digital brain that learns to identify a human face   \n",
       "2                                    Deep Voice: Real-Time Neural Text-To-Speech   \n",
       "3                      Google’s DeepMind Achieves Speech-Generation Breakthrough   \n",
       "4                        Explainable Artificial Intelligence (XAI) Darpa Funding   \n",
       "\n",
       "                                                                           lsi_300  \\\n",
       "0                        Google’s DeepMind Achieves Speech-Generation Breakthrough   \n",
       "1   Generating Factoid Questions with RNNs: The 30M Factoid Question-Answer Corpus   \n",
       "2                                        Making a Video Course – Behind the Scenes   \n",
       "3  Neural nets more accurate than humans at detecting sexual orientation in images   \n",
       "4                                 Amazon Transcribe - Automatic speech recognition   \n",
       "\n",
       "                                                                           lsi_500  \n",
       "0                        Google’s DeepMind Achieves Speech-Generation Breakthrough  \n",
       "1   Generating Factoid Questions with RNNs: The 30M Factoid Question-Answer Corpus  \n",
       "2                                        Making a Video Course – Behind the Scenes  \n",
       "3  Neural nets more accurate than humans at detecting sexual orientation in images  \n",
       "4                                 Amazon Transcribe - Automatic speech recognition  "
      ]
     },
     "execution_count": 346,
     "metadata": {},
     "output_type": "execute_result"
    }
   ],
   "source": [
    "print(\"Given story: {}\".format(given_stories[5]))\n",
    "story_recs_dataframes[5]"
   ]
  },
  {
   "cell_type": "code",
   "execution_count": 347,
   "metadata": {},
   "outputs": [
    {
     "name": "stdout",
     "output_type": "stream",
     "text": [
      "Given story: Jupyter, Mathematica, and the Future of the Research Paper\n"
     ]
    },
    {
     "data": {
      "text/html": [
       "<div>\n",
       "<style scoped>\n",
       "    .dataframe tbody tr th:only-of-type {\n",
       "        vertical-align: middle;\n",
       "    }\n",
       "\n",
       "    .dataframe tbody tr th {\n",
       "        vertical-align: top;\n",
       "    }\n",
       "\n",
       "    .dataframe thead th {\n",
       "        text-align: right;\n",
       "    }\n",
       "</style>\n",
       "<table border=\"1\" class=\"dataframe\">\n",
       "  <thead>\n",
       "    <tr style=\"text-align: right;\">\n",
       "      <th></th>\n",
       "      <th>hdp</th>\n",
       "      <th>lda_100</th>\n",
       "      <th>lda_50</th>\n",
       "      <th>lsi_300</th>\n",
       "      <th>lsi_500</th>\n",
       "    </tr>\n",
       "  </thead>\n",
       "  <tbody>\n",
       "    <tr>\n",
       "      <th>0</th>\n",
       "      <td>Programming Language Analysis</td>\n",
       "      <td>JupyterLab is ready for users</td>\n",
       "      <td>SpaCy: Industrial-strength NLP with Python and Cython</td>\n",
       "      <td>Celebrating Mathematica’s First Quarter Century</td>\n",
       "      <td>Celebrating Mathematica’s First Quarter Century</td>\n",
       "    </tr>\n",
       "    <tr>\n",
       "      <th>1</th>\n",
       "      <td>Shark Tank Statistics</td>\n",
       "      <td>Celebrating Mathematica’s First Quarter Century</td>\n",
       "      <td>The Making of SciPy 1.0</td>\n",
       "      <td>JupyterLab is ready for users</td>\n",
       "      <td>JupyterLab is ready for users</td>\n",
       "    </tr>\n",
       "    <tr>\n",
       "      <th>2</th>\n",
       "      <td>Firestr: encrypted P2P chat and Lua application platform</td>\n",
       "      <td>The Making of SciPy 1.0</td>\n",
       "      <td>JupyterLab is ready for users</td>\n",
       "      <td>Wolfram Language</td>\n",
       "      <td>Wolfram Language</td>\n",
       "    </tr>\n",
       "    <tr>\n",
       "      <th>3</th>\n",
       "      <td>Ask HN: Google warned me that a state organized hacking group targeted me</td>\n",
       "      <td>Starting data analysis with R: Things I wish I'd been told</td>\n",
       "      <td>Celebrating Mathematica’s First Quarter Century</td>\n",
       "      <td>An inside look at Stephen Wolfram's computational paradigm</td>\n",
       "      <td>An inside look at Stephen Wolfram's computational paradigm</td>\n",
       "    </tr>\n",
       "    <tr>\n",
       "      <th>4</th>\n",
       "      <td>Ask HN: Please critique my personal digital security strategy</td>\n",
       "      <td>How to Read a Research Paper [pdf]</td>\n",
       "      <td>You shouldn’t use a spreadsheet for important work</td>\n",
       "      <td>I Wrote a Book to Teach the Wolfram Language</td>\n",
       "      <td>I Wrote a Book to Teach the Wolfram Language</td>\n",
       "    </tr>\n",
       "  </tbody>\n",
       "</table>\n",
       "</div>"
      ],
      "text/plain": [
       "                                                                         hdp  \\\n",
       "0                                              Programming Language Analysis   \n",
       "1                                                      Shark Tank Statistics   \n",
       "2                   Firestr: encrypted P2P chat and Lua application platform   \n",
       "3  Ask HN: Google warned me that a state organized hacking group targeted me   \n",
       "4              Ask HN: Please critique my personal digital security strategy   \n",
       "\n",
       "                                                      lda_100  \\\n",
       "0                               JupyterLab is ready for users   \n",
       "1             Celebrating Mathematica’s First Quarter Century   \n",
       "2                                     The Making of SciPy 1.0   \n",
       "3  Starting data analysis with R: Things I wish I'd been told   \n",
       "4                          How to Read a Research Paper [pdf]   \n",
       "\n",
       "                                                  lda_50  \\\n",
       "0  SpaCy: Industrial-strength NLP with Python and Cython   \n",
       "1                                The Making of SciPy 1.0   \n",
       "2                          JupyterLab is ready for users   \n",
       "3        Celebrating Mathematica’s First Quarter Century   \n",
       "4     You shouldn’t use a spreadsheet for important work   \n",
       "\n",
       "                                                      lsi_300  \\\n",
       "0             Celebrating Mathematica’s First Quarter Century   \n",
       "1                               JupyterLab is ready for users   \n",
       "2                                            Wolfram Language   \n",
       "3  An inside look at Stephen Wolfram's computational paradigm   \n",
       "4                I Wrote a Book to Teach the Wolfram Language   \n",
       "\n",
       "                                                      lsi_500  \n",
       "0             Celebrating Mathematica’s First Quarter Century  \n",
       "1                               JupyterLab is ready for users  \n",
       "2                                            Wolfram Language  \n",
       "3  An inside look at Stephen Wolfram's computational paradigm  \n",
       "4                I Wrote a Book to Teach the Wolfram Language  "
      ]
     },
     "execution_count": 347,
     "metadata": {},
     "output_type": "execute_result"
    }
   ],
   "source": [
    "print(\"Given story: {}\".format(given_stories[6]))\n",
    "story_recs_dataframes[6]"
   ]
  },
  {
   "cell_type": "code",
   "execution_count": 348,
   "metadata": {},
   "outputs": [
    {
     "name": "stdout",
     "output_type": "stream",
     "text": [
      "Given story: Procedural Modelling of Buildings [pdf]\n"
     ]
    },
    {
     "data": {
      "text/html": [
       "<div>\n",
       "<style scoped>\n",
       "    .dataframe tbody tr th:only-of-type {\n",
       "        vertical-align: middle;\n",
       "    }\n",
       "\n",
       "    .dataframe tbody tr th {\n",
       "        vertical-align: top;\n",
       "    }\n",
       "\n",
       "    .dataframe thead th {\n",
       "        text-align: right;\n",
       "    }\n",
       "</style>\n",
       "<table border=\"1\" class=\"dataframe\">\n",
       "  <thead>\n",
       "    <tr style=\"text-align: right;\">\n",
       "      <th></th>\n",
       "      <th>hdp</th>\n",
       "      <th>lda_100</th>\n",
       "      <th>lda_50</th>\n",
       "      <th>lsi_300</th>\n",
       "      <th>lsi_500</th>\n",
       "    </tr>\n",
       "  </thead>\n",
       "  <tbody>\n",
       "    <tr>\n",
       "      <th>0</th>\n",
       "      <td>Crawling BitTorrent DHTs for Fun and Profit (2010) [pdf]</td>\n",
       "      <td>Arxiv Sanity Preserver</td>\n",
       "      <td>Arxiv Sanity Preserver</td>\n",
       "      <td>How to Read a Research Paper [pdf]</td>\n",
       "      <td>How to Read a Research Paper [pdf]</td>\n",
       "    </tr>\n",
       "    <tr>\n",
       "      <th>1</th>\n",
       "      <td>Django 1.4 release candidate 2</td>\n",
       "      <td>Best Papers vs. Top Cited Papers in Computer Science</td>\n",
       "      <td>How to Read a Research Paper [pdf]</td>\n",
       "      <td>Best Papers vs. Top Cited Papers in Computer Science</td>\n",
       "      <td>Best Papers vs. Top Cited Papers in Computer Science</td>\n",
       "    </tr>\n",
       "    <tr>\n",
       "      <th>2</th>\n",
       "      <td>Show HN: BOX'NGO, an online buying and selling platform for students</td>\n",
       "      <td>Great Works in Programming Languages</td>\n",
       "      <td>How did Andrew Ng become so good at Machine Learning?</td>\n",
       "      <td>Arxiv Sanity Preserver</td>\n",
       "      <td>Arxiv Sanity Preserver</td>\n",
       "    </tr>\n",
       "    <tr>\n",
       "      <th>3</th>\n",
       "      <td>Remote Jobs, but WHERE?</td>\n",
       "      <td>How to Read a Research Paper [pdf]</td>\n",
       "      <td>Great Works in Programming Languages</td>\n",
       "      <td>The Growing Impact of Old Scientific Papers</td>\n",
       "      <td>The Growing Impact of Old Scientific Papers</td>\n",
       "    </tr>\n",
       "    <tr>\n",
       "      <th>4</th>\n",
       "      <td>Ask HN: Just made Director, now what?</td>\n",
       "      <td>The Growing Impact of Old Scientific Papers</td>\n",
       "      <td>Best Papers vs. Top Cited Papers in Computer Science</td>\n",
       "      <td>Great Works in Programming Languages</td>\n",
       "      <td>Great Works in Programming Languages</td>\n",
       "    </tr>\n",
       "  </tbody>\n",
       "</table>\n",
       "</div>"
      ],
      "text/plain": [
       "                                                                    hdp  \\\n",
       "0              Crawling BitTorrent DHTs for Fun and Profit (2010) [pdf]   \n",
       "1                                        Django 1.4 release candidate 2   \n",
       "2  Show HN: BOX'NGO, an online buying and selling platform for students   \n",
       "3                                               Remote Jobs, but WHERE?   \n",
       "4                                 Ask HN: Just made Director, now what?   \n",
       "\n",
       "                                                lda_100  \\\n",
       "0                                Arxiv Sanity Preserver   \n",
       "1  Best Papers vs. Top Cited Papers in Computer Science   \n",
       "2                  Great Works in Programming Languages   \n",
       "3                    How to Read a Research Paper [pdf]   \n",
       "4           The Growing Impact of Old Scientific Papers   \n",
       "\n",
       "                                                  lda_50  \\\n",
       "0                                 Arxiv Sanity Preserver   \n",
       "1                     How to Read a Research Paper [pdf]   \n",
       "2  How did Andrew Ng become so good at Machine Learning?   \n",
       "3                   Great Works in Programming Languages   \n",
       "4   Best Papers vs. Top Cited Papers in Computer Science   \n",
       "\n",
       "                                                lsi_300  \\\n",
       "0                    How to Read a Research Paper [pdf]   \n",
       "1  Best Papers vs. Top Cited Papers in Computer Science   \n",
       "2                                Arxiv Sanity Preserver   \n",
       "3           The Growing Impact of Old Scientific Papers   \n",
       "4                  Great Works in Programming Languages   \n",
       "\n",
       "                                                lsi_500  \n",
       "0                    How to Read a Research Paper [pdf]  \n",
       "1  Best Papers vs. Top Cited Papers in Computer Science  \n",
       "2                                Arxiv Sanity Preserver  \n",
       "3           The Growing Impact of Old Scientific Papers  \n",
       "4                  Great Works in Programming Languages  "
      ]
     },
     "execution_count": 348,
     "metadata": {},
     "output_type": "execute_result"
    }
   ],
   "source": [
    "print(\"Given story: {}\".format(given_stories[7]))\n",
    "story_recs_dataframes[7]"
   ]
  },
  {
   "cell_type": "code",
   "execution_count": 349,
   "metadata": {},
   "outputs": [
    {
     "name": "stdout",
     "output_type": "stream",
     "text": [
      "Given story: 40,000-year-old bracelet made by extinct human species found (2015)\n"
     ]
    },
    {
     "data": {
      "text/html": [
       "<div>\n",
       "<style scoped>\n",
       "    .dataframe tbody tr th:only-of-type {\n",
       "        vertical-align: middle;\n",
       "    }\n",
       "\n",
       "    .dataframe tbody tr th {\n",
       "        vertical-align: top;\n",
       "    }\n",
       "\n",
       "    .dataframe thead th {\n",
       "        text-align: right;\n",
       "    }\n",
       "</style>\n",
       "<table border=\"1\" class=\"dataframe\">\n",
       "  <thead>\n",
       "    <tr style=\"text-align: right;\">\n",
       "      <th></th>\n",
       "      <th>hdp</th>\n",
       "      <th>lda_100</th>\n",
       "      <th>lda_50</th>\n",
       "      <th>lsi_300</th>\n",
       "      <th>lsi_500</th>\n",
       "    </tr>\n",
       "  </thead>\n",
       "  <tbody>\n",
       "    <tr>\n",
       "      <th>0</th>\n",
       "      <td>Programming Language Analysis</td>\n",
       "      <td>Another person that discovered evolution besides Darwin</td>\n",
       "      <td>Another person that discovered evolution besides Darwin</td>\n",
       "      <td>Thigh Bone Suggests Ancient and Modern Humans Overlapped</td>\n",
       "      <td>Thigh Bone Suggests Ancient and Modern Humans Overlapped</td>\n",
       "    </tr>\n",
       "    <tr>\n",
       "      <th>1</th>\n",
       "      <td>Shark Tank Statistics</td>\n",
       "      <td>Pom-pom crabs fight over tiny anemones, which they hold like boxing gloves</td>\n",
       "      <td>Pom-pom crabs fight over tiny anemones, which they hold like boxing gloves</td>\n",
       "      <td>In Neanderthal DNA, Signs of a Mysterious Human Migration</td>\n",
       "      <td>In Neanderthal DNA, Signs of a Mysterious Human Migration</td>\n",
       "    </tr>\n",
       "    <tr>\n",
       "      <th>2</th>\n",
       "      <td>Firestr: encrypted P2P chat and Lua application platform</td>\n",
       "      <td>Greenland shark found to be at least 272 years old</td>\n",
       "      <td>To Lions, Zebras Are Mostly Gray</td>\n",
       "      <td>A golden age of ancient DNA science begins</td>\n",
       "      <td>A golden age of ancient DNA science begins</td>\n",
       "    </tr>\n",
       "    <tr>\n",
       "      <th>3</th>\n",
       "      <td>Ask HN: Google warned me that a state organized hacking group targeted me</td>\n",
       "      <td>All by Itself, the Humble Sweet Potato Colonized the World: Study</td>\n",
       "      <td>Stanford researcher declares that the sixth mass extinction is here</td>\n",
       "      <td>Culture, mathematical models, and Neandertal extinction</td>\n",
       "      <td>Culture, mathematical models, and Neandertal extinction</td>\n",
       "    </tr>\n",
       "    <tr>\n",
       "      <th>4</th>\n",
       "      <td>Ask HN: Please critique my personal digital security strategy</td>\n",
       "      <td>How and why did humans domesticate animals?</td>\n",
       "      <td>Survival of the Friendliest</td>\n",
       "      <td>What Happened to the Hominids Who May Have Been Smarter Than Us?</td>\n",
       "      <td>What Happened to the Hominids Who May Have Been Smarter Than Us?</td>\n",
       "    </tr>\n",
       "  </tbody>\n",
       "</table>\n",
       "</div>"
      ],
      "text/plain": [
       "                                                                         hdp  \\\n",
       "0                                              Programming Language Analysis   \n",
       "1                                                      Shark Tank Statistics   \n",
       "2                   Firestr: encrypted P2P chat and Lua application platform   \n",
       "3  Ask HN: Google warned me that a state organized hacking group targeted me   \n",
       "4              Ask HN: Please critique my personal digital security strategy   \n",
       "\n",
       "                                                                      lda_100  \\\n",
       "0                     Another person that discovered evolution besides Darwin   \n",
       "1  Pom-pom crabs fight over tiny anemones, which they hold like boxing gloves   \n",
       "2                          Greenland shark found to be at least 272 years old   \n",
       "3           All by Itself, the Humble Sweet Potato Colonized the World: Study   \n",
       "4                                 How and why did humans domesticate animals?   \n",
       "\n",
       "                                                                       lda_50  \\\n",
       "0                     Another person that discovered evolution besides Darwin   \n",
       "1  Pom-pom crabs fight over tiny anemones, which they hold like boxing gloves   \n",
       "2                                            To Lions, Zebras Are Mostly Gray   \n",
       "3         Stanford researcher declares that the sixth mass extinction is here   \n",
       "4                                                 Survival of the Friendliest   \n",
       "\n",
       "                                                            lsi_300  \\\n",
       "0          Thigh Bone Suggests Ancient and Modern Humans Overlapped   \n",
       "1         In Neanderthal DNA, Signs of a Mysterious Human Migration   \n",
       "2                        A golden age of ancient DNA science begins   \n",
       "3           Culture, mathematical models, and Neandertal extinction   \n",
       "4  What Happened to the Hominids Who May Have Been Smarter Than Us?   \n",
       "\n",
       "                                                            lsi_500  \n",
       "0          Thigh Bone Suggests Ancient and Modern Humans Overlapped  \n",
       "1         In Neanderthal DNA, Signs of a Mysterious Human Migration  \n",
       "2                        A golden age of ancient DNA science begins  \n",
       "3           Culture, mathematical models, and Neandertal extinction  \n",
       "4  What Happened to the Hominids Who May Have Been Smarter Than Us?  "
      ]
     },
     "execution_count": 349,
     "metadata": {},
     "output_type": "execute_result"
    }
   ],
   "source": [
    "print(\"Given story: {}\".format(given_stories[8]))\n",
    "story_recs_dataframes[8]"
   ]
  },
  {
   "cell_type": "code",
   "execution_count": 350,
   "metadata": {},
   "outputs": [
    {
     "name": "stdout",
     "output_type": "stream",
     "text": [
      "Given story: Schools Are Slow to Learn That Sleep Deprivation Hits Teenagers Hardest\n"
     ]
    },
    {
     "data": {
      "text/html": [
       "<div>\n",
       "<style scoped>\n",
       "    .dataframe tbody tr th:only-of-type {\n",
       "        vertical-align: middle;\n",
       "    }\n",
       "\n",
       "    .dataframe tbody tr th {\n",
       "        vertical-align: top;\n",
       "    }\n",
       "\n",
       "    .dataframe thead th {\n",
       "        text-align: right;\n",
       "    }\n",
       "</style>\n",
       "<table border=\"1\" class=\"dataframe\">\n",
       "  <thead>\n",
       "    <tr style=\"text-align: right;\">\n",
       "      <th></th>\n",
       "      <th>hdp</th>\n",
       "      <th>lda_100</th>\n",
       "      <th>lda_50</th>\n",
       "      <th>lsi_300</th>\n",
       "      <th>lsi_500</th>\n",
       "    </tr>\n",
       "  </thead>\n",
       "  <tbody>\n",
       "    <tr>\n",
       "      <th>0</th>\n",
       "      <td>Programming Language Analysis</td>\n",
       "      <td>Why some people respond to stress by falling asleep</td>\n",
       "      <td>How I got into MIT when I was 14</td>\n",
       "      <td>The myth of the eight-hour sleep</td>\n",
       "      <td>The myth of the eight-hour sleep</td>\n",
       "    </tr>\n",
       "    <tr>\n",
       "      <th>1</th>\n",
       "      <td>Shark Tank Statistics</td>\n",
       "      <td>Never mind talent: Practice, practice, practice</td>\n",
       "      <td>How Would You Do on the New SAT?</td>\n",
       "      <td>Productive on six hours of sleep? You’re deluding yourself, expert says</td>\n",
       "      <td>Productive on six hours of sleep? You’re deluding yourself, expert says</td>\n",
       "    </tr>\n",
       "    <tr>\n",
       "      <th>2</th>\n",
       "      <td>Firestr: encrypted P2P chat and Lua application platform</td>\n",
       "      <td>Existential Depression in Gifted Children and Adults (2009) [pdf]</td>\n",
       "      <td>Ask HN: Allowance for kids?</td>\n",
       "      <td>When you have to wake up earlier than usual</td>\n",
       "      <td>When you have to wake up earlier than usual</td>\n",
       "    </tr>\n",
       "    <tr>\n",
       "      <th>3</th>\n",
       "      <td>Ask HN: Google warned me that a state organized hacking group targeted me</td>\n",
       "      <td>Can 10,000 hours of practice make you an expert?</td>\n",
       "      <td>Existential Depression in Gifted Children and Adults (2009) [pdf]</td>\n",
       "      <td>Ask HN: How many hours of sleep are you getting?</td>\n",
       "      <td>Ask HN: How many hours of sleep are you getting?</td>\n",
       "    </tr>\n",
       "    <tr>\n",
       "      <th>4</th>\n",
       "      <td>Ask HN: Please critique my personal digital security strategy</td>\n",
       "      <td>When you have to wake up earlier than usual</td>\n",
       "      <td>How Does Your Kindergarten Classroom Affect Your Earnings?</td>\n",
       "      <td>The Uberwomen Who Beat Sleep: Origin of the \"Uberman\" polyphasic sleep schedule</td>\n",
       "      <td>The Uberwomen Who Beat Sleep: Origin of the \"Uberman\" polyphasic sleep schedule</td>\n",
       "    </tr>\n",
       "  </tbody>\n",
       "</table>\n",
       "</div>"
      ],
      "text/plain": [
       "                                                                         hdp  \\\n",
       "0                                              Programming Language Analysis   \n",
       "1                                                      Shark Tank Statistics   \n",
       "2                   Firestr: encrypted P2P chat and Lua application platform   \n",
       "3  Ask HN: Google warned me that a state organized hacking group targeted me   \n",
       "4              Ask HN: Please critique my personal digital security strategy   \n",
       "\n",
       "                                                             lda_100  \\\n",
       "0                Why some people respond to stress by falling asleep   \n",
       "1                    Never mind talent: Practice, practice, practice   \n",
       "2  Existential Depression in Gifted Children and Adults (2009) [pdf]   \n",
       "3                   Can 10,000 hours of practice make you an expert?   \n",
       "4                        When you have to wake up earlier than usual   \n",
       "\n",
       "                                                              lda_50  \\\n",
       "0                                   How I got into MIT when I was 14   \n",
       "1                                   How Would You Do on the New SAT?   \n",
       "2                                        Ask HN: Allowance for kids?   \n",
       "3  Existential Depression in Gifted Children and Adults (2009) [pdf]   \n",
       "4         How Does Your Kindergarten Classroom Affect Your Earnings?   \n",
       "\n",
       "                                                                           lsi_300  \\\n",
       "0                                                 The myth of the eight-hour sleep   \n",
       "1          Productive on six hours of sleep? You’re deluding yourself, expert says   \n",
       "2                                      When you have to wake up earlier than usual   \n",
       "3                                 Ask HN: How many hours of sleep are you getting?   \n",
       "4  The Uberwomen Who Beat Sleep: Origin of the \"Uberman\" polyphasic sleep schedule   \n",
       "\n",
       "                                                                           lsi_500  \n",
       "0                                                 The myth of the eight-hour sleep  \n",
       "1          Productive on six hours of sleep? You’re deluding yourself, expert says  \n",
       "2                                      When you have to wake up earlier than usual  \n",
       "3                                 Ask HN: How many hours of sleep are you getting?  \n",
       "4  The Uberwomen Who Beat Sleep: Origin of the \"Uberman\" polyphasic sleep schedule  "
      ]
     },
     "execution_count": 350,
     "metadata": {},
     "output_type": "execute_result"
    }
   ],
   "source": [
    "print(\"Given story: {}\".format(given_stories[9]))\n",
    "story_recs_dataframes[9]"
   ]
  },
  {
   "cell_type": "code",
   "execution_count": null,
   "metadata": {},
   "outputs": [],
   "source": []
  }
 ],
 "metadata": {
  "kernelspec": {
   "display_name": "Python 3",
   "language": "python",
   "name": "python3"
  },
  "language_info": {
   "codemirror_mode": {
    "name": "ipython",
    "version": 3
   },
   "file_extension": ".py",
   "mimetype": "text/x-python",
   "name": "python",
   "nbconvert_exporter": "python",
   "pygments_lexer": "ipython3",
   "version": "3.7.4"
  }
 },
 "nbformat": 4,
 "nbformat_minor": 4
}
