{
 "cells": [
  {
   "cell_type": "code",
   "execution_count": 1,
   "metadata": {},
   "outputs": [],
   "source": [
    "from joblib import Parallel, delayed, cpu_count\n",
    "\n",
    "import psycopg2\n",
    "\n",
    "import pandas as pd\n",
    "import pandas.io.sql as sqlio\n",
    "\n",
    "import funcy as fp\n",
    "\n",
    "from multiprocessing import Pool\n",
    "import numpy as np\n",
    "\n",
    "import pattern3\n",
    "\n",
    "import gensim\n",
    "from gensim.corpora import Dictionary\n",
    "from gensim.models import CoherenceModel, LdaModel, LsiModel, HdpModel, LdaMulticore, TfidfModel\n",
    "from gensim.models.wrappers import LdaMallet\n",
    "from gensim.similarities import Similarity, MatrixSimilarity, SparseMatrixSimilarity\n",
    "\n",
    "# import pyLDAvis.gensim\n",
    "import matplotlib.pyplot as plt\n",
    "\n",
    "from gensim.test.utils import get_tmpfile\n",
    "from gensim.matutils import hellinger\n",
    "from gensim.utils import to_utf8, tokenize\n",
    "from gensim.models.phrases import Phrases, Phraser\n",
    "from gensim.parsing.preprocessing import strip_tags, preprocess_string, remove_stopwords, strip_punctuation, strip_multiple_whitespaces, remove_stopwords, strip_numeric, strip_non_alphanum\n",
    "\n",
    "import pickle"
   ]
  },
  {
   "cell_type": "code",
   "execution_count": 2,
   "metadata": {},
   "outputs": [],
   "source": [
    "def save_pickle(file_name, object_to_pickle):\n",
    "    with open(file_name, 'wb') as f:\n",
    "        pickle.dump(object_to_pickle, f)\n",
    "        \n",
    "def load_pickle(file_name):\n",
    "    with open(file_name, 'rb') as f:\n",
    "        unpickled_object = pickle.load(f)\n",
    "    return unpickled_object"
   ]
  },
  {
   "cell_type": "code",
   "execution_count": 3,
   "metadata": {},
   "outputs": [
    {
     "name": "stdout",
     "output_type": "stream",
     "text": [
      "CPU times: user 41.5 ms, sys: 40 ms, total: 81.5 ms\n",
      "Wall time: 1.18 s\n"
     ]
    }
   ],
   "source": [
    "%%time\n",
    "\n",
    "conn = psycopg2.connect(\"host=localhost dbname=postgres user=postgres\")\n",
    "\n",
    "commenters_df = sqlio.read_sql_query(\"SELECT id, commenters FROM bq_all WHERE all_text IS NOT NULL AND all_text != '' AND article_content IS NOT NULL AND article_content != '' ORDER BY score DESC, story_time DESC LIMIT 25000\", conn, index_col='id')"
   ]
  },
  {
   "cell_type": "code",
   "execution_count": 4,
   "metadata": {},
   "outputs": [],
   "source": [
    "# Transform string of commenters into list:\n",
    "def listify_commenters(commenters_str):\n",
    "    return commenters_str.split(\", \")"
   ]
  },
  {
   "cell_type": "code",
   "execution_count": 5,
   "metadata": {},
   "outputs": [
    {
     "name": "stdout",
     "output_type": "stream",
     "text": [
      "CPU times: user 166 ms, sys: 33.5 ms, total: 200 ms\n",
      "Wall time: 199 ms\n"
     ]
    }
   ],
   "source": [
    "%%time\n",
    "\n",
    "commenters_df[\"commenters\"] = commenters_df[\"commenters\"].apply(listify_commenters)"
   ]
  },
  {
   "cell_type": "code",
   "execution_count": 6,
   "metadata": {},
   "outputs": [],
   "source": [
    "# Get list of all unique commenters:\n",
    "all_commenters = list(set(x for l in commenters_df[\"commenters\"].values for x in l))"
   ]
  },
  {
   "cell_type": "code",
   "execution_count": 7,
   "metadata": {},
   "outputs": [],
   "source": [
    "all_commenters.remove(\"\")"
   ]
  },
  {
   "cell_type": "code",
   "execution_count": 8,
   "metadata": {},
   "outputs": [],
   "source": [
    "# Convert list of commenters for each story to \"bag of commenters\" (boc):\n",
    "dct = Dictionary(commenters_df[\"commenters\"].values)\n",
    "dct.filter_extremes()\n",
    "\n",
    "def get_boc(tokens):\n",
    "    return dct.doc2bow(tokens)\n",
    "\n",
    "commenters_df[\"boc\"] = commenters_df[\"commenters\"].apply(get_boc)"
   ]
  },
  {
   "cell_type": "code",
   "execution_count": 9,
   "metadata": {},
   "outputs": [],
   "source": [
    "commenters_ary = commenters_df[\"boc\"].values"
   ]
  },
  {
   "cell_type": "code",
   "execution_count": 10,
   "metadata": {},
   "outputs": [],
   "source": [
    "# Dimensionality reduction of \"bag of commenters\" with LSI\n",
    "commenters_dimrec_model = LsiModel(corpus=commenters_ary, num_topics=300, id2word=dct)"
   ]
  },
  {
   "cell_type": "code",
   "execution_count": 11,
   "metadata": {},
   "outputs": [],
   "source": [
    "commenters_dimrec_ary = commenters_dimrec_model[commenters_ary]"
   ]
  },
  {
   "cell_type": "code",
   "execution_count": 12,
   "metadata": {},
   "outputs": [],
   "source": [
    "gensim.corpora.MmCorpus.serialize('commenters_corpus.mm', commenters_dimrec_ary)"
   ]
  },
  {
   "cell_type": "code",
   "execution_count": 14,
   "metadata": {},
   "outputs": [],
   "source": [
    "commenters_dimrec_ary = gensim.corpora.MmCorpus('commenters_corpus.mm')"
   ]
  },
  {
   "cell_type": "code",
   "execution_count": 17,
   "metadata": {},
   "outputs": [],
   "source": [
    "index_temp = get_tmpfile(\"index\")\n",
    "commenters_indexer = Similarity(output_prefix=index_temp, corpus=commenters_dimrec_ary, num_features=len(dct), num_best=6)\n",
    "commenters_indexer.save('commenters_indexer.model')"
   ]
  },
  {
   "cell_type": "code",
   "execution_count": null,
   "metadata": {},
   "outputs": [],
   "source": [
    "# def get_series_index(story_id):\n",
    "#     story_ids_map_dict = {story_id: series_index for series_index, story_id in enumerate(story_ids_list)}\n",
    "#     return story_ids_map_dict[story_id]\n",
    "\n",
    "# def get_story_id(series_index):\n",
    "#     return story_ids_list[series_index]"
   ]
  },
  {
   "cell_type": "code",
   "execution_count": null,
   "metadata": {},
   "outputs": [],
   "source": [
    "# def get_sim_ids(story_id, corpus, indexer):\n",
    "#     series_index = get_series_index(story_id)\n",
    "#     vec = corpus[series_index]\n",
    "#     sims = indexer[vec]\n",
    "#     sim_indices = [sim_index for sim_index, sim_score in sims]\n",
    "#     return sim_indices\n",
    "\n",
    "# def fetch_story_titles_from_pgsql(story_id):\n",
    "#     conn = psycopg2.connect(\"host=localhost dbname=postgres user=postgres\")\n",
    "#     cur = conn.cursor()\n",
    "#     cur.execute(\"SELECT title FROM bq_all WHERE id={};\".format(story_id))\n",
    "#     title = cur.fetchone()[0]\n",
    "#     conn.commit\n",
    "#     return title"
   ]
  },
  {
   "cell_type": "code",
   "execution_count": null,
   "metadata": {},
   "outputs": [],
   "source": [
    "# story_ids_list = load_pickle('story_ids_list')\n",
    "\n",
    "# random_story_ids = np.random.choice(story_ids_list, size=10, replace=False)\n",
    "\n",
    "# recs_dict = {}\n",
    "\n",
    "# for story_id in random_story_ids:\n",
    "#     sim_indices = get_sim_ids(story_id, commenters_dimrec_ary, commenters_indexer)\n",
    "#     rec_titles_list = [fetch_story_titles_from_pgsql(get_story_id(each_id)) for each_id in sim_indices]\n",
    "#     given_story_str = rec_titles_list[0]\n",
    "#     rec_stories_list = rec_titles_list[1:]\n",
    "#     recs_dict[given_story_str] = rec_stories_list"
   ]
  },
  {
   "cell_type": "code",
   "execution_count": null,
   "metadata": {},
   "outputs": [],
   "source": [
    "# pd.DataFrame(recs_dict)"
   ]
  },
  {
   "cell_type": "code",
   "execution_count": null,
   "metadata": {},
   "outputs": [],
   "source": []
  }
 ],
 "metadata": {
  "kernelspec": {
   "display_name": "Python 3",
   "language": "python",
   "name": "python3"
  },
  "language_info": {
   "codemirror_mode": {
    "name": "ipython",
    "version": 3
   },
   "file_extension": ".py",
   "mimetype": "text/x-python",
   "name": "python",
   "nbconvert_exporter": "python",
   "pygments_lexer": "ipython3",
   "version": "3.7.4"
  }
 },
 "nbformat": 4,
 "nbformat_minor": 4
}
