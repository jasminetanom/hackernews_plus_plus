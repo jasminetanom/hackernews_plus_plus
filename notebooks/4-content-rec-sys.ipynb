{
 "cells": [
  {
   "cell_type": "code",
   "execution_count": 1,
   "metadata": {},
   "outputs": [],
   "source": [
    "from joblib import Parallel, delayed, cpu_count\n",
    "\n",
    "import psycopg2\n",
    "\n",
    "import pandas as pd\n",
    "import pandas.io.sql as sqlio\n",
    "\n",
    "import funcy as fp\n",
    "\n",
    "import re\n",
    "\n",
    "from bs4 import BeautifulSoup\n",
    "\n",
    "from textacy.preprocess import preprocess_text, replace_numbers, replace_phone_numbers, replace_urls\n",
    "\n",
    "import nltk\n",
    "from nltk.stem import WordNetLemmatizer \n",
    "\n",
    "import spacy\n",
    "from spacy.lang.en.stop_words import STOP_WORDS\n",
    "\n",
    "from multiprocessing import Pool\n",
    "import numpy as np\n",
    "\n",
    "import pattern3\n",
    "\n",
    "import gensim\n",
    "from gensim.corpora import Dictionary\n",
    "from gensim.models import CoherenceModel, LdaModel, LsiModel, HdpModel, LdaMulticore, TfidfModel\n",
    "from gensim.models.wrappers import LdaMallet\n",
    "from gensim.similarities import Similarity, MatrixSimilarity, SparseMatrixSimilarity\n",
    "\n",
    "# import pyLDAvis.gensim\n",
    "import matplotlib.pyplot as plt\n",
    "\n",
    "from gensim.test.utils import get_tmpfile\n",
    "from gensim.matutils import hellinger\n",
    "from gensim.utils import to_utf8, tokenize\n",
    "from gensim.models.phrases import Phrases, Phraser\n",
    "from gensim.parsing.preprocessing import strip_tags, preprocess_string, remove_stopwords, strip_punctuation, strip_multiple_whitespaces, remove_stopwords, strip_numeric, strip_non_alphanum\n",
    "\n",
    "import pickle"
   ]
  },
  {
   "cell_type": "code",
   "execution_count": 2,
   "metadata": {},
   "outputs": [
    {
     "name": "stdout",
     "output_type": "stream",
     "text": [
      "CPU times: user 1.22 s, sys: 1.63 s, total: 2.86 s\n",
      "Wall time: 21.2 s\n"
     ]
    }
   ],
   "source": [
    "%%time\n",
    "\n",
    "conn = psycopg2.connect(\"host=localhost dbname=postgres user=postgres\")\n",
    "\n",
    "contents_df = sqlio.read_sql_query(\"SELECT id, all_text, article_content FROM bq_all WHERE all_text IS NOT NULL AND all_text != '' AND article_content IS NOT NULL AND article_content != '' ORDER BY score DESC, story_time DESC LIMIT 25000\", conn, index_col='id')"
   ]
  },
  {
   "cell_type": "code",
   "execution_count": 3,
   "metadata": {},
   "outputs": [
    {
     "name": "stdout",
     "output_type": "stream",
     "text": [
      "CPU times: user 503 ms, sys: 427 ms, total: 930 ms\n",
      "Wall time: 930 ms\n"
     ]
    }
   ],
   "source": [
    "%%time\n",
    "\n",
    "contents_df[\"all_text\"] += contents_df[\"article_content\"]"
   ]
  },
  {
   "cell_type": "code",
   "execution_count": 4,
   "metadata": {},
   "outputs": [],
   "source": [
    "test_series = contents_df[\"all_text\"]"
   ]
  },
  {
   "cell_type": "code",
   "execution_count": 5,
   "metadata": {},
   "outputs": [],
   "source": [
    "def iter_series(series):\n",
    "    extracted = 0\n",
    "    for doc in series:\n",
    "        yield doc\n",
    "        extracted += 1\n",
    "        \n",
    "def pool_iter_series(series):\n",
    "    pool = Pool()\n",
    "\n",
    "    series = iter_series(series)\n",
    "\n",
    "    pool.close()\n",
    "    pool.join()\n",
    "    \n",
    "    return series"
   ]
  },
  {
   "cell_type": "code",
   "execution_count": 6,
   "metadata": {},
   "outputs": [],
   "source": [
    "# Define function to escape HTML characters, if any:\n",
    "def strip_html(text):\n",
    "    soup = BeautifulSoup(text, \"html.parser\")\n",
    "    return soup.get_text()\n",
    "\n",
    "# Define function to replace contractions in string of text, if any:\n",
    "def clean_text(text):\n",
    "    text = strip_html(text)\n",
    "    return replace_numbers(replace_urls(preprocess_text(text, fix_unicode=True, no_accents=True, no_contractions=True, lowercase=True, no_punct=True, no_currency_symbols=True), replace_with=' '), replace_with='')\n",
    "\n",
    "def tokenize_text(text):\n",
    "    return list(tokenize(clean_text(text.replace('/n', ' ')).replace('.com', ' ').replace('.org', ' ').replace('.net', ' ')))"
   ]
  },
  {
   "cell_type": "code",
   "execution_count": 7,
   "metadata": {},
   "outputs": [],
   "source": [
    "STOP_WORDS = list(STOP_WORDS)\n",
    "STOP_WORDS.append('http')\n",
    "STOP_WORDS.append('www')\n",
    "\n",
    "def lemmatize_words(words_list):\n",
    "    wnl = WordNetLemmatizer()\n",
    "    return [wnl.lemmatize(wnl.lemmatize(wnl.lemmatize(word, 'a'), 'v'), 'n') for word in words_list if len(word) >= 3]"
   ]
  },
  {
   "cell_type": "code",
   "execution_count": 8,
   "metadata": {},
   "outputs": [],
   "source": [
    "def pool_imap(function, generator):\n",
    "    pool = Pool()\n",
    "\n",
    "    result_generator = pool.imap(function, generator)\n",
    "\n",
    "    pool.close()\n",
    "    pool.join()\n",
    "    \n",
    "    return result_generator"
   ]
  },
  {
   "cell_type": "code",
   "execution_count": 9,
   "metadata": {},
   "outputs": [],
   "source": [
    "def get_phrases(doc_stream):\n",
    "    return [word for word in trigram[bigram[doc_stream]] if len(word) >= 3]"
   ]
  },
  {
   "cell_type": "code",
   "execution_count": 10,
   "metadata": {},
   "outputs": [],
   "source": [
    "def save_pickle(file_name, object_to_pickle):\n",
    "    with open(file_name, 'wb') as f:\n",
    "        pickle.dump(object_to_pickle, f)\n",
    "        \n",
    "def load_pickle(file_name):\n",
    "    with open(file_name, 'rb') as f:\n",
    "        unpickled_object = pickle.load(f)\n",
    "    return unpickled_object"
   ]
  },
  {
   "cell_type": "code",
   "execution_count": 11,
   "metadata": {},
   "outputs": [],
   "source": [
    "def do_preprocess_step(iterable_input, function, file_name):\n",
    "    docs = pool_iter_series(iterable_input)\n",
    "    processed_docs = pool_imap(function, docs)\n",
    "    docs_list = list(processed_docs)\n",
    "    save_pickle(file_name, docs_list)\n",
    "    docs_list = load_pickle(file_name)\n",
    "    return docs_list"
   ]
  },
  {
   "cell_type": "code",
   "execution_count": 12,
   "metadata": {},
   "outputs": [],
   "source": [
    "def get_bow(tokens):\n",
    "    return dct.doc2bow(tokens)"
   ]
  },
  {
   "cell_type": "code",
   "execution_count": 13,
   "metadata": {},
   "outputs": [],
   "source": [
    "def train_and_save_gensim_model(model_type_str, corpus, file_name='model_300.model', num_topics=None):\n",
    "    if model_type_str == \"tfidf\":\n",
    "        model = TfidfModel(corpus=corpus, id2word=dct)\n",
    "    elif model_type_str == \"lsi\":\n",
    "        model = LsiModel(corpus=corpus, num_topics=num_topics, id2word=dct)\n",
    "    elif model_type_str == \"lda\":\n",
    "        model = LdaModel(corpus=corpus, alpha='auto', num_topics=num_topics, id2word=dct)\n",
    "    elif model_type_str == \"hdp\":\n",
    "        model = HdpModel(corpus=corpus, id2word=dct)\n",
    "    model.save(file_name)\n",
    "    return model"
   ]
  },
  {
   "cell_type": "code",
   "execution_count": 14,
   "metadata": {},
   "outputs": [],
   "source": [
    "def transform_tfidf(bow):\n",
    "    return tfidf_model[bow]"
   ]
  },
  {
   "cell_type": "code",
   "execution_count": 15,
   "metadata": {},
   "outputs": [],
   "source": [
    "def train_and_save_indexer(corpus, file_name='model_100_indexer.model'):\n",
    "    index_temp = get_tmpfile(\"index\")\n",
    "    indexer = Similarity(output_prefix=index_temp, corpus=corpus, num_features=len(dct), num_best=6)\n",
    "    indexer.save(file_name)\n",
    "    return indexer"
   ]
  },
  {
   "cell_type": "markdown",
   "metadata": {},
   "source": [
    "## CLEAN AND TOKENIZE TEXTS"
   ]
  },
  {
   "cell_type": "code",
   "execution_count": 16,
   "metadata": {},
   "outputs": [
    {
     "name": "stdout",
     "output_type": "stream",
     "text": [
      "CPU times: user 2min 10s, sys: 2min 45s, total: 4min 56s\n",
      "Wall time: 25min 50s\n"
     ]
    }
   ],
   "source": [
    "%%time\n",
    "tokens_list = do_preprocess_step(test_series, tokenize_text, 'tokens_list.pkl')"
   ]
  },
  {
   "cell_type": "markdown",
   "metadata": {},
   "source": [
    "## LEMMATIZE TEXTS"
   ]
  },
  {
   "cell_type": "code",
   "execution_count": 17,
   "metadata": {},
   "outputs": [
    {
     "name": "stdout",
     "output_type": "stream",
     "text": [
      "CPU times: user 2min 32s, sys: 3min 57s, total: 6min 30s\n",
      "Wall time: 24min 39s\n"
     ]
    }
   ],
   "source": [
    "%%time\n",
    "lemmatized_list = do_preprocess_step(tokens_list, lemmatize_words, 'lemmatized_list.pkl')"
   ]
  },
  {
   "cell_type": "markdown",
   "metadata": {},
   "source": [
    "## DETECT PHRASES"
   ]
  },
  {
   "cell_type": "code",
   "execution_count": 18,
   "metadata": {},
   "outputs": [
    {
     "name": "stdout",
     "output_type": "stream",
     "text": [
      "CPU times: user 13min 34s, sys: 27.7 s, total: 14min 2s\n",
      "Wall time: 14min 17s\n"
     ]
    }
   ],
   "source": [
    "%%time\n",
    "\n",
    "phrases = Phrases(lemmatized_list)\n",
    "bigram = Phraser(phrases)\n",
    "trigram = Phrases(bigram[lemmatized_list])"
   ]
  },
  {
   "cell_type": "code",
   "execution_count": 19,
   "metadata": {},
   "outputs": [
    {
     "name": "stderr",
     "output_type": "stream",
     "text": [
      "/Users/jasminetan/anaconda2/envs/py36/lib/python3.6/site-packages/gensim/models/phrases.py:494: UserWarning: For a faster implementation, use the gensim.models.phrases.Phraser class\n",
      "  warnings.warn(\"For a faster implementation, use the gensim.models.phrases.Phraser class\")\n",
      "/Users/jasminetan/anaconda2/envs/py36/lib/python3.6/site-packages/gensim/models/phrases.py:494: UserWarning: For a faster implementation, use the gensim.models.phrases.Phraser class\n",
      "  warnings.warn(\"For a faster implementation, use the gensim.models.phrases.Phraser class\")\n",
      "/Users/jasminetan/anaconda2/envs/py36/lib/python3.6/site-packages/gensim/models/phrases.py:494: UserWarning: For a faster implementation, use the gensim.models.phrases.Phraser class\n",
      "  warnings.warn(\"For a faster implementation, use the gensim.models.phrases.Phraser class\")\n",
      "/Users/jasminetan/anaconda2/envs/py36/lib/python3.6/site-packages/gensim/models/phrases.py:494: UserWarning: For a faster implementation, use the gensim.models.phrases.Phraser class\n",
      "  warnings.warn(\"For a faster implementation, use the gensim.models.phrases.Phraser class\")\n"
     ]
    },
    {
     "name": "stdout",
     "output_type": "stream",
     "text": [
      "CPU times: user 2min 20s, sys: 4min 32s, total: 6min 52s\n",
      "Wall time: 18min 47s\n"
     ]
    }
   ],
   "source": [
    "%%time\n",
    "\n",
    "final_tokens_list = do_preprocess_step(lemmatized_list, get_phrases, 'final_tokens_list.pkl')"
   ]
  },
  {
   "cell_type": "markdown",
   "metadata": {},
   "source": [
    "## CREATE DICTIONARY (ID2WORD)"
   ]
  },
  {
   "cell_type": "code",
   "execution_count": 20,
   "metadata": {},
   "outputs": [
    {
     "name": "stdout",
     "output_type": "stream",
     "text": [
      "CPU times: user 10.8 ms, sys: 2.18 s, total: 2.19 s\n",
      "Wall time: 2.66 s\n"
     ]
    }
   ],
   "source": [
    "%%time\n",
    "\n",
    "final_tokens = pool_iter_series(final_tokens_list)"
   ]
  },
  {
   "cell_type": "code",
   "execution_count": 21,
   "metadata": {},
   "outputs": [
    {
     "name": "stdout",
     "output_type": "stream",
     "text": [
      "CPU times: user 1min 10s, sys: 9.45 s, total: 1min 19s\n",
      "Wall time: 1min 22s\n"
     ]
    }
   ],
   "source": [
    "%%time\n",
    "\n",
    "# Train dictionary:\n",
    "\n",
    "dct = Dictionary(final_tokens)"
   ]
  },
  {
   "cell_type": "code",
   "execution_count": 22,
   "metadata": {},
   "outputs": [
    {
     "name": "stdout",
     "output_type": "stream",
     "text": [
      "CPU times: user 1.33 s, sys: 928 ms, total: 2.25 s\n",
      "Wall time: 2.32 s\n"
     ]
    }
   ],
   "source": [
    "%%time\n",
    "\n",
    "# Filter dictionary (valid terms in bag of words/corpus):\n",
    "\n",
    "dct.filter_extremes(no_below=10, no_above=0.3, keep_n=None)"
   ]
  },
  {
   "cell_type": "code",
   "execution_count": 23,
   "metadata": {},
   "outputs": [
    {
     "name": "stdout",
     "output_type": "stream",
     "text": [
      "CPU times: user 33.7 ms, sys: 24.8 ms, total: 58.4 ms\n",
      "Wall time: 93.3 ms\n"
     ]
    }
   ],
   "source": [
    "%%time\n",
    "\n",
    "dct.save('dct.dict')"
   ]
  },
  {
   "cell_type": "code",
   "execution_count": 24,
   "metadata": {},
   "outputs": [
    {
     "name": "stdout",
     "output_type": "stream",
     "text": [
      "CPU times: user 44.8 ms, sys: 19.6 ms, total: 64.4 ms\n",
      "Wall time: 79.3 ms\n"
     ]
    }
   ],
   "source": [
    "%%time\n",
    "\n",
    "dct = dct.load('dct.dict')"
   ]
  },
  {
   "cell_type": "markdown",
   "metadata": {},
   "source": [
    "## CONVERT TEXT TO BAG-OF-WORDS (TOKENS TO ID)"
   ]
  },
  {
   "cell_type": "code",
   "execution_count": 25,
   "metadata": {},
   "outputs": [
    {
     "name": "stdout",
     "output_type": "stream",
     "text": [
      "CPU times: user 10.2 ms, sys: 2.17 s, total: 2.18 s\n",
      "Wall time: 2.34 s\n"
     ]
    }
   ],
   "source": [
    "%%time\n",
    "\n",
    "final_tokens = pool_iter_series(final_tokens_list)"
   ]
  },
  {
   "cell_type": "code",
   "execution_count": 26,
   "metadata": {},
   "outputs": [
    {
     "name": "stdout",
     "output_type": "stream",
     "text": [
      "CPU times: user 40 s, sys: 2min 6s, total: 2min 46s\n",
      "Wall time: 4min 59s\n"
     ]
    }
   ],
   "source": [
    "%%time\n",
    "\n",
    "token2id = pool_imap(get_bow, final_tokens)"
   ]
  },
  {
   "cell_type": "code",
   "execution_count": 27,
   "metadata": {},
   "outputs": [
    {
     "name": "stdout",
     "output_type": "stream",
     "text": [
      "CPU times: user 21.1 s, sys: 2.63 s, total: 23.7 s\n",
      "Wall time: 25 s\n"
     ]
    }
   ],
   "source": [
    "%%time\n",
    "\n",
    "gensim.corpora.MmCorpus.serialize('corpus_bow.mm', token2id)"
   ]
  },
  {
   "cell_type": "code",
   "execution_count": 28,
   "metadata": {},
   "outputs": [
    {
     "name": "stdout",
     "output_type": "stream",
     "text": [
      "MmCorpus(25000 documents, 86410 features, 14003923 non-zero entries)\n",
      "CPU times: user 6 ms, sys: 12.8 ms, total: 18.8 ms\n",
      "Wall time: 36.1 ms\n"
     ]
    }
   ],
   "source": [
    "%%time\n",
    "\n",
    "mm_corpus = gensim.corpora.MmCorpus('corpus_bow.mm')\n",
    "print(mm_corpus)"
   ]
  },
  {
   "cell_type": "markdown",
   "metadata": {},
   "source": [
    "## PERFORM TFIDF TRANSFORMATION"
   ]
  },
  {
   "cell_type": "code",
   "execution_count": 29,
   "metadata": {},
   "outputs": [
    {
     "name": "stdout",
     "output_type": "stream",
     "text": [
      "CPU times: user 11.4 s, sys: 178 ms, total: 11.5 s\n",
      "Wall time: 11.7 s\n"
     ]
    }
   ],
   "source": [
    "%%time\n",
    "tfidf_model = train_and_save_gensim_model(\"tfidf\", mm_corpus, \"tfidf.model\")"
   ]
  },
  {
   "cell_type": "code",
   "execution_count": 30,
   "metadata": {},
   "outputs": [
    {
     "name": "stdout",
     "output_type": "stream",
     "text": [
      "CPU times: user 43.6 s, sys: 1min 38s, total: 2min 22s\n",
      "Wall time: 3min 55s\n"
     ]
    }
   ],
   "source": [
    "%%time\n",
    "\n",
    "tfidf_corpus = pool_imap(transform_tfidf, mm_corpus)"
   ]
  },
  {
   "cell_type": "code",
   "execution_count": 31,
   "metadata": {},
   "outputs": [
    {
     "name": "stdout",
     "output_type": "stream",
     "text": [
      "CPU times: user 34.7 s, sys: 2.71 s, total: 37.4 s\n",
      "Wall time: 38.3 s\n"
     ]
    }
   ],
   "source": [
    "%%time\n",
    "\n",
    "gensim.corpora.MmCorpus.serialize('corpus_tfidf.mm', tfidf_corpus)"
   ]
  },
  {
   "cell_type": "code",
   "execution_count": 32,
   "metadata": {},
   "outputs": [
    {
     "name": "stdout",
     "output_type": "stream",
     "text": [
      "MmCorpus(25000 documents, 86410 features, 14003923 non-zero entries)\n",
      "CPU times: user 6.23 ms, sys: 15.6 ms, total: 21.8 ms\n",
      "Wall time: 50.8 ms\n"
     ]
    }
   ],
   "source": [
    "%%time\n",
    "\n",
    "tfidf_corpus = gensim.corpora.MmCorpus('corpus_tfidf.mm')\n",
    "print(tfidf_corpus)"
   ]
  },
  {
   "cell_type": "markdown",
   "metadata": {},
   "source": [
    "## TRAIN TOPIC MODELS/DIMENSIONALITY REDUCERS"
   ]
  },
  {
   "cell_type": "code",
   "execution_count": 33,
   "metadata": {},
   "outputs": [
    {
     "name": "stdout",
     "output_type": "stream",
     "text": [
      "CPU times: user 2min 48s, sys: 1min 42s, total: 4min 31s\n",
      "Wall time: 5min 19s\n"
     ]
    }
   ],
   "source": [
    "%%time\n",
    "\n",
    "lsimodel_500 = train_and_save_gensim_model(\"lsi\", tfidf_corpus, 'lsimodel_500.model', num_topics=500)"
   ]
  },
  {
   "cell_type": "code",
   "execution_count": 34,
   "metadata": {},
   "outputs": [
    {
     "name": "stdout",
     "output_type": "stream",
     "text": [
      "CPU times: user 1min 32s, sys: 4.84 s, total: 1min 37s\n",
      "Wall time: 1min 17s\n"
     ]
    }
   ],
   "source": [
    "%%time\n",
    "\n",
    "lsimodel_300 = train_and_save_gensim_model(\"lsi\", tfidf_corpus, 'lsimodel_300.model', num_topics=300)"
   ]
  },
  {
   "cell_type": "code",
   "execution_count": 35,
   "metadata": {},
   "outputs": [
    {
     "name": "stdout",
     "output_type": "stream",
     "text": [
      "CPU times: user 51 s, sys: 2.25 s, total: 53.3 s\n",
      "Wall time: 45.2 s\n"
     ]
    }
   ],
   "source": [
    "%%time\n",
    "\n",
    "ldamodel_100 = train_and_save_gensim_model(\"lsi\", tfidf_corpus, 'ldamodel_100.model', num_topics=100)"
   ]
  },
  {
   "cell_type": "code",
   "execution_count": 36,
   "metadata": {},
   "outputs": [
    {
     "name": "stdout",
     "output_type": "stream",
     "text": [
      "CPU times: user 1min 1s, sys: 1min 32s, total: 2min 34s\n",
      "Wall time: 3min 50s\n"
     ]
    }
   ],
   "source": [
    "%%time\n",
    "\n",
    "ldamodel_50 = train_and_save_gensim_model(\"lsi\", tfidf_corpus, 'ldamodel_50.model', num_topics=50)"
   ]
  },
  {
   "cell_type": "code",
   "execution_count": 37,
   "metadata": {},
   "outputs": [
    {
     "name": "stdout",
     "output_type": "stream",
     "text": [
      "CPU times: user 14min 21s, sys: 10min 25s, total: 24min 46s\n",
      "Wall time: 27min 53s\n"
     ]
    }
   ],
   "source": [
    "%%time\n",
    "\n",
    "hdpmodel = train_and_save_gensim_model(\"hdp\", tfidf_corpus, 'hdpmodel.model')"
   ]
  },
  {
   "cell_type": "markdown",
   "metadata": {},
   "source": [
    "## CONVERT TOKENS TO TOPIC DISTRIBUTIONS"
   ]
  },
  {
   "cell_type": "code",
   "execution_count": 38,
   "metadata": {},
   "outputs": [
    {
     "name": "stdout",
     "output_type": "stream",
     "text": [
      "CPU times: user 1min 13s, sys: 1min 25s, total: 2min 38s\n",
      "Wall time: 3min 56s\n"
     ]
    }
   ],
   "source": [
    "%%time\n",
    "\n",
    "lsi_500_corpus = lsimodel_500[tfidf_corpus]\n",
    "gensim.corpora.MmCorpus.serialize('lsi_500_corpus.mm', lsi_500_corpus)"
   ]
  },
  {
   "cell_type": "code",
   "execution_count": 39,
   "metadata": {},
   "outputs": [
    {
     "name": "stdout",
     "output_type": "stream",
     "text": [
      "CPU times: user 41.3 s, sys: 1.09 s, total: 42.4 s\n",
      "Wall time: 43.2 s\n"
     ]
    }
   ],
   "source": [
    "%%time\n",
    "\n",
    "lsi_300_corpus = lsimodel_300[tfidf_corpus]\n",
    "gensim.corpora.MmCorpus.serialize('lsi_300_corpus.mm', lsi_300_corpus)"
   ]
  },
  {
   "cell_type": "code",
   "execution_count": 40,
   "metadata": {},
   "outputs": [
    {
     "name": "stdout",
     "output_type": "stream",
     "text": [
      "CPU times: user 25.2 s, sys: 553 ms, total: 25.7 s\n",
      "Wall time: 25.9 s\n"
     ]
    }
   ],
   "source": [
    "%%time\n",
    "\n",
    "lda_100_corpus = ldamodel_100[tfidf_corpus]\n",
    "gensim.corpora.MmCorpus.serialize('lda_100_corpus.mm', lda_100_corpus)"
   ]
  },
  {
   "cell_type": "code",
   "execution_count": 41,
   "metadata": {},
   "outputs": [
    {
     "name": "stdout",
     "output_type": "stream",
     "text": [
      "CPU times: user 38.3 s, sys: 1min 24s, total: 2min 3s\n",
      "Wall time: 3min 22s\n"
     ]
    }
   ],
   "source": [
    "%%time\n",
    "\n",
    "lda_50_corpus = ldamodel_50[tfidf_corpus]\n",
    "gensim.corpora.MmCorpus.serialize('lda_50_corpus.mm', lda_50_corpus)"
   ]
  },
  {
   "cell_type": "code",
   "execution_count": 42,
   "metadata": {},
   "outputs": [
    {
     "name": "stdout",
     "output_type": "stream",
     "text": [
      "CPU times: user 6min 48s, sys: 9min 53s, total: 16min 42s\n",
      "Wall time: 23min 25s\n"
     ]
    }
   ],
   "source": [
    "%%time\n",
    "\n",
    "hdp_corpus = hdpmodel[tfidf_corpus]\n",
    "gensim.corpora.MmCorpus.serialize('hdp_corpus.mm', hdp_corpus)"
   ]
  },
  {
   "cell_type": "markdown",
   "metadata": {},
   "source": [
    "## BUILT SIMILARITY INDICES FOR THE VARIOUS MODELS"
   ]
  },
  {
   "cell_type": "code",
   "execution_count": 43,
   "metadata": {},
   "outputs": [
    {
     "name": "stdout",
     "output_type": "stream",
     "text": [
      "CPU times: user 1min 40s, sys: 2min 56s, total: 4min 36s\n",
      "Wall time: 7min 28s\n"
     ]
    }
   ],
   "source": [
    "%%time\n",
    "\n",
    "lsi_500_indexer = train_and_save_indexer(lsi_500_corpus, 'lsi_500_indexer.model')"
   ]
  },
  {
   "cell_type": "code",
   "execution_count": 44,
   "metadata": {},
   "outputs": [
    {
     "name": "stdout",
     "output_type": "stream",
     "text": [
      "CPU times: user 1min 7s, sys: 1min 27s, total: 2min 35s\n",
      "Wall time: 3min 57s\n"
     ]
    }
   ],
   "source": [
    "%%time\n",
    "\n",
    "lsi_300_indexer = train_and_save_indexer(lsi_300_corpus, 'lsi_300_indexer.model')"
   ]
  },
  {
   "cell_type": "code",
   "execution_count": 45,
   "metadata": {},
   "outputs": [
    {
     "name": "stdout",
     "output_type": "stream",
     "text": [
      "CPU times: user 46.2 s, sys: 1min 26s, total: 2min 12s\n",
      "Wall time: 3min 34s\n"
     ]
    }
   ],
   "source": [
    "%%time\n",
    "\n",
    "lda_50_indexer = train_and_save_indexer(lda_50_corpus, 'lda_50_indexer.model')"
   ]
  },
  {
   "cell_type": "code",
   "execution_count": 46,
   "metadata": {},
   "outputs": [
    {
     "name": "stdout",
     "output_type": "stream",
     "text": [
      "CPU times: user 51.4 s, sys: 1min 26s, total: 2min 17s\n",
      "Wall time: 3min 39s\n"
     ]
    }
   ],
   "source": [
    "%%time\n",
    "\n",
    "lda_100_indexer = train_and_save_indexer(lda_100_corpus, 'lda_100_indexer.model')"
   ]
  },
  {
   "cell_type": "code",
   "execution_count": 47,
   "metadata": {},
   "outputs": [
    {
     "name": "stdout",
     "output_type": "stream",
     "text": [
      "CPU times: user 7min 27s, sys: 11min 24s, total: 18min 52s\n",
      "Wall time: 26min 57s\n"
     ]
    }
   ],
   "source": [
    "%%time\n",
    "\n",
    "hdp_indexer = train_and_save_indexer(hdp_corpus)"
   ]
  },
  {
   "cell_type": "markdown",
   "metadata": {},
   "source": [
    "## RETRIEVE RECS FOR STORIES"
   ]
  },
  {
   "cell_type": "code",
   "execution_count": 48,
   "metadata": {},
   "outputs": [],
   "source": [
    "def get_series_index(story_id):\n",
    "    story_ids_map_dict = {story_id: series_index for series_index, story_id in enumerate(test_series.index)}\n",
    "    return story_ids_map_dict[story_id]\n",
    "\n",
    "def get_story_id(series_index):\n",
    "    return test_series.index[series_index]"
   ]
  },
  {
   "cell_type": "code",
   "execution_count": 49,
   "metadata": {},
   "outputs": [],
   "source": [
    "def get_sim_ids(story_id, corpus, indexer):\n",
    "    series_index = get_series_index(story_id)\n",
    "    vec = corpus[series_index]\n",
    "    sims = indexer[vec]\n",
    "    sim_indices = [sim_index for sim_index, sim_score in sims]\n",
    "    return sim_indices\n",
    "\n",
    "def fetch_story_titles_from_pgsql(story_id):\n",
    "    conn = psycopg2.connect(\"host=localhost dbname=postgres user=postgres\")\n",
    "    cur = conn.cursor()\n",
    "    cur.execute(\"SELECT title FROM bq_all WHERE id={};\".format(story_id))\n",
    "    title = cur.fetchone()[0]\n",
    "    conn.commit\n",
    "    return title"
   ]
  },
  {
   "cell_type": "code",
   "execution_count": 53,
   "metadata": {},
   "outputs": [],
   "source": [
    "story_ids_list = test_series.index.values"
   ]
  },
  {
   "cell_type": "code",
   "execution_count": 55,
   "metadata": {},
   "outputs": [
    {
     "name": "stdout",
     "output_type": "stream",
     "text": [
      "CPU times: user 3.46 s, sys: 889 ms, total: 4.35 s\n",
      "Wall time: 6.85 s\n"
     ]
    }
   ],
   "source": [
    "%%time\n",
    "\n",
    "story_ids_list\n",
    "\n",
    "corpus_indexer_list= [\n",
    "    ('lsi_500', lsi_500_corpus, lsi_500_indexer),\n",
    "    ('lsi_300', lsi_500_corpus, lsi_500_indexer),\n",
    "    ('lda_100', lda_100_corpus, lda_100_indexer),\n",
    "    ('lda_50', lda_50_corpus, lda_50_indexer),\n",
    "    ('hdp', hdp_corpus, hdp_indexer)\n",
    "     ]\n",
    "\n",
    "random_story_ids = np.random.choice(story_ids_list, size=10, replace=False)\n",
    "\n",
    "given_stories = []\n",
    "model_recs_dicts = []\n",
    "\n",
    "for story_id in random_story_ids:\n",
    "    model_recs = {}\n",
    "    for model_name, corpus, indexer in corpus_indexer_list:\n",
    "        sim_indices = get_sim_ids(story_id, corpus, indexer)\n",
    "        rec_titles_list = [fetch_story_titles_from_pgsql(get_story_id(each_id)) for each_id in sim_indices]\n",
    "        given_story_str = rec_titles_list[0]\n",
    "        given_stories.append(given_story_str)\n",
    "        rec_stories_list = rec_titles_list[1:]\n",
    "        model_recs[model_name] = rec_stories_list\n",
    "    model_recs_dicts.append(model_recs)    "
   ]
  },
  {
   "cell_type": "code",
   "execution_count": 69,
   "metadata": {},
   "outputs": [
    {
     "data": {
      "text/plain": [
       "array([ 6755722,  6936672,  8204007, 16485975,  6101970, 15724609,\n",
       "       15326648, 10539100,  3640830, 11291076])"
      ]
     },
     "execution_count": 69,
     "metadata": {},
     "output_type": "execute_result"
    }
   ],
   "source": [
    "random_story_ids"
   ]
  },
  {
   "cell_type": "code",
   "execution_count": 56,
   "metadata": {},
   "outputs": [
    {
     "name": "stdout",
     "output_type": "stream",
     "text": [
      "CPU times: user 53.7 ms, sys: 15.7 ms, total: 69.4 ms\n",
      "Wall time: 55.7 ms\n"
     ]
    }
   ],
   "source": [
    "%%time\n",
    "\n",
    "story_recs_dataframes = [pd.DataFrame(model_recs_dicts[index]) for index in range(10)]"
   ]
  },
  {
   "cell_type": "code",
   "execution_count": 57,
   "metadata": {},
   "outputs": [],
   "source": [
    "given_stories = given_stories[0::5]"
   ]
  },
  {
   "cell_type": "markdown",
   "metadata": {},
   "source": [
    "## EVALUATE RECOMMENDATIONS"
   ]
  },
  {
   "cell_type": "code",
   "execution_count": 58,
   "metadata": {},
   "outputs": [],
   "source": [
    "pd.set_option('max_colwidth', 200)"
   ]
  },
  {
   "cell_type": "code",
   "execution_count": 59,
   "metadata": {},
   "outputs": [
    {
     "name": "stdout",
     "output_type": "stream",
     "text": [
      "Given story: Visual Cryptography\n"
     ]
    },
    {
     "data": {
      "text/html": [
       "<div>\n",
       "<style scoped>\n",
       "    .dataframe tbody tr th:only-of-type {\n",
       "        vertical-align: middle;\n",
       "    }\n",
       "\n",
       "    .dataframe tbody tr th {\n",
       "        vertical-align: top;\n",
       "    }\n",
       "\n",
       "    .dataframe thead th {\n",
       "        text-align: right;\n",
       "    }\n",
       "</style>\n",
       "<table border=\"1\" class=\"dataframe\">\n",
       "  <thead>\n",
       "    <tr style=\"text-align: right;\">\n",
       "      <th></th>\n",
       "      <th>hdp</th>\n",
       "      <th>lda_100</th>\n",
       "      <th>lda_50</th>\n",
       "      <th>lsi_300</th>\n",
       "      <th>lsi_500</th>\n",
       "    </tr>\n",
       "  </thead>\n",
       "  <tbody>\n",
       "    <tr>\n",
       "      <th>0</th>\n",
       "      <td>Q – Initiative to build commercially available universal quantum computers</td>\n",
       "      <td>Image Dithering: Eleven Algorithms and Source Code</td>\n",
       "      <td>Image Dithering: Eleven Algorithms and Source Code</td>\n",
       "      <td>In CSS, “px” is not an angular measurement and it is not non-linear</td>\n",
       "      <td>In CSS, “px” is not an angular measurement and it is not non-linear</td>\n",
       "    </tr>\n",
       "    <tr>\n",
       "      <th>1</th>\n",
       "      <td>Grand Theft Auto: San Andreas Streaming Deer Cam</td>\n",
       "      <td>What every coder should know about gamma</td>\n",
       "      <td>3D scatterplot of an image</td>\n",
       "      <td>Pixel-fitting – how antialiasing can ruin your logos and icons</td>\n",
       "      <td>Pixel-fitting – how antialiasing can ruin your logos and icons</td>\n",
       "    </tr>\n",
       "    <tr>\n",
       "      <th>2</th>\n",
       "      <td>Startup NASA</td>\n",
       "      <td>Pillow-SIMD – Fast, production-ready image resize for x86</td>\n",
       "      <td>Dither stabilisation</td>\n",
       "      <td>Rotating Images</td>\n",
       "      <td>Rotating Images</td>\n",
       "    </tr>\n",
       "    <tr>\n",
       "      <th>3</th>\n",
       "      <td>Google Earth Pro is now free</td>\n",
       "      <td>Dither stabilisation</td>\n",
       "      <td>Accurate CRT Simulation</td>\n",
       "      <td>Voronoi Diagrams on the GPU</td>\n",
       "      <td>Voronoi Diagrams on the GPU</td>\n",
       "    </tr>\n",
       "    <tr>\n",
       "      <th>4</th>\n",
       "      <td>Facebook Changed Everyone's Email to Facebook.com; Here's How to Fix It</td>\n",
       "      <td>Beware of Transparent Pixels</td>\n",
       "      <td>What every coder should know about gamma</td>\n",
       "      <td>Easy Scalable Text Rendering on the GPU</td>\n",
       "      <td>Easy Scalable Text Rendering on the GPU</td>\n",
       "    </tr>\n",
       "  </tbody>\n",
       "</table>\n",
       "</div>"
      ],
      "text/plain": [
       "                                                                          hdp  \\\n",
       "0  Q – Initiative to build commercially available universal quantum computers   \n",
       "1                            Grand Theft Auto: San Andreas Streaming Deer Cam   \n",
       "2                                                                Startup NASA   \n",
       "3                                                Google Earth Pro is now free   \n",
       "4     Facebook Changed Everyone's Email to Facebook.com; Here's How to Fix It   \n",
       "\n",
       "                                                     lda_100  \\\n",
       "0         Image Dithering: Eleven Algorithms and Source Code   \n",
       "1                   What every coder should know about gamma   \n",
       "2  Pillow-SIMD – Fast, production-ready image resize for x86   \n",
       "3                                       Dither stabilisation   \n",
       "4                               Beware of Transparent Pixels   \n",
       "\n",
       "                                               lda_50  \\\n",
       "0  Image Dithering: Eleven Algorithms and Source Code   \n",
       "1                          3D scatterplot of an image   \n",
       "2                                Dither stabilisation   \n",
       "3                             Accurate CRT Simulation   \n",
       "4            What every coder should know about gamma   \n",
       "\n",
       "                                                               lsi_300  \\\n",
       "0  In CSS, “px” is not an angular measurement and it is not non-linear   \n",
       "1       Pixel-fitting – how antialiasing can ruin your logos and icons   \n",
       "2                                                      Rotating Images   \n",
       "3                                          Voronoi Diagrams on the GPU   \n",
       "4                              Easy Scalable Text Rendering on the GPU   \n",
       "\n",
       "                                                               lsi_500  \n",
       "0  In CSS, “px” is not an angular measurement and it is not non-linear  \n",
       "1       Pixel-fitting – how antialiasing can ruin your logos and icons  \n",
       "2                                                      Rotating Images  \n",
       "3                                          Voronoi Diagrams on the GPU  \n",
       "4                              Easy Scalable Text Rendering on the GPU  "
      ]
     },
     "execution_count": 59,
     "metadata": {},
     "output_type": "execute_result"
    }
   ],
   "source": [
    "print(\"Given story: {}\".format(given_stories[0]))\n",
    "story_recs_dataframes[0]"
   ]
  },
  {
   "cell_type": "code",
   "execution_count": 60,
   "metadata": {},
   "outputs": [
    {
     "name": "stdout",
     "output_type": "stream",
     "text": [
      "Given story: I wrote the Anarchist Cookbook in 1969. Now I see its premise as flawed\n"
     ]
    },
    {
     "data": {
      "text/html": [
       "<div>\n",
       "<style scoped>\n",
       "    .dataframe tbody tr th:only-of-type {\n",
       "        vertical-align: middle;\n",
       "    }\n",
       "\n",
       "    .dataframe tbody tr th {\n",
       "        vertical-align: top;\n",
       "    }\n",
       "\n",
       "    .dataframe thead th {\n",
       "        text-align: right;\n",
       "    }\n",
       "</style>\n",
       "<table border=\"1\" class=\"dataframe\">\n",
       "  <thead>\n",
       "    <tr style=\"text-align: right;\">\n",
       "      <th></th>\n",
       "      <th>hdp</th>\n",
       "      <th>lda_100</th>\n",
       "      <th>lda_50</th>\n",
       "      <th>lsi_300</th>\n",
       "      <th>lsi_500</th>\n",
       "    </tr>\n",
       "  </thead>\n",
       "  <tbody>\n",
       "    <tr>\n",
       "      <th>0</th>\n",
       "      <td>The FBI Can Now Legally Hack Everywhere Around the World</td>\n",
       "      <td>Harvard and the Making of the Unabomber (2000)</td>\n",
       "      <td>Harvard and the Making of the Unabomber (2000)</td>\n",
       "      <td>Most violence in the world is motivated by moral sentiments</td>\n",
       "      <td>Most violence in the world is motivated by moral sentiments</td>\n",
       "    </tr>\n",
       "    <tr>\n",
       "      <th>1</th>\n",
       "      <td>Level3 is without peer, now what to do?</td>\n",
       "      <td>US bans students from “blacklisted” countries from getting access to Coursera</td>\n",
       "      <td>The Corrosion of High School Debate</td>\n",
       "      <td>In Wake of Charlie Hebdo Attack, Let’s Not Sacrifice Even More Rights</td>\n",
       "      <td>In Wake of Charlie Hebdo Attack, Let’s Not Sacrifice Even More Rights</td>\n",
       "    </tr>\n",
       "    <tr>\n",
       "      <th>2</th>\n",
       "      <td>China orders Bitcoin exchanges in capital city to close</td>\n",
       "      <td>Most violence in the world is motivated by moral sentiments</td>\n",
       "      <td>US bans students from “blacklisted” countries from getting access to Coursera</td>\n",
       "      <td>Harvard and the Making of the Unabomber (2000)</td>\n",
       "      <td>Harvard and the Making of the Unabomber (2000)</td>\n",
       "    </tr>\n",
       "    <tr>\n",
       "      <th>3</th>\n",
       "      <td>How kids in a low-income country use laptops: lessons from Madagascar</td>\n",
       "      <td>Our Newfound Fear of Risk</td>\n",
       "      <td>Noam Chomsky Joins Faculty at University of Arizona</td>\n",
       "      <td>My new favorite book of all time</td>\n",
       "      <td>My new favorite book of all time</td>\n",
       "    </tr>\n",
       "    <tr>\n",
       "      <th>4</th>\n",
       "      <td>Toys ‘R’ Us Plans Bankruptcy Filing Amid Debt Struggle</td>\n",
       "      <td>The Day Mandela Was Arrested, With A Little Help From the CIA</td>\n",
       "      <td>In College and Hiding from Scary Ideas</td>\n",
       "      <td>Mission Creep: When Everything Is Terrorism</td>\n",
       "      <td>Mission Creep: When Everything Is Terrorism</td>\n",
       "    </tr>\n",
       "  </tbody>\n",
       "</table>\n",
       "</div>"
      ],
      "text/plain": [
       "                                                                     hdp  \\\n",
       "0               The FBI Can Now Legally Hack Everywhere Around the World   \n",
       "1                                Level3 is without peer, now what to do?   \n",
       "2                China orders Bitcoin exchanges in capital city to close   \n",
       "3  How kids in a low-income country use laptops: lessons from Madagascar   \n",
       "4                 Toys ‘R’ Us Plans Bankruptcy Filing Amid Debt Struggle   \n",
       "\n",
       "                                                                         lda_100  \\\n",
       "0                                 Harvard and the Making of the Unabomber (2000)   \n",
       "1  US bans students from “blacklisted” countries from getting access to Coursera   \n",
       "2                    Most violence in the world is motivated by moral sentiments   \n",
       "3                                                      Our Newfound Fear of Risk   \n",
       "4                  The Day Mandela Was Arrested, With A Little Help From the CIA   \n",
       "\n",
       "                                                                          lda_50  \\\n",
       "0                                 Harvard and the Making of the Unabomber (2000)   \n",
       "1                                            The Corrosion of High School Debate   \n",
       "2  US bans students from “blacklisted” countries from getting access to Coursera   \n",
       "3                            Noam Chomsky Joins Faculty at University of Arizona   \n",
       "4                                         In College and Hiding from Scary Ideas   \n",
       "\n",
       "                                                                 lsi_300  \\\n",
       "0            Most violence in the world is motivated by moral sentiments   \n",
       "1  In Wake of Charlie Hebdo Attack, Let’s Not Sacrifice Even More Rights   \n",
       "2                         Harvard and the Making of the Unabomber (2000)   \n",
       "3                                       My new favorite book of all time   \n",
       "4                            Mission Creep: When Everything Is Terrorism   \n",
       "\n",
       "                                                                 lsi_500  \n",
       "0            Most violence in the world is motivated by moral sentiments  \n",
       "1  In Wake of Charlie Hebdo Attack, Let’s Not Sacrifice Even More Rights  \n",
       "2                         Harvard and the Making of the Unabomber (2000)  \n",
       "3                                       My new favorite book of all time  \n",
       "4                            Mission Creep: When Everything Is Terrorism  "
      ]
     },
     "execution_count": 60,
     "metadata": {},
     "output_type": "execute_result"
    }
   ],
   "source": [
    "print(\"Given story: {}\".format(given_stories[1]))\n",
    "story_recs_dataframes[1]"
   ]
  },
  {
   "cell_type": "code",
   "execution_count": 61,
   "metadata": {},
   "outputs": [
    {
     "name": "stdout",
     "output_type": "stream",
     "text": [
      "Given story: fork() can fail\n"
     ]
    },
    {
     "data": {
      "text/html": [
       "<div>\n",
       "<style scoped>\n",
       "    .dataframe tbody tr th:only-of-type {\n",
       "        vertical-align: middle;\n",
       "    }\n",
       "\n",
       "    .dataframe tbody tr th {\n",
       "        vertical-align: top;\n",
       "    }\n",
       "\n",
       "    .dataframe thead th {\n",
       "        text-align: right;\n",
       "    }\n",
       "</style>\n",
       "<table border=\"1\" class=\"dataframe\">\n",
       "  <thead>\n",
       "    <tr style=\"text-align: right;\">\n",
       "      <th></th>\n",
       "      <th>hdp</th>\n",
       "      <th>lda_100</th>\n",
       "      <th>lda_50</th>\n",
       "      <th>lsi_300</th>\n",
       "      <th>lsi_500</th>\n",
       "    </tr>\n",
       "  </thead>\n",
       "  <tbody>\n",
       "    <tr>\n",
       "      <th>0</th>\n",
       "      <td>Plasma Mobile – Turns your phone into a fully open hacking device</td>\n",
       "      <td>A subsystem to restrict programs into a “reduced feature operating model”</td>\n",
       "      <td>Strace – My Favourite Secret Weapon (2011)</td>\n",
       "      <td>Why Ruby App Servers Break on MacOS High Sierra</td>\n",
       "      <td>Why Ruby App Servers Break on MacOS High Sierra</td>\n",
       "    </tr>\n",
       "    <tr>\n",
       "      <th>1</th>\n",
       "      <td>Main is usually a function – when is it not?</td>\n",
       "      <td>Unraveling rm: what happens when you run it?</td>\n",
       "      <td>Kill init by touching a bunch of files</td>\n",
       "      <td>Writing a Unix Shell</td>\n",
       "      <td>Writing a Unix Shell</td>\n",
       "    </tr>\n",
       "    <tr>\n",
       "      <th>2</th>\n",
       "      <td>FFS SSL</td>\n",
       "      <td>The Collapse of the Unix Philosophy</td>\n",
       "      <td>Apt: please make the moo reproducible</td>\n",
       "      <td>The Collapse of the Unix Philosophy</td>\n",
       "      <td>The Collapse of the Unix Philosophy</td>\n",
       "    </tr>\n",
       "    <tr>\n",
       "      <th>3</th>\n",
       "      <td>Bugs found in GCC with the help of PVS-Studio</td>\n",
       "      <td>Linux Local Privilege Escalation via SUID /proc/pid/mem Write</td>\n",
       "      <td>How setting the TZ environment variable avoids thousands of system calls</td>\n",
       "      <td>A subsystem to restrict programs into a “reduced feature operating model”</td>\n",
       "      <td>A subsystem to restrict programs into a “reduced feature operating model”</td>\n",
       "    </tr>\n",
       "    <tr>\n",
       "      <th>4</th>\n",
       "      <td>10M Concurrent Websockets</td>\n",
       "      <td>How setting the TZ environment variable avoids thousands of system calls</td>\n",
       "      <td>The Collapse of the Unix Philosophy</td>\n",
       "      <td>The tale of aux.c</td>\n",
       "      <td>The tale of aux.c</td>\n",
       "    </tr>\n",
       "  </tbody>\n",
       "</table>\n",
       "</div>"
      ],
      "text/plain": [
       "                                                                 hdp  \\\n",
       "0  Plasma Mobile – Turns your phone into a fully open hacking device   \n",
       "1                       Main is usually a function – when is it not?   \n",
       "2                                                            FFS SSL   \n",
       "3                      Bugs found in GCC with the help of PVS-Studio   \n",
       "4                                          10M Concurrent Websockets   \n",
       "\n",
       "                                                                     lda_100  \\\n",
       "0  A subsystem to restrict programs into a “reduced feature operating model”   \n",
       "1                               Unraveling rm: what happens when you run it?   \n",
       "2                                        The Collapse of the Unix Philosophy   \n",
       "3              Linux Local Privilege Escalation via SUID /proc/pid/mem Write   \n",
       "4   How setting the TZ environment variable avoids thousands of system calls   \n",
       "\n",
       "                                                                     lda_50  \\\n",
       "0                                Strace – My Favourite Secret Weapon (2011)   \n",
       "1                                    Kill init by touching a bunch of files   \n",
       "2                                     Apt: please make the moo reproducible   \n",
       "3  How setting the TZ environment variable avoids thousands of system calls   \n",
       "4                                       The Collapse of the Unix Philosophy   \n",
       "\n",
       "                                                                     lsi_300  \\\n",
       "0                            Why Ruby App Servers Break on MacOS High Sierra   \n",
       "1                                                       Writing a Unix Shell   \n",
       "2                                        The Collapse of the Unix Philosophy   \n",
       "3  A subsystem to restrict programs into a “reduced feature operating model”   \n",
       "4                                                          The tale of aux.c   \n",
       "\n",
       "                                                                     lsi_500  \n",
       "0                            Why Ruby App Servers Break on MacOS High Sierra  \n",
       "1                                                       Writing a Unix Shell  \n",
       "2                                        The Collapse of the Unix Philosophy  \n",
       "3  A subsystem to restrict programs into a “reduced feature operating model”  \n",
       "4                                                          The tale of aux.c  "
      ]
     },
     "execution_count": 61,
     "metadata": {},
     "output_type": "execute_result"
    }
   ],
   "source": [
    "print(\"Given story: {}\".format(given_stories[2]))\n",
    "story_recs_dataframes[2]"
   ]
  },
  {
   "cell_type": "code",
   "execution_count": 62,
   "metadata": {},
   "outputs": [
    {
     "name": "stdout",
     "output_type": "stream",
     "text": [
      "Given story: Spotify Form F-1\n"
     ]
    },
    {
     "data": {
      "text/html": [
       "<div>\n",
       "<style scoped>\n",
       "    .dataframe tbody tr th:only-of-type {\n",
       "        vertical-align: middle;\n",
       "    }\n",
       "\n",
       "    .dataframe tbody tr th {\n",
       "        vertical-align: top;\n",
       "    }\n",
       "\n",
       "    .dataframe thead th {\n",
       "        text-align: right;\n",
       "    }\n",
       "</style>\n",
       "<table border=\"1\" class=\"dataframe\">\n",
       "  <thead>\n",
       "    <tr style=\"text-align: right;\">\n",
       "      <th></th>\n",
       "      <th>hdp</th>\n",
       "      <th>lda_100</th>\n",
       "      <th>lda_50</th>\n",
       "      <th>lsi_300</th>\n",
       "      <th>lsi_500</th>\n",
       "    </tr>\n",
       "  </thead>\n",
       "  <tbody>\n",
       "    <tr>\n",
       "      <th>0</th>\n",
       "      <td>Ideas</td>\n",
       "      <td>Spotify is gaining leverage over record labels</td>\n",
       "      <td>Spotify is gaining leverage over record labels</td>\n",
       "      <td>Spotify is gaining leverage over record labels</td>\n",
       "      <td>Spotify is gaining leverage over record labels</td>\n",
       "    </tr>\n",
       "    <tr>\n",
       "      <th>1</th>\n",
       "      <td>iFixit App Pulled from Apple’s Store</td>\n",
       "      <td>Pandora to Buy Rdio Assets for $75M, Rdio Files Ch.11, Will Shutter Service</td>\n",
       "      <td>Pandora to Buy Rdio Assets for $75M, Rdio Files Ch.11, Will Shutter Service</td>\n",
       "      <td>Spotify files for its IPO</td>\n",
       "      <td>Spotify files for its IPO</td>\n",
       "    </tr>\n",
       "    <tr>\n",
       "      <th>2</th>\n",
       "      <td>Dead Coins – A list of dead cryptocurrencies</td>\n",
       "      <td>Spotify’s Discover Weekly: How machine learning finds new music</td>\n",
       "      <td>Spotify opens on NYSE, valuing company at almost $30B</td>\n",
       "      <td>Spotify opens on NYSE, valuing company at almost $30B</td>\n",
       "      <td>Spotify opens on NYSE, valuing company at almost $30B</td>\n",
       "    </tr>\n",
       "    <tr>\n",
       "      <th>3</th>\n",
       "      <td>What I’ve learned in 5 years of running a SaaS</td>\n",
       "      <td>Why Spotify Pays So Little</td>\n",
       "      <td>What I've been up to for the past year</td>\n",
       "      <td>Lessons from Spotify</td>\n",
       "      <td>Lessons from Spotify</td>\n",
       "    </tr>\n",
       "    <tr>\n",
       "      <th>4</th>\n",
       "      <td>The One-Person Product</td>\n",
       "      <td>Koel: A personal music streaming server</td>\n",
       "      <td>Why Spotify Pays So Little</td>\n",
       "      <td>Spotify raises $1B in debt with devilish terms to fight Apple Music</td>\n",
       "      <td>Spotify raises $1B in debt with devilish terms to fight Apple Music</td>\n",
       "    </tr>\n",
       "  </tbody>\n",
       "</table>\n",
       "</div>"
      ],
      "text/plain": [
       "                                              hdp  \\\n",
       "0                                           Ideas   \n",
       "1            iFixit App Pulled from Apple’s Store   \n",
       "2    Dead Coins – A list of dead cryptocurrencies   \n",
       "3  What I’ve learned in 5 years of running a SaaS   \n",
       "4                          The One-Person Product   \n",
       "\n",
       "                                                                       lda_100  \\\n",
       "0                               Spotify is gaining leverage over record labels   \n",
       "1  Pandora to Buy Rdio Assets for $75M, Rdio Files Ch.11, Will Shutter Service   \n",
       "2              Spotify’s Discover Weekly: How machine learning finds new music   \n",
       "3                                                   Why Spotify Pays So Little   \n",
       "4                                      Koel: A personal music streaming server   \n",
       "\n",
       "                                                                        lda_50  \\\n",
       "0                               Spotify is gaining leverage over record labels   \n",
       "1  Pandora to Buy Rdio Assets for $75M, Rdio Files Ch.11, Will Shutter Service   \n",
       "2                        Spotify opens on NYSE, valuing company at almost $30B   \n",
       "3                                       What I've been up to for the past year   \n",
       "4                                                   Why Spotify Pays So Little   \n",
       "\n",
       "                                                               lsi_300  \\\n",
       "0                       Spotify is gaining leverage over record labels   \n",
       "1                                            Spotify files for its IPO   \n",
       "2                Spotify opens on NYSE, valuing company at almost $30B   \n",
       "3                                                 Lessons from Spotify   \n",
       "4  Spotify raises $1B in debt with devilish terms to fight Apple Music   \n",
       "\n",
       "                                                               lsi_500  \n",
       "0                       Spotify is gaining leverage over record labels  \n",
       "1                                            Spotify files for its IPO  \n",
       "2                Spotify opens on NYSE, valuing company at almost $30B  \n",
       "3                                                 Lessons from Spotify  \n",
       "4  Spotify raises $1B in debt with devilish terms to fight Apple Music  "
      ]
     },
     "execution_count": 62,
     "metadata": {},
     "output_type": "execute_result"
    }
   ],
   "source": [
    "print(\"Given story: {}\".format(given_stories[3]))\n",
    "story_recs_dataframes[3]"
   ]
  },
  {
   "cell_type": "code",
   "execution_count": 63,
   "metadata": {},
   "outputs": [
    {
     "name": "stdout",
     "output_type": "stream",
     "text": [
      "Given story: Light completely stopped for a record-breaking minute\n"
     ]
    },
    {
     "data": {
      "text/html": [
       "<div>\n",
       "<style scoped>\n",
       "    .dataframe tbody tr th:only-of-type {\n",
       "        vertical-align: middle;\n",
       "    }\n",
       "\n",
       "    .dataframe tbody tr th {\n",
       "        vertical-align: top;\n",
       "    }\n",
       "\n",
       "    .dataframe thead th {\n",
       "        text-align: right;\n",
       "    }\n",
       "</style>\n",
       "<table border=\"1\" class=\"dataframe\">\n",
       "  <thead>\n",
       "    <tr style=\"text-align: right;\">\n",
       "      <th></th>\n",
       "      <th>hdp</th>\n",
       "      <th>lda_100</th>\n",
       "      <th>lda_50</th>\n",
       "      <th>lsi_300</th>\n",
       "      <th>lsi_500</th>\n",
       "    </tr>\n",
       "  </thead>\n",
       "  <tbody>\n",
       "    <tr>\n",
       "      <th>0</th>\n",
       "      <td>Distributed Consensus – How Shared Data Is Stored</td>\n",
       "      <td>Transfer of atomic mass with a photon solves the momentum paradox of light</td>\n",
       "      <td>Researchers quantum teleport particle of light six kilometres</td>\n",
       "      <td>Scientists unveil new form of matter: Time crystals</td>\n",
       "      <td>Scientists unveil new form of matter: Time crystals</td>\n",
       "    </tr>\n",
       "    <tr>\n",
       "      <th>1</th>\n",
       "      <td>Deny PRISM - Generate a PRISM involvement denial statement for your company</td>\n",
       "      <td>Scientists unveil new form of matter: Time crystals</td>\n",
       "      <td>Scientists unveil new form of matter: Time crystals</td>\n",
       "      <td>Physicists Create World’s First Time Crystal</td>\n",
       "      <td>Physicists Create World’s First Time Crystal</td>\n",
       "    </tr>\n",
       "    <tr>\n",
       "      <th>2</th>\n",
       "      <td>Paralyzed Man Uses Brain Implant to Type Eight Words per Minute</td>\n",
       "      <td>People can sense single photons</td>\n",
       "      <td>Loophole-free Bell test ‘Spooky action at a distance’, no cheating</td>\n",
       "      <td>MIT discovers a new state of matter, a new kind of magnetism</td>\n",
       "      <td>MIT discovers a new state of matter, a new kind of magnetism</td>\n",
       "    </tr>\n",
       "    <tr>\n",
       "      <th>3</th>\n",
       "      <td>Congress has added CISA to the federal budget bill</td>\n",
       "      <td>'Zeno effect' verified: Atoms won't move while you watch</td>\n",
       "      <td>Magnetic wormhole created for first time</td>\n",
       "      <td>ALPHA observes light spectrum of antimatter for first time</td>\n",
       "      <td>ALPHA observes light spectrum of antimatter for first time</td>\n",
       "    </tr>\n",
       "    <tr>\n",
       "      <th>4</th>\n",
       "      <td>Sweden 'a close partner' in NSA surveillance</td>\n",
       "      <td>Loophole-free Bell test ‘Spooky action at a distance’, no cheating</td>\n",
       "      <td>EmDrive study officially published</td>\n",
       "      <td>Superconductivity without cooling?</td>\n",
       "      <td>Superconductivity without cooling?</td>\n",
       "    </tr>\n",
       "  </tbody>\n",
       "</table>\n",
       "</div>"
      ],
      "text/plain": [
       "                                                                           hdp  \\\n",
       "0                            Distributed Consensus – How Shared Data Is Stored   \n",
       "1  Deny PRISM - Generate a PRISM involvement denial statement for your company   \n",
       "2              Paralyzed Man Uses Brain Implant to Type Eight Words per Minute   \n",
       "3                           Congress has added CISA to the federal budget bill   \n",
       "4                                 Sweden 'a close partner' in NSA surveillance   \n",
       "\n",
       "                                                                      lda_100  \\\n",
       "0  Transfer of atomic mass with a photon solves the momentum paradox of light   \n",
       "1                         Scientists unveil new form of matter: Time crystals   \n",
       "2                                             People can sense single photons   \n",
       "3                    'Zeno effect' verified: Atoms won't move while you watch   \n",
       "4          Loophole-free Bell test ‘Spooky action at a distance’, no cheating   \n",
       "\n",
       "                                                               lda_50  \\\n",
       "0       Researchers quantum teleport particle of light six kilometres   \n",
       "1                 Scientists unveil new form of matter: Time crystals   \n",
       "2  Loophole-free Bell test ‘Spooky action at a distance’, no cheating   \n",
       "3                            Magnetic wormhole created for first time   \n",
       "4                                  EmDrive study officially published   \n",
       "\n",
       "                                                        lsi_300  \\\n",
       "0           Scientists unveil new form of matter: Time crystals   \n",
       "1                  Physicists Create World’s First Time Crystal   \n",
       "2  MIT discovers a new state of matter, a new kind of magnetism   \n",
       "3    ALPHA observes light spectrum of antimatter for first time   \n",
       "4                            Superconductivity without cooling?   \n",
       "\n",
       "                                                        lsi_500  \n",
       "0           Scientists unveil new form of matter: Time crystals  \n",
       "1                  Physicists Create World’s First Time Crystal  \n",
       "2  MIT discovers a new state of matter, a new kind of magnetism  \n",
       "3    ALPHA observes light spectrum of antimatter for first time  \n",
       "4                            Superconductivity without cooling?  "
      ]
     },
     "execution_count": 63,
     "metadata": {},
     "output_type": "execute_result"
    }
   ],
   "source": [
    "print(\"Given story: {}\".format(given_stories[4]))\n",
    "story_recs_dataframes[4]"
   ]
  },
  {
   "cell_type": "code",
   "execution_count": 64,
   "metadata": {},
   "outputs": [
    {
     "name": "stdout",
     "output_type": "stream",
     "text": [
      "Given story: $3 Trillion in Forgotten Debt\n"
     ]
    },
    {
     "data": {
      "text/html": [
       "<div>\n",
       "<style scoped>\n",
       "    .dataframe tbody tr th:only-of-type {\n",
       "        vertical-align: middle;\n",
       "    }\n",
       "\n",
       "    .dataframe tbody tr th {\n",
       "        vertical-align: top;\n",
       "    }\n",
       "\n",
       "    .dataframe thead th {\n",
       "        text-align: right;\n",
       "    }\n",
       "</style>\n",
       "<table border=\"1\" class=\"dataframe\">\n",
       "  <thead>\n",
       "    <tr style=\"text-align: right;\">\n",
       "      <th></th>\n",
       "      <th>hdp</th>\n",
       "      <th>lda_100</th>\n",
       "      <th>lda_50</th>\n",
       "      <th>lsi_300</th>\n",
       "      <th>lsi_500</th>\n",
       "    </tr>\n",
       "  </thead>\n",
       "  <tbody>\n",
       "    <tr>\n",
       "      <th>0</th>\n",
       "      <td>Galaxy Magazine: Free Texts</td>\n",
       "      <td>Fed Ends Zero-Rate Era</td>\n",
       "      <td>Bank of Canada increases overnight rate target to 1 per cent</td>\n",
       "      <td>Croatia just canceled the debts of its poorest citizens</td>\n",
       "      <td>Croatia just canceled the debts of its poorest citizens</td>\n",
       "    </tr>\n",
       "    <tr>\n",
       "      <th>1</th>\n",
       "      <td>The Copyright Office Belongs in a Library</td>\n",
       "      <td>The Era of Very Low Inflation and Interest Rates May Be Near an End</td>\n",
       "      <td>Left with Nothing</td>\n",
       "      <td>Anthony Bourdain on not having debt</td>\n",
       "      <td>Anthony Bourdain on not having debt</td>\n",
       "    </tr>\n",
       "    <tr>\n",
       "      <th>2</th>\n",
       "      <td>Comcast accused of cutting competitor’s wires to put it out of business</td>\n",
       "      <td>Bank of Canada increases overnight rate target to 1 per cent</td>\n",
       "      <td>Anthony Bourdain on not having debt</td>\n",
       "      <td>Why Don't People Manage Debt Better?</td>\n",
       "      <td>Why Don't People Manage Debt Better?</td>\n",
       "    </tr>\n",
       "    <tr>\n",
       "      <th>3</th>\n",
       "      <td>AlphaGo Beats Lee Sedol in Final Game</td>\n",
       "      <td>Finance is Not the Economy</td>\n",
       "      <td>The Era of Very Low Inflation and Interest Rates May Be Near an End</td>\n",
       "      <td>That Debt from 1720? Britain’s Payment Is Coming</td>\n",
       "      <td>That Debt from 1720? Britain’s Payment Is Coming</td>\n",
       "    </tr>\n",
       "    <tr>\n",
       "      <th>4</th>\n",
       "      <td>Reasons not to use Facebook</td>\n",
       "      <td>That Debt from 1720? Britain’s Payment Is Coming</td>\n",
       "      <td>Fed Ends Zero-Rate Era</td>\n",
       "      <td>Occupy Wall Street activists buy $15m of Americans' personal debt</td>\n",
       "      <td>Occupy Wall Street activists buy $15m of Americans' personal debt</td>\n",
       "    </tr>\n",
       "  </tbody>\n",
       "</table>\n",
       "</div>"
      ],
      "text/plain": [
       "                                                                       hdp  \\\n",
       "0                                              Galaxy Magazine: Free Texts   \n",
       "1                                The Copyright Office Belongs in a Library   \n",
       "2  Comcast accused of cutting competitor’s wires to put it out of business   \n",
       "3                                    AlphaGo Beats Lee Sedol in Final Game   \n",
       "4                                              Reasons not to use Facebook   \n",
       "\n",
       "                                                               lda_100  \\\n",
       "0                                               Fed Ends Zero-Rate Era   \n",
       "1  The Era of Very Low Inflation and Interest Rates May Be Near an End   \n",
       "2         Bank of Canada increases overnight rate target to 1 per cent   \n",
       "3                                           Finance is Not the Economy   \n",
       "4                     That Debt from 1720? Britain’s Payment Is Coming   \n",
       "\n",
       "                                                                lda_50  \\\n",
       "0         Bank of Canada increases overnight rate target to 1 per cent   \n",
       "1                                                    Left with Nothing   \n",
       "2                                  Anthony Bourdain on not having debt   \n",
       "3  The Era of Very Low Inflation and Interest Rates May Be Near an End   \n",
       "4                                               Fed Ends Zero-Rate Era   \n",
       "\n",
       "                                                             lsi_300  \\\n",
       "0            Croatia just canceled the debts of its poorest citizens   \n",
       "1                                Anthony Bourdain on not having debt   \n",
       "2                               Why Don't People Manage Debt Better?   \n",
       "3                   That Debt from 1720? Britain’s Payment Is Coming   \n",
       "4  Occupy Wall Street activists buy $15m of Americans' personal debt   \n",
       "\n",
       "                                                             lsi_500  \n",
       "0            Croatia just canceled the debts of its poorest citizens  \n",
       "1                                Anthony Bourdain on not having debt  \n",
       "2                               Why Don't People Manage Debt Better?  \n",
       "3                   That Debt from 1720? Britain’s Payment Is Coming  \n",
       "4  Occupy Wall Street activists buy $15m of Americans' personal debt  "
      ]
     },
     "execution_count": 64,
     "metadata": {},
     "output_type": "execute_result"
    }
   ],
   "source": [
    "print(\"Given story: {}\".format(given_stories[5]))\n",
    "story_recs_dataframes[5]"
   ]
  },
  {
   "cell_type": "code",
   "execution_count": 65,
   "metadata": {},
   "outputs": [
    {
     "name": "stdout",
     "output_type": "stream",
     "text": [
      "Given story: Windows 3.1 All Over Again\n"
     ]
    },
    {
     "data": {
      "text/html": [
       "<div>\n",
       "<style scoped>\n",
       "    .dataframe tbody tr th:only-of-type {\n",
       "        vertical-align: middle;\n",
       "    }\n",
       "\n",
       "    .dataframe tbody tr th {\n",
       "        vertical-align: top;\n",
       "    }\n",
       "\n",
       "    .dataframe thead th {\n",
       "        text-align: right;\n",
       "    }\n",
       "</style>\n",
       "<table border=\"1\" class=\"dataframe\">\n",
       "  <thead>\n",
       "    <tr style=\"text-align: right;\">\n",
       "      <th></th>\n",
       "      <th>hdp</th>\n",
       "      <th>lda_100</th>\n",
       "      <th>lda_50</th>\n",
       "      <th>lsi_300</th>\n",
       "      <th>lsi_500</th>\n",
       "    </tr>\n",
       "  </thead>\n",
       "  <tbody>\n",
       "    <tr>\n",
       "      <th>0</th>\n",
       "      <td>Qt binding for Go with support for all major operating systems</td>\n",
       "      <td>Pony – High Performance Actor Programming</td>\n",
       "      <td>Gotchas from Two Years with Node</td>\n",
       "      <td>The Unix Philosophy and Elixir as an Alternative to Go</td>\n",
       "      <td>The Unix Philosophy and Elixir as an Alternative to Go</td>\n",
       "    </tr>\n",
       "    <tr>\n",
       "      <th>1</th>\n",
       "      <td>ORWL – The first open source, physically secure computer</td>\n",
       "      <td>Erlang Scheduler Details and Why They Matter</td>\n",
       "      <td>The Way of the Gopher: Making the Switch from Node.js to Golang</td>\n",
       "      <td>How Discord Scaled Elixir to 5M Concurrent Users</td>\n",
       "      <td>How Discord Scaled Elixir to 5M Concurrent Users</td>\n",
       "    </tr>\n",
       "    <tr>\n",
       "      <th>2</th>\n",
       "      <td>Benjamin Button Reviews the New MacBook Pro</td>\n",
       "      <td>The Unix Philosophy and Elixir as an Alternative to Go</td>\n",
       "      <td>Beyond 10,000 Lines: Lessons Learned from a Large Phoenix Project</td>\n",
       "      <td>Comparing Elixir and Go</td>\n",
       "      <td>Comparing Elixir and Go</td>\n",
       "    </tr>\n",
       "    <tr>\n",
       "      <th>3</th>\n",
       "      <td>A Prettier JavaScript Formatter</td>\n",
       "      <td>Why Erlang Matters</td>\n",
       "      <td>Elixir 1.5 released</td>\n",
       "      <td>Stuff Goes Bad: Erlang in Anger (2016)</td>\n",
       "      <td>Stuff Goes Bad: Erlang in Anger (2016)</td>\n",
       "    </tr>\n",
       "    <tr>\n",
       "      <th>4</th>\n",
       "      <td>Linux page table isolation is not needed on AMD processors</td>\n",
       "      <td>How I Start: Erlang</td>\n",
       "      <td>Elixir web development 101: collaborative todolist with realtime updates</td>\n",
       "      <td>What's all this fuss about Erlang? (2007)</td>\n",
       "      <td>What's all this fuss about Erlang? (2007)</td>\n",
       "    </tr>\n",
       "  </tbody>\n",
       "</table>\n",
       "</div>"
      ],
      "text/plain": [
       "                                                              hdp  \\\n",
       "0  Qt binding for Go with support for all major operating systems   \n",
       "1        ORWL – The first open source, physically secure computer   \n",
       "2                     Benjamin Button Reviews the New MacBook Pro   \n",
       "3                                 A Prettier JavaScript Formatter   \n",
       "4      Linux page table isolation is not needed on AMD processors   \n",
       "\n",
       "                                                  lda_100  \\\n",
       "0               Pony – High Performance Actor Programming   \n",
       "1            Erlang Scheduler Details and Why They Matter   \n",
       "2  The Unix Philosophy and Elixir as an Alternative to Go   \n",
       "3                                      Why Erlang Matters   \n",
       "4                                     How I Start: Erlang   \n",
       "\n",
       "                                                                     lda_50  \\\n",
       "0                                          Gotchas from Two Years with Node   \n",
       "1           The Way of the Gopher: Making the Switch from Node.js to Golang   \n",
       "2         Beyond 10,000 Lines: Lessons Learned from a Large Phoenix Project   \n",
       "3                                                       Elixir 1.5 released   \n",
       "4  Elixir web development 101: collaborative todolist with realtime updates   \n",
       "\n",
       "                                                  lsi_300  \\\n",
       "0  The Unix Philosophy and Elixir as an Alternative to Go   \n",
       "1        How Discord Scaled Elixir to 5M Concurrent Users   \n",
       "2                                 Comparing Elixir and Go   \n",
       "3                  Stuff Goes Bad: Erlang in Anger (2016)   \n",
       "4               What's all this fuss about Erlang? (2007)   \n",
       "\n",
       "                                                  lsi_500  \n",
       "0  The Unix Philosophy and Elixir as an Alternative to Go  \n",
       "1        How Discord Scaled Elixir to 5M Concurrent Users  \n",
       "2                                 Comparing Elixir and Go  \n",
       "3                  Stuff Goes Bad: Erlang in Anger (2016)  \n",
       "4               What's all this fuss about Erlang? (2007)  "
      ]
     },
     "execution_count": 65,
     "metadata": {},
     "output_type": "execute_result"
    }
   ],
   "source": [
    "print(\"Given story: {}\".format(given_stories[6]))\n",
    "story_recs_dataframes[6]"
   ]
  },
  {
   "cell_type": "code",
   "execution_count": 66,
   "metadata": {},
   "outputs": [
    {
     "name": "stdout",
     "output_type": "stream",
     "text": [
      "Given story: Large Companies Game H-1B Visa Program\n"
     ]
    },
    {
     "data": {
      "text/html": [
       "<div>\n",
       "<style scoped>\n",
       "    .dataframe tbody tr th:only-of-type {\n",
       "        vertical-align: middle;\n",
       "    }\n",
       "\n",
       "    .dataframe tbody tr th {\n",
       "        vertical-align: top;\n",
       "    }\n",
       "\n",
       "    .dataframe thead th {\n",
       "        text-align: right;\n",
       "    }\n",
       "</style>\n",
       "<table border=\"1\" class=\"dataframe\">\n",
       "  <thead>\n",
       "    <tr style=\"text-align: right;\">\n",
       "      <th></th>\n",
       "      <th>hdp</th>\n",
       "      <th>lda_100</th>\n",
       "      <th>lda_50</th>\n",
       "      <th>lsi_300</th>\n",
       "      <th>lsi_500</th>\n",
       "    </tr>\n",
       "  </thead>\n",
       "  <tbody>\n",
       "    <tr>\n",
       "      <th>0</th>\n",
       "      <td>The Madness of Airline Élite Status</td>\n",
       "      <td>New H1-B Visa bill doubles the salary requirements to $130K/yr</td>\n",
       "      <td>New H1-B Visa bill doubles the salary requirements to $130K/yr</td>\n",
       "      <td>Gaming the H-1B system for good</td>\n",
       "      <td>Gaming the H-1B system for good</td>\n",
       "    </tr>\n",
       "    <tr>\n",
       "      <th>1</th>\n",
       "      <td>Federal Prosecutors, in a Policy Shift, Cite Warrantless Wiretaps as Evidence</td>\n",
       "      <td>Gaming the H-1B system for good</td>\n",
       "      <td>H-1B Visas: U.S. Lawmaker Re-Introduces Bill to Tighten Rules</td>\n",
       "      <td>New H1-B Visa bill doubles the salary requirements to $130K/yr</td>\n",
       "      <td>New H1-B Visa bill doubles the salary requirements to $130K/yr</td>\n",
       "    </tr>\n",
       "    <tr>\n",
       "      <th>2</th>\n",
       "      <td>Books I read this year</td>\n",
       "      <td>H-1B Visas: U.S. Lawmaker Re-Introduces Bill to Tighten Rules</td>\n",
       "      <td>Gaming the H-1B system for good</td>\n",
       "      <td>Show HN: A histogram of salaries given to H1B workers in the software industry</td>\n",
       "      <td>Show HN: A histogram of salaries given to H1B workers in the software industry</td>\n",
       "    </tr>\n",
       "    <tr>\n",
       "      <th>3</th>\n",
       "      <td>Inside the NSA's War on Internet Security</td>\n",
       "      <td>Show HN: A histogram of salaries given to H1B workers in the software industry</td>\n",
       "      <td>Show HN: A histogram of salaries given to H1B workers in the software industry</td>\n",
       "      <td>H-1B Visas: U.S. Lawmaker Re-Introduces Bill to Tighten Rules</td>\n",
       "      <td>H-1B Visas: U.S. Lawmaker Re-Introduces Bill to Tighten Rules</td>\n",
       "    </tr>\n",
       "    <tr>\n",
       "      <th>4</th>\n",
       "      <td>U.S. Election Agency Breached by Hackers After November Vote</td>\n",
       "      <td>Judge sends two to prison for 7 years for H-1B fraud</td>\n",
       "      <td>IBM: The cost difference is too great for business not to look for H1B workers</td>\n",
       "      <td>Immigration is about talent, not costs</td>\n",
       "      <td>Immigration is about talent, not costs</td>\n",
       "    </tr>\n",
       "  </tbody>\n",
       "</table>\n",
       "</div>"
      ],
      "text/plain": [
       "                                                                             hdp  \\\n",
       "0                                            The Madness of Airline Élite Status   \n",
       "1  Federal Prosecutors, in a Policy Shift, Cite Warrantless Wiretaps as Evidence   \n",
       "2                                                         Books I read this year   \n",
       "3                                      Inside the NSA's War on Internet Security   \n",
       "4                   U.S. Election Agency Breached by Hackers After November Vote   \n",
       "\n",
       "                                                                          lda_100  \\\n",
       "0                  New H1-B Visa bill doubles the salary requirements to $130K/yr   \n",
       "1                                                 Gaming the H-1B system for good   \n",
       "2                   H-1B Visas: U.S. Lawmaker Re-Introduces Bill to Tighten Rules   \n",
       "3  Show HN: A histogram of salaries given to H1B workers in the software industry   \n",
       "4                            Judge sends two to prison for 7 years for H-1B fraud   \n",
       "\n",
       "                                                                           lda_50  \\\n",
       "0                  New H1-B Visa bill doubles the salary requirements to $130K/yr   \n",
       "1                   H-1B Visas: U.S. Lawmaker Re-Introduces Bill to Tighten Rules   \n",
       "2                                                 Gaming the H-1B system for good   \n",
       "3  Show HN: A histogram of salaries given to H1B workers in the software industry   \n",
       "4  IBM: The cost difference is too great for business not to look for H1B workers   \n",
       "\n",
       "                                                                          lsi_300  \\\n",
       "0                                                 Gaming the H-1B system for good   \n",
       "1                  New H1-B Visa bill doubles the salary requirements to $130K/yr   \n",
       "2  Show HN: A histogram of salaries given to H1B workers in the software industry   \n",
       "3                   H-1B Visas: U.S. Lawmaker Re-Introduces Bill to Tighten Rules   \n",
       "4                                          Immigration is about talent, not costs   \n",
       "\n",
       "                                                                          lsi_500  \n",
       "0                                                 Gaming the H-1B system for good  \n",
       "1                  New H1-B Visa bill doubles the salary requirements to $130K/yr  \n",
       "2  Show HN: A histogram of salaries given to H1B workers in the software industry  \n",
       "3                   H-1B Visas: U.S. Lawmaker Re-Introduces Bill to Tighten Rules  \n",
       "4                                          Immigration is about talent, not costs  "
      ]
     },
     "execution_count": 66,
     "metadata": {},
     "output_type": "execute_result"
    }
   ],
   "source": [
    "print(\"Given story: {}\".format(given_stories[7]))\n",
    "story_recs_dataframes[7]"
   ]
  },
  {
   "cell_type": "code",
   "execution_count": 67,
   "metadata": {},
   "outputs": [
    {
     "name": "stdout",
     "output_type": "stream",
     "text": [
      "Given story: Hacker Monthly: best of the Internet, printed out, and it’s turning a profit\n"
     ]
    },
    {
     "data": {
      "text/html": [
       "<div>\n",
       "<style scoped>\n",
       "    .dataframe tbody tr th:only-of-type {\n",
       "        vertical-align: middle;\n",
       "    }\n",
       "\n",
       "    .dataframe tbody tr th {\n",
       "        vertical-align: top;\n",
       "    }\n",
       "\n",
       "    .dataframe thead th {\n",
       "        text-align: right;\n",
       "    }\n",
       "</style>\n",
       "<table border=\"1\" class=\"dataframe\">\n",
       "  <thead>\n",
       "    <tr style=\"text-align: right;\">\n",
       "      <th></th>\n",
       "      <th>hdp</th>\n",
       "      <th>lda_100</th>\n",
       "      <th>lda_50</th>\n",
       "      <th>lsi_300</th>\n",
       "      <th>lsi_500</th>\n",
       "    </tr>\n",
       "  </thead>\n",
       "  <tbody>\n",
       "    <tr>\n",
       "      <th>0</th>\n",
       "      <td>The Music Industry Shouldn't Be Able to Cut Off Your Internet Access</td>\n",
       "      <td>Making Your Writing Work Harder For You</td>\n",
       "      <td>Award-Winning Nautilus Enters Rough Waters</td>\n",
       "      <td>Award-Winning Nautilus Enters Rough Waters</td>\n",
       "      <td>Award-Winning Nautilus Enters Rough Waters</td>\n",
       "    </tr>\n",
       "    <tr>\n",
       "      <th>1</th>\n",
       "      <td>Japanese Vending Machines at Night Juxtaposed with a Wintry Hokkaido Landscape</td>\n",
       "      <td>O’Reilly Media Has Lost Its Soul</td>\n",
       "      <td>Making Your Writing Work Harder For You</td>\n",
       "      <td>Show HN: The first issue of Compelling Science Fiction</td>\n",
       "      <td>Show HN: The first issue of Compelling Science Fiction</td>\n",
       "    </tr>\n",
       "    <tr>\n",
       "      <th>2</th>\n",
       "      <td>The Huge, Unseen Operation Behind the Accuracy of Google Maps</td>\n",
       "      <td>Anatomy of a Hoax (Sony Nexus phone)</td>\n",
       "      <td>Anatomy of a Hoax (Sony Nexus phone)</td>\n",
       "      <td>A Letter from the Publisher of Nautilus</td>\n",
       "      <td>A Letter from the Publisher of Nautilus</td>\n",
       "    </tr>\n",
       "    <tr>\n",
       "      <th>3</th>\n",
       "      <td>How an unsigned rapper changed music</td>\n",
       "      <td>Dear Al-Jazeera: Why Steal Our Code?</td>\n",
       "      <td>Medium releases Memberships</td>\n",
       "      <td>Medium releases Memberships</td>\n",
       "      <td>Medium releases Memberships</td>\n",
       "    </tr>\n",
       "    <tr>\n",
       "      <th>4</th>\n",
       "      <td>The Invention of the AeroPress</td>\n",
       "      <td>Farewell, Dr. Dobb's</td>\n",
       "      <td>The Oatmeal Fights Legal Threat, Raises $20,000 in an Hour</td>\n",
       "      <td>I Sold The Magazine, Too</td>\n",
       "      <td>I Sold The Magazine, Too</td>\n",
       "    </tr>\n",
       "  </tbody>\n",
       "</table>\n",
       "</div>"
      ],
      "text/plain": [
       "                                                                              hdp  \\\n",
       "0            The Music Industry Shouldn't Be Able to Cut Off Your Internet Access   \n",
       "1  Japanese Vending Machines at Night Juxtaposed with a Wintry Hokkaido Landscape   \n",
       "2                   The Huge, Unseen Operation Behind the Accuracy of Google Maps   \n",
       "3                                            How an unsigned rapper changed music   \n",
       "4                                                  The Invention of the AeroPress   \n",
       "\n",
       "                                   lda_100  \\\n",
       "0  Making Your Writing Work Harder For You   \n",
       "1         O’Reilly Media Has Lost Its Soul   \n",
       "2     Anatomy of a Hoax (Sony Nexus phone)   \n",
       "3     Dear Al-Jazeera: Why Steal Our Code?   \n",
       "4                     Farewell, Dr. Dobb's   \n",
       "\n",
       "                                                       lda_50  \\\n",
       "0                  Award-Winning Nautilus Enters Rough Waters   \n",
       "1                     Making Your Writing Work Harder For You   \n",
       "2                        Anatomy of a Hoax (Sony Nexus phone)   \n",
       "3                                 Medium releases Memberships   \n",
       "4  The Oatmeal Fights Legal Threat, Raises $20,000 in an Hour   \n",
       "\n",
       "                                                  lsi_300  \\\n",
       "0              Award-Winning Nautilus Enters Rough Waters   \n",
       "1  Show HN: The first issue of Compelling Science Fiction   \n",
       "2                 A Letter from the Publisher of Nautilus   \n",
       "3                             Medium releases Memberships   \n",
       "4                                I Sold The Magazine, Too   \n",
       "\n",
       "                                                  lsi_500  \n",
       "0              Award-Winning Nautilus Enters Rough Waters  \n",
       "1  Show HN: The first issue of Compelling Science Fiction  \n",
       "2                 A Letter from the Publisher of Nautilus  \n",
       "3                             Medium releases Memberships  \n",
       "4                                I Sold The Magazine, Too  "
      ]
     },
     "execution_count": 67,
     "metadata": {},
     "output_type": "execute_result"
    }
   ],
   "source": [
    "print(\"Given story: {}\".format(given_stories[8]))\n",
    "story_recs_dataframes[8]"
   ]
  },
  {
   "cell_type": "code",
   "execution_count": 68,
   "metadata": {},
   "outputs": [
    {
     "name": "stdout",
     "output_type": "stream",
     "text": [
      "Given story: Handful of Biologists Went Rogue and Published Directly to Internet\n"
     ]
    },
    {
     "data": {
      "text/html": [
       "<div>\n",
       "<style scoped>\n",
       "    .dataframe tbody tr th:only-of-type {\n",
       "        vertical-align: middle;\n",
       "    }\n",
       "\n",
       "    .dataframe tbody tr th {\n",
       "        vertical-align: top;\n",
       "    }\n",
       "\n",
       "    .dataframe thead th {\n",
       "        text-align: right;\n",
       "    }\n",
       "</style>\n",
       "<table border=\"1\" class=\"dataframe\">\n",
       "  <thead>\n",
       "    <tr style=\"text-align: right;\">\n",
       "      <th></th>\n",
       "      <th>hdp</th>\n",
       "      <th>lda_100</th>\n",
       "      <th>lda_50</th>\n",
       "      <th>lsi_300</th>\n",
       "      <th>lsi_500</th>\n",
       "    </tr>\n",
       "  </thead>\n",
       "  <tbody>\n",
       "    <tr>\n",
       "      <th>0</th>\n",
       "      <td>U.S. Supreme Court Curbs Excessive Design Patent Damages</td>\n",
       "      <td>The Growing Impact of Old Scientific Papers</td>\n",
       "      <td>The Growing Impact of Old Scientific Papers</td>\n",
       "      <td>Library-managed 'arXiv' spreads scientific advances rapidly and worldwide</td>\n",
       "      <td>Library-managed 'arXiv' spreads scientific advances rapidly and worldwide</td>\n",
       "    </tr>\n",
       "    <tr>\n",
       "      <th>1</th>\n",
       "      <td>“Startup” asks internship applicant to build their app before phone screen</td>\n",
       "      <td>Let’s make peer review scientific</td>\n",
       "      <td>Let’s make peer review scientific</td>\n",
       "      <td>Distill: a modern machine learning journal</td>\n",
       "      <td>Distill: a modern machine learning journal</td>\n",
       "    </tr>\n",
       "    <tr>\n",
       "      <th>2</th>\n",
       "      <td>Programming Sucks</td>\n",
       "      <td>How to read and understand a scientific paper: a guide for non-scientists</td>\n",
       "      <td>The Arsenic DNA paper exposes flaws in peer review</td>\n",
       "      <td>Should All Research Papers Be Free?</td>\n",
       "      <td>Should All Research Papers Be Free?</td>\n",
       "    </tr>\n",
       "    <tr>\n",
       "      <th>3</th>\n",
       "      <td>How Apple Makes the Watch</td>\n",
       "      <td>The Arsenic DNA paper exposes flaws in peer review</td>\n",
       "      <td>How to read and understand a scientific paper: a guide for non-scientists</td>\n",
       "      <td>The Growing Impact of Old Scientific Papers</td>\n",
       "      <td>The Growing Impact of Old Scientific Papers</td>\n",
       "    </tr>\n",
       "    <tr>\n",
       "      <th>4</th>\n",
       "      <td>Website Impounded</td>\n",
       "      <td>Should All Research Papers Be Free?</td>\n",
       "      <td>Why I published in a predatory journal</td>\n",
       "      <td>The Arsenic DNA paper exposes flaws in peer review</td>\n",
       "      <td>The Arsenic DNA paper exposes flaws in peer review</td>\n",
       "    </tr>\n",
       "  </tbody>\n",
       "</table>\n",
       "</div>"
      ],
      "text/plain": [
       "                                                                          hdp  \\\n",
       "0                    U.S. Supreme Court Curbs Excessive Design Patent Damages   \n",
       "1  “Startup” asks internship applicant to build their app before phone screen   \n",
       "2                                                           Programming Sucks   \n",
       "3                                                   How Apple Makes the Watch   \n",
       "4                                                           Website Impounded   \n",
       "\n",
       "                                                                     lda_100  \\\n",
       "0                                The Growing Impact of Old Scientific Papers   \n",
       "1                                          Let’s make peer review scientific   \n",
       "2  How to read and understand a scientific paper: a guide for non-scientists   \n",
       "3                         The Arsenic DNA paper exposes flaws in peer review   \n",
       "4                                        Should All Research Papers Be Free?   \n",
       "\n",
       "                                                                      lda_50  \\\n",
       "0                                The Growing Impact of Old Scientific Papers   \n",
       "1                                          Let’s make peer review scientific   \n",
       "2                         The Arsenic DNA paper exposes flaws in peer review   \n",
       "3  How to read and understand a scientific paper: a guide for non-scientists   \n",
       "4                                     Why I published in a predatory journal   \n",
       "\n",
       "                                                                     lsi_300  \\\n",
       "0  Library-managed 'arXiv' spreads scientific advances rapidly and worldwide   \n",
       "1                                 Distill: a modern machine learning journal   \n",
       "2                                        Should All Research Papers Be Free?   \n",
       "3                                The Growing Impact of Old Scientific Papers   \n",
       "4                         The Arsenic DNA paper exposes flaws in peer review   \n",
       "\n",
       "                                                                     lsi_500  \n",
       "0  Library-managed 'arXiv' spreads scientific advances rapidly and worldwide  \n",
       "1                                 Distill: a modern machine learning journal  \n",
       "2                                        Should All Research Papers Be Free?  \n",
       "3                                The Growing Impact of Old Scientific Papers  \n",
       "4                         The Arsenic DNA paper exposes flaws in peer review  "
      ]
     },
     "execution_count": 68,
     "metadata": {},
     "output_type": "execute_result"
    }
   ],
   "source": [
    "print(\"Given story: {}\".format(given_stories[9]))\n",
    "story_recs_dataframes[9]"
   ]
  },
  {
   "cell_type": "code",
   "execution_count": 75,
   "metadata": {},
   "outputs": [],
   "source": [
    "save_pickle('story_ids_list', story_ids_list)"
   ]
  },
  {
   "cell_type": "code",
   "execution_count": 76,
   "metadata": {},
   "outputs": [
    {
     "data": {
      "text/plain": [
       "array([16582136, 11116274, 13682022, ...,  4443296,  4436063,  4333774])"
      ]
     },
     "execution_count": 76,
     "metadata": {},
     "output_type": "execute_result"
    }
   ],
   "source": [
    "story_ids_list"
   ]
  },
  {
   "cell_type": "code",
   "execution_count": 77,
   "metadata": {},
   "outputs": [
    {
     "data": {
      "text/plain": [
       "array([4562838, 4477119, 4443296, 4436063, 4333774])"
      ]
     },
     "execution_count": 77,
     "metadata": {},
     "output_type": "execute_result"
    }
   ],
   "source": [
    "story_ids_list[-5:]"
   ]
  },
  {
   "cell_type": "code",
   "execution_count": null,
   "metadata": {},
   "outputs": [],
   "source": []
  }
 ],
 "metadata": {
  "kernelspec": {
   "display_name": "Python 3",
   "language": "python",
   "name": "python3"
  },
  "language_info": {
   "codemirror_mode": {
    "name": "ipython",
    "version": 3
   },
   "file_extension": ".py",
   "mimetype": "text/x-python",
   "name": "python",
   "nbconvert_exporter": "python",
   "pygments_lexer": "ipython3",
   "version": "3.7.4"
  }
 },
 "nbformat": 4,
 "nbformat_minor": 4
}
