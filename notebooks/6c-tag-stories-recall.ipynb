{
 "cells": [
  {
   "cell_type": "code",
   "execution_count": 1,
   "metadata": {},
   "outputs": [],
   "source": [
    "from joblib import Parallel, delayed, cpu_count\n",
    "import funcy as fp\n",
    "from multiprocessing import Pool\n",
    "\n",
    "import pandas as pd\n",
    "import pandas.io.sql as sqlio\n",
    "import psycopg2\n",
    "\n",
    "import re\n",
    "\n",
    "import numpy as np\n",
    "import matplotlib.pyplot as plt\n",
    "import seaborn as sns\n",
    "\n",
    "# Set the maximum width of columns\n",
    "pd.set_option('max_colwidth', 200)"
   ]
  },
  {
   "cell_type": "code",
   "execution_count": 2,
   "metadata": {},
   "outputs": [],
   "source": [
    "# def _series_chunks(s, n_jobs):\n",
    "#     if n_jobs < 0:\n",
    "#         # so, have n chunks if we are using all n cores/cpus = cpu_count() + 1 + n_jobs\n",
    "#         n_jobs = cpu_count() + 1 + n_jobs\n",
    "#     n = len(s)\n",
    "#     n_chunks = int(n / n_jobs)\n",
    "#     return (s.iloc[ilocs] for ilocs in fp.chunks(n_chunks, range(n)))\n",
    "\n",
    "# def series_pmap(s, f, n_jobs=-1):\n",
    "#     if n_jobs == 0:\n",
    "#         return s.map(f)\n",
    "#     return pd.concat(Parallel(n_jobs=n_jobs)(delayed(series_pmap)(sub_series, f, n_jobs=0) \\\n",
    "#                                                  for sub_series in _series_chunks(s, n_jobs)))"
   ]
  },
  {
   "cell_type": "code",
   "execution_count": 3,
   "metadata": {},
   "outputs": [
    {
     "name": "stdout",
     "output_type": "stream",
     "text": [
      "CPU times: user 314 ms, sys: 79.9 ms, total: 394 ms\n",
      "Wall time: 1.81 s\n"
     ]
    }
   ],
   "source": [
    "%%time\n",
    "\n",
    "conn = psycopg2.connect(\"host=localhost dbname=postgres user=postgres\")\n",
    "\n",
    "titles_df = sqlio.read_sql_query(\"SELECT id, title FROM bq_all\", conn, index_col='id')"
   ]
  },
  {
   "cell_type": "code",
   "execution_count": 4,
   "metadata": {},
   "outputs": [],
   "source": [
    "tag_regex_dict = {\n",
    "    \"Python\": r'python|pandas|numpy|scipy|matplotlib|pydata|django',\n",
    "    \"Mobile\": r'mobile|android|iphone|phone|\\bios\\b|react native',\n",
    "    \"Design\": r'design',\n",
    "    \"Security\": r'security|worm|ransomware|attack|virus|patch|infosec',\n",
    "    \"Blockchain\": r'blockchain|bitcoin|ethereum|solidity|dapps|smart contract',\n",
    "    \"AI/Machine Learning\": r'\\bai\\b|artificial intelligence|machine learning|deep learning|tensorflow|machine intelligence|reinforcement learning|unsupervised learning|supervised learning|neural network|image classification',\n",
    "    \"Google\": r'google|goog',\n",
    "    \"Microsoft\": r'microsoft|msft|windows|visual studio|azure',\n",
    "    \"Apple\": r'apple|aapl|mac\\b|os ?x',\n",
    "    \"Facebook\": r'facebook|\\bfb\\b',\n",
    "    \"Amazon\": r'amazon|amzn|\\baws\\b',\n",
    "    \"Startups\": r'startup|\\bvc\\b',\n",
    "    \"Politics\": r'trump|comey|russian|fbi|snowden|neutrality|white house|government|brexit|nsa',\n",
    "    \"Databases\": r'sql|cockroachdb|mongodb|mariadb|orientdb|couchdb|database|\\bdb\\b|dbms|oltp|\\bolap\\b|neo4j|\\bredis\\b',\n",
    "    \"Linux\": r'linux|debian|ubuntu|centos',\n",
    "    \"Data Science\": r'data scien|big data|data vi|data ?set|data analy|machine learning|pandas|ggplot2|numpy|scipy|matplotlib|pydata|statistical learning|statistical program|\\bsas\\b|spss|bayesian|frequentist',\n",
    "    \"Science\": r'bio|drug|researcher|genomic|physics|scienti|spacex|\\\\bmoon\\\\b|nasa|\\\\bastro|\\\\bmars\\\\b',\n",
    "    \"Math\": r'math|geome|cryptograph|algebra|calculus|graph theory|game theory|differential equations|trigonometry',\n",
    "    \"Javascript\": r'javascript|jquery|d3|angular|redux|\\.js|ecmascript|\\bvue',\n",
    "    \"Web Dev\": r'web app|javascript|\\.js|front.?end|ruby on rails|django|css|web.*dev',\n",
    "    \"DevOps\": r'sys.*admin|dev.*ops|kubernetes|docker|containerization|container|virtualization|serverless|continuous integration|continuous deployment|continuous delivery|site reliability|ec2|\\bebs\\b',\n",
    "    \"Hardware/IoT\": r'raspberry pi|electronics|analog computer|arduino|micro.?controller|micro.?processor|\\biot\\b|internet of things',\n",
    "    \"AR/VR\": r'augmented reality|\\bar\\b|virtual reality|\\bvr\\b|htc vive|oculus|google cardboard|hololens',\n",
    "    \"Games\": r'steam gam|video gam|mobile gam|pc gam|indie gam|nintendo|\\bsnes\\b|gaming|game.*dev|unreal engine|xbox|rpg|multiplayer'\n",
    "}\n",
    "\n",
    "tags_list = list(tag_regex_dict.keys())\n",
    "\n",
    "tags_dict = {tag: [] for tag in tags_list}\n",
    "\n",
    "def tag_titles(title):\n",
    "    lowercase = title.lower()\n",
    "    for tag in tags_list:\n",
    "        regex_pattern = tag_regex_dict[tag]\n",
    "        if re.search(regex_pattern, lowercase): \n",
    "            tags_dict[tag].append(1)\n",
    "        else:\n",
    "            tags_dict[tag].append(0)"
   ]
  },
  {
   "cell_type": "code",
   "execution_count": 5,
   "metadata": {},
   "outputs": [
    {
     "name": "stdout",
     "output_type": "stream",
     "text": [
      "CPU times: user 20.8 s, sys: 321 ms, total: 21.2 s\n",
      "Wall time: 56.6 s\n"
     ]
    },
    {
     "data": {
      "text/plain": [
       "id\n",
       "3714951     None\n",
       "5006090     None\n",
       "9903760     None\n",
       "12328081    None\n",
       "13295530    None\n",
       "8054560     None\n",
       "7327542     None\n",
       "8961551     None\n",
       "6415872     None\n",
       "16008268    None\n",
       "10482739    None\n",
       "8099713     None\n",
       "3670862     None\n",
       "9128404     None\n",
       "3709259     None\n",
       "4412109     None\n",
       "13351038    None\n",
       "5678943     None\n",
       "9736794     None\n",
       "12328006    None\n",
       "14567411    None\n",
       "4793670     None\n",
       "11074537    None\n",
       "15670827    None\n",
       "12000264    None\n",
       "10978077    None\n",
       "8433247     None\n",
       "8206700     None\n",
       "10240408    None\n",
       "13413725    None\n",
       "            ... \n",
       "5741622     None\n",
       "11431108    None\n",
       "8803138     None\n",
       "8221524     None\n",
       "10234432    None\n",
       "7616697     None\n",
       "4949981     None\n",
       "13086059    None\n",
       "11096598    None\n",
       "13100851    None\n",
       "5003980     None\n",
       "9838595     None\n",
       "9389116     None\n",
       "7691289     None\n",
       "15814907    None\n",
       "11735020    None\n",
       "15655866    None\n",
       "3429054     None\n",
       "10484493    None\n",
       "11001725    None\n",
       "5872829     None\n",
       "16851165    None\n",
       "3438134     None\n",
       "12429445    None\n",
       "4661913     None\n",
       "16328068    None\n",
       "14537595    None\n",
       "3746227     None\n",
       "4774483     None\n",
       "9219002     None\n",
       "Name: title, Length: 166698, dtype: object"
      ]
     },
     "execution_count": 5,
     "metadata": {},
     "output_type": "execute_result"
    }
   ],
   "source": [
    "%%time\n",
    "\n",
    "titles_df[\"title\"].map(tag_titles)"
   ]
  },
  {
   "cell_type": "code",
   "execution_count": 6,
   "metadata": {},
   "outputs": [
    {
     "name": "stdout",
     "output_type": "stream",
     "text": [
      "CPU times: user 1.32 s, sys: 117 ms, total: 1.43 s\n",
      "Wall time: 3.87 s\n"
     ]
    }
   ],
   "source": [
    "%%time\n",
    "\n",
    "for tag, encoding in tags_dict.items():\n",
    "    titles_df[tag] = encoding"
   ]
  },
  {
   "cell_type": "code",
   "execution_count": 7,
   "metadata": {},
   "outputs": [
    {
     "name": "stdout",
     "output_type": "stream",
     "text": [
      "CPU times: user 489 ms, sys: 142 ms, total: 632 ms\n",
      "Wall time: 1.79 s\n"
     ]
    }
   ],
   "source": [
    "%%time\n",
    "\n",
    "no_tags_ids = titles_df[(titles_df[list(tags_list)] == 0).all(axis=1)].index.values\n",
    "tagged_df = titles_df.drop(index=no_tags_ids)"
   ]
  },
  {
   "cell_type": "code",
   "execution_count": 8,
   "metadata": {},
   "outputs": [
    {
     "name": "stdout",
     "output_type": "stream",
     "text": [
      "<class 'pandas.core.frame.DataFrame'>\n",
      "Int64Index: 46685 entries, 6415872 to 3746227\n",
      "Data columns (total 25 columns):\n",
      "title                  46685 non-null object\n",
      "Python                 46685 non-null int64\n",
      "Mobile                 46685 non-null int64\n",
      "Design                 46685 non-null int64\n",
      "Security               46685 non-null int64\n",
      "Blockchain             46685 non-null int64\n",
      "AI/Machine Learning    46685 non-null int64\n",
      "Google                 46685 non-null int64\n",
      "Microsoft              46685 non-null int64\n",
      "Apple                  46685 non-null int64\n",
      "Facebook               46685 non-null int64\n",
      "Amazon                 46685 non-null int64\n",
      "Startups               46685 non-null int64\n",
      "Politics               46685 non-null int64\n",
      "Databases              46685 non-null int64\n",
      "Linux                  46685 non-null int64\n",
      "Data Science           46685 non-null int64\n",
      "Science                46685 non-null int64\n",
      "Math                   46685 non-null int64\n",
      "Javascript             46685 non-null int64\n",
      "Web Dev                46685 non-null int64\n",
      "DevOps                 46685 non-null int64\n",
      "Hardware/IoT           46685 non-null int64\n",
      "AR/VR                  46685 non-null int64\n",
      "Games                  46685 non-null int64\n",
      "dtypes: int64(24), object(1)\n",
      "memory usage: 9.3+ MB\n"
     ]
    }
   ],
   "source": [
    "tagged_df.info()"
   ]
  },
  {
   "cell_type": "code",
   "execution_count": 9,
   "metadata": {},
   "outputs": [
    {
     "name": "stdout",
     "output_type": "stream",
     "text": [
      "CPU times: user 16.4 ms, sys: 6.82 ms, total: 23.2 ms\n",
      "Wall time: 45 ms\n"
     ]
    }
   ],
   "source": [
    "%%time\n",
    "\n",
    "tag_count_df = tagged_df.sum(axis='index', numeric_only=True)"
   ]
  },
  {
   "cell_type": "code",
   "execution_count": 10,
   "metadata": {},
   "outputs": [],
   "source": [
    "tag_count_df = tag_count_df.to_frame(name=\"count\")\n",
    "tag_count_df = tag_count_df.sort_values(by=\"count\", ascending=False)\n",
    "tag_count_df = tag_count_df.reset_index()"
   ]
  },
  {
   "cell_type": "code",
   "execution_count": 16,
   "metadata": {},
   "outputs": [],
   "source": [
    "tag_count_df[\"count\"] = tag_count_df[\"count\"] / tag_count_df[\"count\"].sum() * 100"
   ]
  },
  {
   "cell_type": "code",
   "execution_count": 19,
   "metadata": {},
   "outputs": [
    {
     "data": {
      "text/html": [
       "<div>\n",
       "<style scoped>\n",
       "    .dataframe tbody tr th:only-of-type {\n",
       "        vertical-align: middle;\n",
       "    }\n",
       "\n",
       "    .dataframe tbody tr th {\n",
       "        vertical-align: top;\n",
       "    }\n",
       "\n",
       "    .dataframe thead th {\n",
       "        text-align: right;\n",
       "    }\n",
       "</style>\n",
       "<table border=\"1\" class=\"dataframe\">\n",
       "  <thead>\n",
       "    <tr style=\"text-align: right;\">\n",
       "      <th></th>\n",
       "      <th>index</th>\n",
       "      <th>count</th>\n",
       "    </tr>\n",
       "  </thead>\n",
       "  <tbody>\n",
       "    <tr>\n",
       "      <th>19</th>\n",
       "      <td>DevOps</td>\n",
       "      <td>2.059648</td>\n",
       "    </tr>\n",
       "    <tr>\n",
       "      <th>20</th>\n",
       "      <td>Data Science</td>\n",
       "      <td>1.957915</td>\n",
       "    </tr>\n",
       "    <tr>\n",
       "      <th>21</th>\n",
       "      <td>Games</td>\n",
       "      <td>1.477806</td>\n",
       "    </tr>\n",
       "    <tr>\n",
       "      <th>22</th>\n",
       "      <td>Hardware/IoT</td>\n",
       "      <td>1.306466</td>\n",
       "    </tr>\n",
       "    <tr>\n",
       "      <th>23</th>\n",
       "      <td>AR/VR</td>\n",
       "      <td>0.696068</td>\n",
       "    </tr>\n",
       "  </tbody>\n",
       "</table>\n",
       "</div>"
      ],
      "text/plain": [
       "           index     count\n",
       "19        DevOps  2.059648\n",
       "20  Data Science  1.957915\n",
       "21         Games  1.477806\n",
       "22  Hardware/IoT  1.306466\n",
       "23         AR/VR  0.696068"
      ]
     },
     "execution_count": 19,
     "metadata": {},
     "output_type": "execute_result"
    }
   ],
   "source": [
    "tag_count_df.tail()"
   ]
  },
  {
   "cell_type": "code",
   "execution_count": 18,
   "metadata": {},
   "outputs": [
    {
     "data": {
      "image/png": "[encoded data removed]",
      "text/plain": [
       "<Figure size 1080x360 with 1 Axes>"
      ]
     },
     "metadata": {},
     "output_type": "display_data"
    }
   ],
   "source": [
    "plt.figure(figsize=(15, 5))\n",
    "sns.barplot(x=\"index\", y=\"count\", data=tag_count_df)\n",
    "plt.xticks(rotation=75)\n",
    "plt.title(\"Barchart showing story count for each tag\")\n",
    "plt.ylabel(\"Number of stories with tag\")\n",
    "plt.xlabel(\"Tag\")\n",
    "plt.show()"
   ]
  },
  {
   "cell_type": "code",
   "execution_count": 42,
   "metadata": {},
   "outputs": [],
   "source": [
    "story_count_df = tagged_df.sum(axis='columns', numeric_only=True).to_frame(name=\"num_tags\").groupby(['num_tags']).size().to_frame(name=\"count\")"
   ]
  },
  {
   "cell_type": "code",
   "execution_count": 43,
   "metadata": {},
   "outputs": [
    {
     "data": {
      "text/html": [
       "<div>\n",
       "<style scoped>\n",
       "    .dataframe tbody tr th:only-of-type {\n",
       "        vertical-align: middle;\n",
       "    }\n",
       "\n",
       "    .dataframe tbody tr th {\n",
       "        vertical-align: top;\n",
       "    }\n",
       "\n",
       "    .dataframe thead th {\n",
       "        text-align: right;\n",
       "    }\n",
       "</style>\n",
       "<table border=\"1\" class=\"dataframe\">\n",
       "  <thead>\n",
       "    <tr style=\"text-align: right;\">\n",
       "      <th></th>\n",
       "      <th>count</th>\n",
       "    </tr>\n",
       "    <tr>\n",
       "      <th>num_tags</th>\n",
       "      <th></th>\n",
       "    </tr>\n",
       "  </thead>\n",
       "  <tbody>\n",
       "    <tr>\n",
       "      <th>1</th>\n",
       "      <td>38284</td>\n",
       "    </tr>\n",
       "    <tr>\n",
       "      <th>2</th>\n",
       "      <td>7536</td>\n",
       "    </tr>\n",
       "    <tr>\n",
       "      <th>3</th>\n",
       "      <td>797</td>\n",
       "    </tr>\n",
       "    <tr>\n",
       "      <th>4</th>\n",
       "      <td>59</td>\n",
       "    </tr>\n",
       "    <tr>\n",
       "      <th>5</th>\n",
       "      <td>8</td>\n",
       "    </tr>\n",
       "    <tr>\n",
       "      <th>6</th>\n",
       "      <td>1</td>\n",
       "    </tr>\n",
       "  </tbody>\n",
       "</table>\n",
       "</div>"
      ],
      "text/plain": [
       "          count\n",
       "num_tags       \n",
       "1         38284\n",
       "2          7536\n",
       "3           797\n",
       "4            59\n",
       "5             8\n",
       "6             1"
      ]
     },
     "execution_count": 43,
     "metadata": {},
     "output_type": "execute_result"
    }
   ],
   "source": [
    "story_count_df"
   ]
  },
  {
   "cell_type": "code",
   "execution_count": 13,
   "metadata": {},
   "outputs": [],
   "source": [
    "# print(\"sup\")"
   ]
  },
  {
   "cell_type": "code",
   "execution_count": null,
   "metadata": {},
   "outputs": [],
   "source": []
  },
  {
   "cell_type": "code",
   "execution_count": null,
   "metadata": {},
   "outputs": [],
   "source": []
  }
 ],
 "metadata": {
  "kernelspec": {
   "display_name": "Python 3",
   "language": "python",
   "name": "python3"
  },
  "language_info": {
   "codemirror_mode": {
    "name": "ipython",
    "version": 3
   },
   "file_extension": ".py",
   "mimetype": "text/x-python",
   "name": "python",
   "nbconvert_exporter": "python",
   "pygments_lexer": "ipython3",
   "version": "3.7.4"
  }
 },
 "nbformat": 4,
 "nbformat_minor": 4
}
